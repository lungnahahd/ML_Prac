{
  "nbformat": 4,
  "nbformat_minor": 0,
  "metadata": {
    "colab": {
      "name": "5_polynomial_regression_MLE.ipynb",
      "provenance": [],
      "authorship_tag": "ABX9TyNq/xJPREQrrB93+ilKjSAT",
      "include_colab_link": true
    },
    "kernelspec": {
      "name": "python3",
      "display_name": "Python 3"
    },
    "language_info": {
      "name": "python"
    }
  },
  "cells": [
    {
      "cell_type": "markdown",
      "metadata": {
        "id": "view-in-github",
        "colab_type": "text"
      },
      "source": [
        "<a href=\"https://colab.research.google.com/github/lungnahahd/Tensorflow_Prac/blob/main/5_polynomial_regression_MLE.ipynb\" target=\"_parent\"><img src=\"https://colab.research.google.com/assets/colab-badge.svg\" alt=\"Open In Colab\"/></a>"
      ]
    },
    {
      "cell_type": "code",
      "metadata": {
        "colab": {
          "base_uri": "https://localhost:8080/",
          "height": 374
        },
        "id": "Ux1U6_xAzMOw",
        "outputId": "61c0fa62-f676-4c02-e97a-7fcaee4c377b"
      },
      "source": [
        "import numpy as np\n",
        "import matplotlib.pyplot as plt\n",
        "\n",
        "num_data = 101\n",
        "x_train = np.linspace(-1,1,101)\n",
        "num_coeffs = 6\n",
        "y_train_coeffs = [1,2,3,4,5,6]\n",
        "y_train = 0\n",
        "\n",
        "for i in range(num_coeffs):\n",
        "  y_train += y_train_coeffs[i] * np.power(x_train,i)\n",
        "\n",
        "y_train += np.random.randn(*x_train.shape) * 2\n",
        "\n",
        "Y = np.matrix(y_train).T\n",
        "X = np.matrix(np.column_stack((np.power(x_train,5), np.power(x_train,4))))\n",
        "X = np.matrix(np.column_stack((X,np.power(x_train,3))))\n",
        "X = np.matrix(np.column_stack((X,np.power(x_train,2))))\n",
        "X = np.matrix(np.column_stack((X,x_train)))\n",
        "X = np.matrix(np.column_stack((X, np.ones(num_data))))\n",
        "\n",
        "C = X.T * X # MAP 방식을 예시로 적용하기 위해 여기서는 임의의 수를 0.0001으로 대입\n",
        "C_inv = C.I\n",
        "\n",
        "w = C_inv * X.T * Y\n",
        "print(w)\n",
        "\n",
        "plt.scatter(x_train, y_train)\n",
        "y_learned = X * w\n",
        "plt.plot(x_train, y_learned, 'r')\n",
        "plt.show()"
      ],
      "execution_count": 1,
      "outputs": [
        {
          "output_type": "stream",
          "text": [
            "[[ 8.52002466]\n",
            " [ 3.28682626]\n",
            " [-0.52175712]\n",
            " [ 5.06895209]\n",
            " [ 3.22518298]\n",
            " [ 0.40216151]]\n"
          ],
          "name": "stdout"
        },
        {
          "output_type": "display_data",
          "data": {
            "image/png": "[encoded data removed]",
            "text/plain": [
              "<Figure size 432x288 with 1 Axes>"
            ]
          },
          "metadata": {
            "tags": [],
            "needs_background": "light"
          }
        }
      ]
    }
  ]
}