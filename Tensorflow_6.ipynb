{
  "nbformat": 4,
  "nbformat_minor": 0,
  "metadata": {
    "colab": {
      "name": "Tensorflow_6",
      "provenance": [],
      "authorship_tag": "ABX9TyNmNV2Z1sdOhqIkR5cS8lA2",
      "include_colab_link": true
    },
    "kernelspec": {
      "name": "python3",
      "display_name": "Python 3"
    }
  },
  "cells": [
    {
      "cell_type": "markdown",
      "metadata": {
        "id": "view-in-github",
        "colab_type": "text"
      },
      "source": [
        "<a href=\"https://colab.research.google.com/github/lungnahahd/Tensorflow_Prac/blob/main/Tensorflow_6.ipynb\" target=\"_parent\"><img src=\"https://colab.research.google.com/assets/colab-badge.svg\" alt=\"Open In Colab\"/></a>"
      ]
    },
    {
      "cell_type": "code",
      "metadata": {
        "id": "GdyVWtiHWIl1"
      },
      "source": [
        "import tensorflow as tf\r\n",
        "import pandas as pd\r\n",
        "import matplotlib.pyplot as plt"
      ],
      "execution_count": 1,
      "outputs": []
    },
    {
      "cell_type": "code",
      "metadata": {
        "colab": {
          "base_uri": "https://localhost:8080/"
        },
        "id": "jzDkPDlHWbLp",
        "outputId": "67d0d2fd-ebd1-4966-f50d-9d977e2c4e56"
      },
      "source": [
        "(흑독립, 흑종속),__ = tf.keras.datasets.mnist.load_data()\r\n",
        "(컬독립, 컬종속),__ = tf.keras.datasets.cifar10.load_data()"
      ],
      "execution_count": 2,
      "outputs": [
        {
          "output_type": "stream",
          "text": [
            "Downloading data from https://storage.googleapis.com/tensorflow/tf-keras-datasets/mnist.npz\n",
            "11493376/11490434 [==============================] - 0s 0us/step\n",
            "Downloading data from https://www.cs.toronto.edu/~kriz/cifar-10-python.tar.gz\n",
            "170500096/170498071 [==============================] - 15s 0us/step\n"
          ],
          "name": "stdout"
        }
      ]
    },
    {
      "cell_type": "code",
      "metadata": {
        "colab": {
          "base_uri": "https://localhost:8080/"
        },
        "id": "Lvu4tHjWXm9x",
        "outputId": "138c6eb9-c920-4e27-ef6c-ec85875e2811"
      },
      "source": [
        "print(흑독립.shape)\r\n",
        "print(흑종속.shape)\r\n",
        "print(컬독립.shape)\r\n",
        "print(컬종속.shape)"
      ],
      "execution_count": 5,
      "outputs": [
        {
          "output_type": "stream",
          "text": [
            "(60000, 28, 28)\n",
            "(60000,)\n",
            "(50000, 32, 32, 3)\n",
            "(50000, 1)\n"
          ],
          "name": "stdout"
        }
      ]
    },
    {
      "cell_type": "code",
      "metadata": {
        "colab": {
          "base_uri": "https://localhost:8080/"
        },
        "id": "trNSlRtrbMZN",
        "outputId": "ca104561-d859-437e-c50a-c5af8afe23e3"
      },
      "source": [
        "# 이미지를 표로 만들기 위해 reshape 또는 flatten 사용 가능\r\n",
        "흑독립 = 흑독립.reshape(60000,784)\r\n",
        "흑종속 = pd.get_dummies(흑종속)\r\n",
        "print(흑독립.shape, 흑종속.shape)"
      ],
      "execution_count": 6,
      "outputs": [
        {
          "output_type": "stream",
          "text": [
            "(60000, 784) (60000, 10)\n"
          ],
          "name": "stdout"
        }
      ]
    },
    {
      "cell_type": "code",
      "metadata": {
        "colab": {
          "base_uri": "https://localhost:8080/"
        },
        "id": "B4bfkxdgdm31",
        "outputId": "b5c75f96-f69d-4710-dbbb-5253b40c9742"
      },
      "source": [
        "print(흑종속.head)"
      ],
      "execution_count": 7,
      "outputs": [
        {
          "output_type": "stream",
          "text": [
            "<bound method NDFrame.head of        0  1  2  3  4  5  6  7  8  9\n",
            "0      0  0  0  0  0  1  0  0  0  0\n",
            "1      1  0  0  0  0  0  0  0  0  0\n",
            "2      0  0  0  0  1  0  0  0  0  0\n",
            "3      0  1  0  0  0  0  0  0  0  0\n",
            "4      0  0  0  0  0  0  0  0  0  1\n",
            "...   .. .. .. .. .. .. .. .. .. ..\n",
            "59995  0  0  0  0  0  0  0  0  1  0\n",
            "59996  0  0  0  1  0  0  0  0  0  0\n",
            "59997  0  0  0  0  0  1  0  0  0  0\n",
            "59998  0  0  0  0  0  0  1  0  0  0\n",
            "59999  0  0  0  0  0  0  0  0  1  0\n",
            "\n",
            "[60000 rows x 10 columns]>\n"
          ],
          "name": "stdout"
        }
      ]
    },
    {
      "cell_type": "code",
      "metadata": {
        "id": "Yv_yOPR7eZ30"
      },
      "source": [
        "X = tf.keras.layers.Input(shape=[784])\r\n",
        "H = tf.keras.layers.Dense(15, activation='swish')(X)\r\n",
        "Y = tf.keras.layers.Dense(10,activation='softmax')(H)\r\n",
        "model = tf.keras.models.Model(X,Y)\r\n",
        "model.compile(loss='categorical_crossentropy',metrics='accuracy')"
      ],
      "execution_count": 10,
      "outputs": []
    },
    {
      "cell_type": "code",
      "metadata": {
        "colab": {
          "base_uri": "https://localhost:8080/"
        },
        "id": "WXZmQ6RvfETw",
        "outputId": "1fd5647c-d8d9-4dcb-e55b-59ff0ef6f31c"
      },
      "source": [
        "model.fit(흑독립,흑종속,epochs=100,verbose=0)"
      ],
      "execution_count": 12,
      "outputs": [
        {
          "output_type": "execute_result",
          "data": {
            "text/plain": [
              "<tensorflow.python.keras.callbacks.History at 0x7f961627d860>"
            ]
          },
          "metadata": {
            "tags": []
          },
          "execution_count": 12
        }
      ]
    },
    {
      "cell_type": "code",
      "metadata": {
        "colab": {
          "base_uri": "https://localhost:8080/"
        },
        "id": "UISCyIGWfU4d",
        "outputId": "47a214f3-ad2f-4a76-94c8-8c7cb5c48df7"
      },
      "source": [
        "model.fit(흑독립,흑종속, epochs=10)"
      ],
      "execution_count": 13,
      "outputs": [
        {
          "output_type": "stream",
          "text": [
            "Epoch 1/10\n",
            "1875/1875 [==============================] - 3s 1ms/step - loss: 0.6391 - accuracy: 0.8488\n",
            "Epoch 2/10\n",
            "1875/1875 [==============================] - 3s 1ms/step - loss: 0.6278 - accuracy: 0.8491\n",
            "Epoch 3/10\n",
            "1875/1875 [==============================] - 3s 1ms/step - loss: 0.6359 - accuracy: 0.8477\n",
            "Epoch 4/10\n",
            "1875/1875 [==============================] - 3s 1ms/step - loss: 0.6386 - accuracy: 0.8479\n",
            "Epoch 5/10\n",
            "1875/1875 [==============================] - 3s 1ms/step - loss: 0.6351 - accuracy: 0.8481\n",
            "Epoch 6/10\n",
            "1875/1875 [==============================] - 3s 1ms/step - loss: 0.6352 - accuracy: 0.8479\n",
            "Epoch 7/10\n",
            "1875/1875 [==============================] - 3s 1ms/step - loss: 0.6444 - accuracy: 0.8486\n",
            "Epoch 8/10\n",
            "1875/1875 [==============================] - 3s 1ms/step - loss: 0.6328 - accuracy: 0.8489\n",
            "Epoch 9/10\n",
            "1875/1875 [==============================] - 3s 1ms/step - loss: 0.6337 - accuracy: 0.8490\n",
            "Epoch 10/10\n",
            "1875/1875 [==============================] - 3s 1ms/step - loss: 0.6393 - accuracy: 0.8491\n"
          ],
          "name": "stdout"
        },
        {
          "output_type": "execute_result",
          "data": {
            "text/plain": [
              "<tensorflow.python.keras.callbacks.History at 0x7f9617ff74e0>"
            ]
          },
          "metadata": {
            "tags": []
          },
          "execution_count": 13
        }
      ]
    },
    {
      "cell_type": "code",
      "metadata": {
        "colab": {
          "base_uri": "https://localhost:8080/"
        },
        "id": "x4I3Mjb0hVSk",
        "outputId": "f50b8508-26ad-4bc2-b257-a8bb0744e6bb"
      },
      "source": [
        "model.predict(흑독립[0:5])"
      ],
      "execution_count": 15,
      "outputs": [
        {
          "output_type": "execute_result",
          "data": {
            "text/plain": [
              "array([[0.0000000e+00, 0.0000000e+00, 0.0000000e+00, 1.3402405e-02,\n",
              "        0.0000000e+00, 9.8659760e-01, 4.1617875e-23, 0.0000000e+00,\n",
              "        1.1723903e-25, 4.5848672e-09],\n",
              "       [9.9724066e-01, 7.5826805e-29, 1.0461627e-03, 1.6802647e-05,\n",
              "        3.1466060e-12, 1.4706508e-03, 3.7838103e-18, 2.2388580e-04,\n",
              "        1.1637117e-06, 6.8528101e-07],\n",
              "       [4.9074077e-16, 1.0797559e-15, 2.9629210e-09, 1.7725800e-07,\n",
              "        8.7690818e-01, 2.4524203e-05, 6.5934349e-19, 6.0595991e-04,\n",
              "        7.7095603e-05, 1.2238405e-01],\n",
              "       [0.0000000e+00, 9.7566932e-01, 6.4740628e-03, 7.0065432e-03,\n",
              "        2.5624310e-22, 9.3650533e-06, 8.7482102e-09, 1.0469390e-02,\n",
              "        3.7110661e-04, 3.1372137e-27],\n",
              "       [4.3102043e-21, 4.8235985e-26, 1.6834204e-11, 4.7891200e-07,\n",
              "        9.6550211e-04, 9.7802313e-06, 7.3811873e-35, 2.1062780e-03,\n",
              "        7.7967408e-05, 9.9684000e-01]], dtype=float32)"
            ]
          },
          "metadata": {
            "tags": []
          },
          "execution_count": 15
        }
      ]
    },
    {
      "cell_type": "code",
      "metadata": {
        "colab": {
          "base_uri": "https://localhost:8080/"
        },
        "id": "Z_2SyGB2hkSq",
        "outputId": "262a7fb3-550d-4783-9a6e-645aa546b0b3"
      },
      "source": [
        "print(흑종속[0:5])"
      ],
      "execution_count": 18,
      "outputs": [
        {
          "output_type": "stream",
          "text": [
            "   0  1  2  3  4  5  6  7  8  9\n",
            "0  0  0  0  0  0  1  0  0  0  0\n",
            "1  1  0  0  0  0  0  0  0  0  0\n",
            "2  0  0  0  0  1  0  0  0  0  0\n",
            "3  0  1  0  0  0  0  0  0  0  0\n",
            "4  0  0  0  0  0  0  0  0  0  1\n"
          ],
          "name": "stdout"
        }
      ]
    },
    {
      "cell_type": "code",
      "metadata": {
        "colab": {
          "base_uri": "https://localhost:8080/"
        },
        "id": "fecdfuDHiIDv",
        "outputId": "b9d601af-f4fd-45db-adf5-b14b32f51ca9"
      },
      "source": [
        "pred = model.predict(흑독립[6:10])\r\n",
        "print(pd.DataFrame(pred).round(2))\r\n",
        "print(흑종속[6:10])"
      ],
      "execution_count": 19,
      "outputs": [
        {
          "output_type": "stream",
          "text": [
            "     0     1    2     3     4    5    6     7     8     9\n",
            "0  0.0  0.99  0.0  0.00  0.00  0.0  0.0  0.01  0.00  0.00\n",
            "1  0.0  0.00  0.0  0.99  0.00  0.0  0.0  0.00  0.01  0.00\n",
            "2  0.0  0.97  0.0  0.01  0.00  0.0  0.0  0.01  0.01  0.00\n",
            "3  0.0  0.00  0.0  0.00  0.99  0.0  0.0  0.00  0.00  0.01\n",
            "   0  1  2  3  4  5  6  7  8  9\n",
            "6  0  1  0  0  0  0  0  0  0  0\n",
            "7  0  0  0  1  0  0  0  0  0  0\n",
            "8  0  1  0  0  0  0  0  0  0  0\n",
            "9  0  0  0  0  1  0  0  0  0  0\n"
          ],
          "name": "stdout"
        }
      ]
    }
  ]
}