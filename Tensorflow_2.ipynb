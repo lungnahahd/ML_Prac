{
  "nbformat": 4,
  "nbformat_minor": 0,
  "metadata": {
    "colab": {
      "name": "Tensorflow_2",
      "provenance": [],
      "authorship_tag": "ABX9TyO5OXV1EcHpV9NCUMaKHVRb",
      "include_colab_link": true
    },
    "kernelspec": {
      "name": "python3",
      "display_name": "Python 3"
    }
  },
  "cells": [
    {
      "cell_type": "markdown",
      "metadata": {
        "id": "view-in-github",
        "colab_type": "text"
      },
      "source": [
        "<a href=\"https://colab.research.google.com/github/lungnahahd/Tensorflow_Prac/blob/main/Tensorflow_2.ipynb\" target=\"_parent\"><img src=\"https://colab.research.google.com/assets/colab-badge.svg\" alt=\"Open In Colab\"/></a>"
      ]
    },
    {
      "cell_type": "code",
      "metadata": {
        "id": "dS3YaHkcQhEV"
      },
      "source": [
        "import pandas as pd\r\n",
        "import tensorflow as tf"
      ],
      "execution_count": 2,
      "outputs": []
    },
    {
      "cell_type": "code",
      "metadata": {
        "id": "Ay88qev7PrGl"
      },
      "source": [
        "파일경로 = 'https://raw.githubusercontent.com/blackdew/tensorflow1/master/csv/iris.csv'\r\n",
        "데이터 = pd.read_csv(파일경로)\r\n",
        "데이터 = pd.get_dummies(데이터)"
      ],
      "execution_count": 3,
      "outputs": []
    },
    {
      "cell_type": "code",
      "metadata": {
        "colab": {
          "base_uri": "https://localhost:8080/"
        },
        "id": "JcbbAO0jQexD",
        "outputId": "d6cdb94d-79e0-4472-bcbd-37e108dc54a0"
      },
      "source": [
        "print(데이터.head)"
      ],
      "execution_count": 5,
      "outputs": [
        {
          "output_type": "stream",
          "text": [
            "<bound method NDFrame.head of      꽃잎길이  꽃잎폭  꽃받침길이  꽃받침폭  품종_setosa  품종_versicolor  품종_virginica\n",
            "0     5.1  3.5    1.4   0.2          1              0             0\n",
            "1     4.9  3.0    1.4   0.2          1              0             0\n",
            "2     4.7  3.2    1.3   0.2          1              0             0\n",
            "3     4.6  3.1    1.5   0.2          1              0             0\n",
            "4     5.0  3.6    1.4   0.2          1              0             0\n",
            "..    ...  ...    ...   ...        ...            ...           ...\n",
            "145   6.7  3.0    5.2   2.3          0              0             1\n",
            "146   6.3  2.5    5.0   1.9          0              0             1\n",
            "147   6.5  3.0    5.2   2.0          0              0             1\n",
            "148   6.2  3.4    5.4   2.3          0              0             1\n",
            "149   5.9  3.0    5.1   1.8          0              0             1\n",
            "\n",
            "[150 rows x 7 columns]>\n"
          ],
          "name": "stdout"
        }
      ]
    },
    {
      "cell_type": "code",
      "metadata": {
        "colab": {
          "base_uri": "https://localhost:8080/"
        },
        "id": "PyELyCYtQgDL",
        "outputId": "cb39d81d-4ac6-47dd-d2c2-25705c2b5f5a"
      },
      "source": [
        "원인 = 데이터[['꽃잎길이','꽃잎폭','꽃받침길이', '꽃받침폭']]\r\n",
        "결과 = 데이터[['품종_setosa','품종_versicolor','품종_virginica' ]]\r\n",
        "print(원인.shape, 결과.shape)"
      ],
      "execution_count": 6,
      "outputs": [
        {
          "output_type": "stream",
          "text": [
            "(150, 4) (150, 3)\n"
          ],
          "name": "stdout"
        }
      ]
    },
    {
      "cell_type": "code",
      "metadata": {
        "id": "FYEhH6MWRohp"
      },
      "source": [
        "X = tf.keras.layers.Input(shape=[4])\r\n",
        "Y = tf.keras.layers.Dense(3,activation='softmax')(X)\r\n",
        "model = tf.keras.models.Model(X, Y)\r\n",
        "model.compile(loss = 'categorical_crossentropy')"
      ],
      "execution_count": 8,
      "outputs": []
    },
    {
      "cell_type": "code",
      "metadata": {
        "colab": {
          "base_uri": "https://localhost:8080/"
        },
        "id": "_TWHHptqSM9i",
        "outputId": "a8f39213-0bf4-4c1b-be97-1bdd7a57a060"
      },
      "source": [
        "model.fit(원인, 결과, epochs=1000, verbose=0)"
      ],
      "execution_count": 15,
      "outputs": [
        {
          "output_type": "execute_result",
          "data": {
            "text/plain": [
              "<tensorflow.python.keras.callbacks.History at 0x7ff0b603cd68>"
            ]
          },
          "metadata": {
            "tags": []
          },
          "execution_count": 15
        }
      ]
    },
    {
      "cell_type": "code",
      "metadata": {
        "colab": {
          "base_uri": "https://localhost:8080/"
        },
        "id": "g6_9jbFpSRQe",
        "outputId": "ed479605-57b8-4ec1-b3a2-7795e6b1f9a7"
      },
      "source": [
        "model.fit(원인,결과,epochs=10)"
      ],
      "execution_count": 16,
      "outputs": [
        {
          "output_type": "stream",
          "text": [
            "Epoch 1/10\n",
            "5/5 [==============================] - 0s 2ms/step - loss: 0.1338\n",
            "Epoch 2/10\n",
            "5/5 [==============================] - 0s 3ms/step - loss: 0.1334\n",
            "Epoch 3/10\n",
            "5/5 [==============================] - 0s 2ms/step - loss: 0.1334\n",
            "Epoch 4/10\n",
            "5/5 [==============================] - 0s 2ms/step - loss: 0.1335\n",
            "Epoch 5/10\n",
            "5/5 [==============================] - 0s 2ms/step - loss: 0.1332\n",
            "Epoch 6/10\n",
            "5/5 [==============================] - 0s 2ms/step - loss: 0.1331\n",
            "Epoch 7/10\n",
            "5/5 [==============================] - 0s 2ms/step - loss: 0.1334\n",
            "Epoch 8/10\n",
            "5/5 [==============================] - 0s 2ms/step - loss: 0.1338\n",
            "Epoch 9/10\n",
            "5/5 [==============================] - 0s 2ms/step - loss: 0.1329\n",
            "Epoch 10/10\n",
            "5/5 [==============================] - 0s 2ms/step - loss: 0.1327\n"
          ],
          "name": "stdout"
        },
        {
          "output_type": "execute_result",
          "data": {
            "text/plain": [
              "<tensorflow.python.keras.callbacks.History at 0x7ff0b6074dd8>"
            ]
          },
          "metadata": {
            "tags": []
          },
          "execution_count": 16
        }
      ]
    },
    {
      "cell_type": "code",
      "metadata": {
        "colab": {
          "base_uri": "https://localhost:8080/"
        },
        "id": "w6kytsOmSZo-",
        "outputId": "ed9fcdc0-cbce-43c2-9410-48817e950ebc"
      },
      "source": [
        "print(model.predict(원인[:5]))\r\n",
        "print(결과[:5])"
      ],
      "execution_count": 17,
      "outputs": [
        {
          "output_type": "stream",
          "text": [
            "[[9.9961406e-01 3.8591863e-04 2.3580304e-09]\n",
            " [9.9853384e-01 1.4660932e-03 3.4749096e-08]\n",
            " [9.9923217e-01 7.6781539e-04 1.0718966e-08]\n",
            " [9.9739754e-01 2.6023656e-03 6.3528951e-08]\n",
            " [9.9965167e-01 3.4831293e-04 1.7419147e-09]]\n",
            "   품종_setosa  품종_versicolor  품종_virginica\n",
            "0          1              0             0\n",
            "1          1              0             0\n",
            "2          1              0             0\n",
            "3          1              0             0\n",
            "4          1              0             0\n"
          ],
          "name": "stdout"
        }
      ]
    },
    {
      "cell_type": "code",
      "metadata": {
        "colab": {
          "base_uri": "https://localhost:8080/"
        },
        "id": "LUa8NLaUS4wj",
        "outputId": "ca030e40-3966-45b8-e845-a6490ea1cb23"
      },
      "source": [
        "print(model.predict(원인[-5:]))\r\n",
        "print(결과[-5:])"
      ],
      "execution_count": 18,
      "outputs": [
        {
          "output_type": "stream",
          "text": [
            "[[7.63139241e-08 6.04272671e-02 9.39572632e-01]\n",
            " [1.85930730e-07 1.04310036e-01 8.95689785e-01]\n",
            " [3.94437819e-07 1.82381079e-01 8.17618608e-01]\n",
            " [6.65711681e-08 9.52909067e-02 9.04709041e-01]\n",
            " [8.75820433e-07 3.14646482e-01 6.85352623e-01]]\n",
            "     품종_setosa  품종_versicolor  품종_virginica\n",
            "145          0              0             1\n",
            "146          0              0             1\n",
            "147          0              0             1\n",
            "148          0              0             1\n",
            "149          0              0             1\n"
          ],
          "name": "stdout"
        }
      ]
    },
    {
      "cell_type": "code",
      "metadata": {
        "id": "Nwma3az3TZR8"
      },
      "source": [
        ""
      ],
      "execution_count": null,
      "outputs": []
    }
  ]
}