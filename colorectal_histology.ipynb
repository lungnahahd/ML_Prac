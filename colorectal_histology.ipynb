{
  "nbformat": 4,
  "nbformat_minor": 0,
  "metadata": {
    "colab": {
      "name": "colorectal_histology.ipynb",
      "provenance": [],
      "authorship_tag": "ABX9TyOLaCknfKBLpLx1EGIa8Ud/",
      "include_colab_link": true
    },
    "kernelspec": {
      "name": "python3",
      "display_name": "Python 3"
    },
    "language_info": {
      "name": "python"
    }
  },
  "cells": [
    {
      "cell_type": "markdown",
      "metadata": {
        "id": "view-in-github",
        "colab_type": "text"
      },
      "source": [
        "<a href=\"https://colab.research.google.com/github/lungnahahd/Tensorflow_Prac/blob/main/colorectal_histology.ipynb\" target=\"_parent\"><img src=\"https://colab.research.google.com/assets/colab-badge.svg\" alt=\"Open In Colab\"/></a>"
      ]
    },
    {
      "cell_type": "code",
      "execution_count": 1,
      "metadata": {
        "id": "16JHpXIi90lM"
      },
      "outputs": [],
      "source": [
        "import tensorflow_datasets as tfds\n",
        "import numpy as np\n",
        "import tensorflow as tf\n",
        "from tensorflow import keras\n",
        "from functools import partial\n",
        "import pandas as pd\n",
        "import matplotlib.pyplot as plt"
      ]
    },
    {
      "cell_type": "code",
      "source": [
        "test_set_raw, valid_set_raw, train_set_raw = tfds.load(\"colorectal_histology\",split=[\"train[:2%]\", \"train[20%:22%]\",\"train[40%:46%]\"])\n",
        "\n",
        "# Data Augmentation (가운데 자르기 변형)\n",
        "def central_crop(image):\n",
        "  shape = tf.shape(image)\n",
        "  min_dim = tf.reduce_min([shape[0], shape[1]])\n",
        "  top_crop = (shape[0] - min_dim) // 4\n",
        "  bottom_crop = shape[0] - top_crop\n",
        "  left_crop = (shape[1] - min_dim) // 4\n",
        "  right_crop = shape[1] - left_crop\n",
        "  return image[top_crop:bottom_crop, left_crop:right_crop]\n",
        "\n",
        "# Data Augmetation (일부를 랜덤하게 자르기 변형)\n",
        "def random_crop(image):\n",
        "  shape = tf.shape(image)\n",
        "  min_dim = tf.reduce_min([shape[0], shape[1]]) * 90 // 100\n",
        "  return tf.image.random_crop(image,[min_dim,min_dim,3])"
      ],
      "metadata": {
        "id": "zGVkW7Rg-Jp9"
      },
      "execution_count": 24,
      "outputs": []
    },
    {
      "cell_type": "markdown",
      "source": [
        "#### Central_Crop 처리 과정"
      ],
      "metadata": {
        "id": "XW_FVJI-_DLr"
      }
    },
    {
      "cell_type": "code",
      "source": [
        "# 데이터를 MNIST 변형 계층에 넣기 위해 dataset prcessing 하는 부분\n",
        "x_train_set, y_train_set = np.empty((0,150,150,3), np.uint8), np.empty((0,),np.uint8)\n",
        "for i in train_set_raw:\n",
        "  temp = central_crop(i['image'].numpy())\n",
        "  x_train_set = np.append(x_train_set,np.expand_dims(temp, axis=0), axis=0)\n",
        "  y_train_set = np.append(y_train_set,np.expand_dims(i['label'].numpy(), axis=0), axis=0)\n",
        "\n",
        "x_test_set, y_test_set = np.empty((0,150,150,3), np.uint8), np.empty((0,),np.uint8)\n",
        "for i in test_set_raw:\n",
        "  temp = central_crop(i['image'].numpy())\n",
        "  x_test_set = np.append(x_test_set,np.expand_dims(temp, axis=0), axis=0)\n",
        "  y_test_set = np.append(y_test_set,np.expand_dims(i['label'].numpy(), axis=0), axis=0)\n",
        "\n",
        "x_valid_set, y_valid_set = np.empty((0,150,150,3), np.uint8), np.empty((0,),np.uint8)\n",
        "for i in valid_set_raw:\n",
        "  temp = central_crop(i['image'].numpy())\n",
        "  x_valid_set = np.append(x_valid_set,np.expand_dims(temp, axis=0), axis=0)\n",
        "  y_valid_set = np.append(y_valid_set,np.expand_dims(i['label'].numpy(), axis=0), axis=0)"
      ],
      "metadata": {
        "id": "MHH_oPdE_Fz0"
      },
      "execution_count": 46,
      "outputs": []
    },
    {
      "cell_type": "markdown",
      "source": [
        "#### Random_Crop 처리 과정"
      ],
      "metadata": {
        "id": "W_hO8WaB_ddC"
      }
    },
    {
      "cell_type": "code",
      "source": [
        "# 데이터를 MNIST 변형 계층에 넣기 위해 dataset prcessing 하는 부분\n",
        "x_train_set, y_train_set = np.empty((0,135,135,3), np.uint8), np.empty((0,),np.uint8)\n",
        "for i in train_set_raw:\n",
        "  temp = random_crop(i['image'].numpy())\n",
        "  temp = tf.image.random_flip_left_right(temp)\n",
        "  x_train_set = np.append(x_train_set,np.expand_dims(temp.numpy(), axis=0), axis=0)\n",
        "  y_train_set = np.append(y_train_set,np.expand_dims(i['label'].numpy(), axis=0), axis=0)\n",
        "\n",
        "x_test_set, y_test_set = np.empty((0,135,135,3), np.uint8), np.empty((0,),np.uint8)\n",
        "for i in test_set_raw:\n",
        "  temp = random_crop(i['image'].numpy())\n",
        "  x_test_set = np.append(x_test_set,np.expand_dims(temp, axis=0), axis=0)\n",
        "  y_test_set = np.append(y_test_set,np.expand_dims(i['label'].numpy(), axis=0), axis=0)\n",
        "\n",
        "x_valid_set, y_valid_set = np.empty((0,135,135,3), np.uint8), np.empty((0,),np.uint8)\n",
        "for i in valid_set_raw:\n",
        "  temp = random_crop(i['image'].numpy())\n",
        "  x_valid_set = np.append(x_valid_set,np.expand_dims(temp, axis=0), axis=0)\n",
        "  y_valid_set = np.append(y_valid_set,np.expand_dims(i['label'].numpy(), axis=0), axis=0)"
      ],
      "metadata": {
        "id": "j5ejzh-c_at2"
      },
      "execution_count": 60,
      "outputs": []
    },
    {
      "cell_type": "markdown",
      "source": [
        "#### MNIST CNN 변형 모델"
      ],
      "metadata": {
        "id": "c7rc5Ku3_5hg"
      }
    },
    {
      "cell_type": "code",
      "source": [
        "\n",
        "DefaultConv2D = partial(keras.layers.Conv2D, kernel_size=3, activation='relu', padding=\"SAME\")\n",
        "\n",
        "model = keras.models.Sequential([\n",
        "    DefaultConv2D(filters=64, kernel_size=7, input_shape=[135, 135, 3]),\n",
        "    keras.layers.MaxPooling2D(pool_size=2),\n",
        "    DefaultConv2D(filters=128),\n",
        "    DefaultConv2D(filters=128),\n",
        "    keras.layers.MaxPooling2D(pool_size=2),\n",
        "    DefaultConv2D(filters=256),\n",
        "    DefaultConv2D(filters=256),\n",
        "    keras.layers.MaxPooling2D(pool_size=2),\n",
        "    keras.layers.Flatten(),\n",
        "    keras.layers.Dense(units=128, activation='relu'),\n",
        "    keras.layers.Dropout(0.5),\n",
        "    keras.layers.Dense(units=64, activation='relu'),\n",
        "    keras.layers.Dropout(0.5),\n",
        "    keras.layers.Dense(units=8, activation='softmax'),\n",
        "])"
      ],
      "metadata": {
        "id": "apx_IhM4_hCr"
      },
      "execution_count": null,
      "outputs": []
    },
    {
      "cell_type": "markdown",
      "source": [
        "#### Central Augmentation fit 진행"
      ],
      "metadata": {
        "id": "nto5lU9QAEGB"
      }
    },
    {
      "cell_type": "code",
      "source": [
        "model.compile(loss=\"sparse_categorical_crossentropy\", optimizer=\"nadam\", metrics=[\"accuracy\"])\n",
        "early_stopping = keras.callbacks.EarlyStopping(patience=5, restore_best_weights=True)\n",
        "history = model.fit(x_train_set, y_train_set, epochs=10, validation_data=(x_valid_set, y_valid_set), callbacks=early_stopping)"
      ],
      "metadata": {
        "colab": {
          "base_uri": "https://localhost:8080/"
        },
        "id": "KLhfvWejABXv",
        "outputId": "38e54a70-0a8c-4f95-d46b-f6c292eba0ee"
      },
      "execution_count": null,
      "outputs": [
        {
          "output_type": "stream",
          "name": "stdout",
          "text": [
            "Epoch 1/10\n",
            "10/10 [==============================] - 103s 10s/step - loss: 2.7225 - accuracy: 0.1467 - val_loss: 2.0647 - val_accuracy: 0.2500\n",
            "Epoch 2/10\n",
            "10/10 [==============================] - 95s 10s/step - loss: 2.1014 - accuracy: 0.1067 - val_loss: 11.3286 - val_accuracy: 0.1500\n",
            "Epoch 3/10\n",
            "10/10 [==============================] - 94s 9s/step - loss: 4.8605 - accuracy: 0.1100 - val_loss: 2.0441 - val_accuracy: 0.2300\n",
            "Epoch 4/10\n",
            "10/10 [==============================] - 95s 10s/step - loss: 2.5425 - accuracy: 0.1567 - val_loss: 2.0931 - val_accuracy: 0.1400\n",
            "Epoch 5/10\n",
            "10/10 [==============================] - 94s 9s/step - loss: 2.6850 - accuracy: 0.1333 - val_loss: 2.0892 - val_accuracy: 0.1700\n",
            "Epoch 6/10\n",
            "10/10 [==============================] - 94s 9s/step - loss: 2.1917 - accuracy: 0.1367 - val_loss: 2.0308 - val_accuracy: 0.2800\n",
            "Epoch 7/10\n",
            "10/10 [==============================] - 97s 10s/step - loss: 2.0376 - accuracy: 0.1833 - val_loss: 1.9303 - val_accuracy: 0.1600\n",
            "Epoch 8/10\n",
            "10/10 [==============================] - 96s 9s/step - loss: 2.0649 - accuracy: 0.1933 - val_loss: 1.9768 - val_accuracy: 0.1800\n",
            "Epoch 9/10\n",
            "10/10 [==============================] - 94s 9s/step - loss: 1.9681 - accuracy: 0.1933 - val_loss: 2.3404 - val_accuracy: 0.0900\n",
            "Epoch 10/10\n",
            "10/10 [==============================] - 94s 9s/step - loss: 2.2245 - accuracy: 0.1467 - val_loss: 2.0876 - val_accuracy: 0.1900\n"
          ]
        }
      ]
    },
    {
      "cell_type": "markdown",
      "source": [
        "#### Central Augmentation 진행 결과"
      ],
      "metadata": {
        "id": "LalM7pYsNDph"
      }
    },
    {
      "cell_type": "code",
      "source": [
        "model.evaluate(x_test_set,y_test_set)"
      ],
      "metadata": {
        "colab": {
          "base_uri": "https://localhost:8080/"
        },
        "id": "QFZBTpttAHPO",
        "outputId": "ff787c7c-ae55-4b11-ae0b-3a97bafe7e97"
      },
      "execution_count": null,
      "outputs": [
        {
          "output_type": "stream",
          "name": "stdout",
          "text": [
            "4/4 [==============================] - 20s 4s/step - loss: 2.0834 - accuracy: 0.0900\n"
          ]
        },
        {
          "output_type": "execute_result",
          "data": {
            "text/plain": [
              "[2.083388566970825, 0.09000000357627869]"
            ]
          },
          "metadata": {},
          "execution_count": 15
        }
      ]
    },
    {
      "cell_type": "code",
      "source": [
        "pd.DataFrame(history.history).plot(figsize=(8,5))\n",
        "plt.grid(True)\n",
        "plt.gca().set_ylim(0,3)\n",
        "#save_fig(\"keras_learning_curves_plot\")\n",
        "plt.show()"
      ],
      "metadata": {
        "colab": {
          "base_uri": "https://localhost:8080/",
          "height": 324
        },
        "id": "qvG4pZJUNF96",
        "outputId": "4f9806e2-6312-4882-d03f-d92e329793dc"
      },
      "execution_count": null,
      "outputs": [
        {
          "output_type": "display_data",
          "data": {
            "text/plain": [
              "<Figure size 576x360 with 1 Axes>"
            ],
            "image/png": "[encoded data removed]"
          },
          "metadata": {
            "needs_background": "light"
          }
        }
      ]
    },
    {
      "cell_type": "markdown",
      "source": [
        "#### Random Augmentation fit 진행"
      ],
      "metadata": {
        "id": "wY_EXZj5NdUS"
      }
    },
    {
      "cell_type": "code",
      "source": [
        "model.compile(loss=\"sparse_categorical_crossentropy\", optimizer=\"nadam\", metrics=[\"accuracy\"])\n",
        "early_stopping = keras.callbacks.EarlyStopping(patience=5, restore_best_weights=True)\n",
        "history = model.fit(x_train_set, y_train_set, epochs=10, validation_data=(x_valid_set, y_valid_set), callbacks=early_stopping)"
      ],
      "metadata": {
        "colab": {
          "base_uri": "https://localhost:8080/"
        },
        "id": "N0GAdFO9NSMn",
        "outputId": "06e220db-f8b8-4a31-ac82-fca6b8855713"
      },
      "execution_count": null,
      "outputs": [
        {
          "output_type": "stream",
          "name": "stdout",
          "text": [
            "Epoch 1/10\n",
            "10/10 [==============================] - 79s 8s/step - loss: 29.0040 - accuracy: 0.1167 - val_loss: 2.0797 - val_accuracy: 0.1200\n",
            "Epoch 2/10\n",
            "10/10 [==============================] - 78s 8s/step - loss: 2.1811 - accuracy: 0.1000 - val_loss: 2.2243 - val_accuracy: 0.1200\n",
            "Epoch 3/10\n",
            "10/10 [==============================] - 76s 8s/step - loss: 2.1911 - accuracy: 0.1267 - val_loss: 2.0177 - val_accuracy: 0.2400\n",
            "Epoch 4/10\n",
            "10/10 [==============================] - 76s 8s/step - loss: 1.9964 - accuracy: 0.2133 - val_loss: 1.9204 - val_accuracy: 0.1800\n",
            "Epoch 5/10\n",
            "10/10 [==============================] - 76s 8s/step - loss: 1.9982 - accuracy: 0.1767 - val_loss: 2.0708 - val_accuracy: 0.0900\n",
            "Epoch 6/10\n",
            "10/10 [==============================] - 77s 8s/step - loss: 1.9958 - accuracy: 0.2000 - val_loss: 1.8227 - val_accuracy: 0.2000\n",
            "Epoch 7/10\n",
            "10/10 [==============================] - 76s 8s/step - loss: 1.9430 - accuracy: 0.2267 - val_loss: 1.9524 - val_accuracy: 0.2500\n",
            "Epoch 8/10\n",
            "10/10 [==============================] - 76s 8s/step - loss: 2.0386 - accuracy: 0.1733 - val_loss: 2.0411 - val_accuracy: 0.3300\n",
            "Epoch 9/10\n",
            "10/10 [==============================] - 77s 8s/step - loss: 2.0027 - accuracy: 0.2067 - val_loss: 1.9181 - val_accuracy: 0.2100\n",
            "Epoch 10/10\n",
            "10/10 [==============================] - 75s 8s/step - loss: 2.2516 - accuracy: 0.2100 - val_loss: 1.9755 - val_accuracy: 0.1200\n"
          ]
        }
      ]
    },
    {
      "cell_type": "markdown",
      "source": [
        "#### Random Augmentation 결과"
      ],
      "metadata": {
        "id": "45KHIRYWRFBF"
      }
    },
    {
      "cell_type": "code",
      "source": [
        "model.evaluate(x_test_set,y_test_set)"
      ],
      "metadata": {
        "colab": {
          "base_uri": "https://localhost:8080/"
        },
        "id": "rMdrDrxpNezq",
        "outputId": "71edc8bb-52e0-4163-e05e-c4e2a38047c9"
      },
      "execution_count": null,
      "outputs": [
        {
          "output_type": "stream",
          "name": "stdout",
          "text": [
            "4/4 [==============================] - 11s 2s/step - loss: 1.9768 - accuracy: 0.1400\n"
          ]
        },
        {
          "output_type": "execute_result",
          "data": {
            "text/plain": [
              "[1.9768184423446655, 0.14000000059604645]"
            ]
          },
          "metadata": {},
          "execution_count": 23
        }
      ]
    },
    {
      "cell_type": "code",
      "source": [
        "pd.DataFrame(history.history).plot(figsize=(8,5))\n",
        "plt.grid(True)\n",
        "plt.gca().set_ylim(0,3)\n",
        "#save_fig(\"keras_learning_curves_plot\")\n",
        "plt.show()"
      ],
      "metadata": {
        "colab": {
          "base_uri": "https://localhost:8080/",
          "height": 324
        },
        "id": "feFz_wj9RDrj",
        "outputId": "dd188a41-5e0c-4898-a04d-9a440bed23f3"
      },
      "execution_count": null,
      "outputs": [
        {
          "output_type": "display_data",
          "data": {
            "text/plain": [
              "<Figure size 576x360 with 1 Axes>"
            ],
            "image/png": "[encoded data removed]"
          },
          "metadata": {
            "needs_background": "light"
          }
        }
      ]
    },
    {
      "cell_type": "markdown",
      "source": [
        "#### 14.11 9번 변형"
      ],
      "metadata": {
        "id": "svO_I4yaSQ9T"
      }
    },
    {
      "cell_type": "markdown",
      "source": [
        "### 데이터를 MNIST 변형 계층에 넣기 위해 dataset prcessing 하는 부분"
      ],
      "metadata": {
        "id": "JQS3i5bZSTV_"
      }
    },
    {
      "cell_type": "code",
      "source": [
        "x_train_set = x_train_set / 255.\n",
        "y_train_set = y_train_set / 255.\n",
        "x_valid_set = x_valid_set / 255.\n",
        "y_valid_set = y_valid_set / 255.\n",
        "x_test_set = x_test_set / 255.\n",
        "y_test_set = y_test_set / 255."
      ],
      "metadata": {
        "id": "YqEiU5CLSQSt"
      },
      "execution_count": 21,
      "outputs": []
    },
    {
      "cell_type": "code",
      "source": [
        "keras.backend.clear_session()\n",
        "tf.random.set_seed(42)\n",
        "np.random.seed(42)\n",
        "\n",
        "model = keras.models.Sequential([\n",
        "    keras.layers.Conv2D(32, kernel_size=3, padding=\"same\", activation=\"relu\"),\n",
        "    keras.layers.Conv2D(64, kernel_size=3, padding=\"same\", activation=\"relu\"),\n",
        "    keras.layers.MaxPool2D(),\n",
        "    keras.layers.Flatten(),\n",
        "    keras.layers.Dropout(0.25),\n",
        "    keras.layers.Dense(128, activation=\"relu\"),\n",
        "    keras.layers.Dropout(0.5),\n",
        "    keras.layers.Dense(8, activation=\"softmax\")\n",
        "])"
      ],
      "metadata": {
        "id": "O5EKNs5MSQQs"
      },
      "execution_count": 22,
      "outputs": []
    },
    {
      "cell_type": "markdown",
      "source": [
        "#### Central Augmentation fit 진행"
      ],
      "metadata": {
        "id": "6dQplee2S1sn"
      }
    },
    {
      "cell_type": "code",
      "source": [
        "model.compile(loss=\"sparse_categorical_crossentropy\", optimizer=\"nadam\", metrics=[\"accuracy\"])\n",
        "early_stopping = keras.callbacks.EarlyStopping(patience=5, restore_best_weights=True)\n",
        "history = model.fit(x_train_set, y_train_set, epochs=10, validation_data=(x_valid_set, y_valid_set), callbacks=early_stopping)"
      ],
      "metadata": {
        "id": "IWc-x-Y9SQOd",
        "colab": {
          "base_uri": "https://localhost:8080/"
        },
        "outputId": "1648dc19-ab97-4dd5-a47b-4ee4f4a4a87c"
      },
      "execution_count": 7,
      "outputs": [
        {
          "output_type": "stream",
          "name": "stdout",
          "text": [
            "Epoch 1/10\n",
            "10/10 [==============================] - 37s 3s/step - loss: 0.1989 - accuracy: 0.1133 - val_loss: 0.0000e+00 - val_accuracy: 0.1600\n",
            "Epoch 2/10\n",
            "10/10 [==============================] - 33s 3s/step - loss: 0.0000e+00 - accuracy: 0.1233 - val_loss: 0.0000e+00 - val_accuracy: 0.1600\n",
            "Epoch 3/10\n",
            "10/10 [==============================] - 34s 3s/step - loss: 0.0000e+00 - accuracy: 0.1233 - val_loss: 0.0000e+00 - val_accuracy: 0.1600\n",
            "Epoch 4/10\n",
            "10/10 [==============================] - 32s 3s/step - loss: 0.0000e+00 - accuracy: 0.1233 - val_loss: 0.0000e+00 - val_accuracy: 0.1600\n",
            "Epoch 5/10\n",
            "10/10 [==============================] - 32s 3s/step - loss: 0.0000e+00 - accuracy: 0.1233 - val_loss: 0.0000e+00 - val_accuracy: 0.1600\n",
            "Epoch 6/10\n",
            "10/10 [==============================] - 29s 3s/step - loss: 0.0000e+00 - accuracy: 0.1233 - val_loss: 0.0000e+00 - val_accuracy: 0.1600\n"
          ]
        }
      ]
    },
    {
      "cell_type": "markdown",
      "source": [
        "#### Central Augmentation fit 학습 결과"
      ],
      "metadata": {
        "id": "Qu9GzhwWS4MQ"
      }
    },
    {
      "cell_type": "code",
      "source": [
        "model.evaluate(x_test_set,y_test_set)"
      ],
      "metadata": {
        "id": "ui9GURvKSQMG",
        "colab": {
          "base_uri": "https://localhost:8080/"
        },
        "outputId": "6d18b3c5-ceec-4391-f9d8-01323518c994"
      },
      "execution_count": 8,
      "outputs": [
        {
          "output_type": "stream",
          "name": "stdout",
          "text": [
            "4/4 [==============================] - 2s 469ms/step - loss: 0.0000e+00 - accuracy: 0.1000\n"
          ]
        },
        {
          "output_type": "execute_result",
          "data": {
            "text/plain": [
              "[0.0, 0.10000000149011612]"
            ]
          },
          "metadata": {},
          "execution_count": 8
        }
      ]
    },
    {
      "cell_type": "code",
      "source": [
        "pd.DataFrame(history.history).plot(figsize=(8,5))\n",
        "plt.grid(True)\n",
        "plt.gca().set_ylim(0,1)\n",
        "plt.show()"
      ],
      "metadata": {
        "id": "M_9lD9O2SP3Q",
        "colab": {
          "base_uri": "https://localhost:8080/",
          "height": 0
        },
        "outputId": "0d516acb-780a-4947-a780-7dc64493be42"
      },
      "execution_count": 10,
      "outputs": [
        {
          "output_type": "display_data",
          "data": {
            "text/plain": [
              "<Figure size 576x360 with 1 Axes>"
            ],
            "image/png": "[encoded data removed]"
          },
          "metadata": {
            "needs_background": "light"
          }
        }
      ]
    },
    {
      "cell_type": "markdown",
      "source": [
        "#### Random Augmentation fit"
      ],
      "metadata": {
        "id": "Ga4j7whMS8BY"
      }
    },
    {
      "cell_type": "code",
      "source": [
        "model.compile(loss=\"sparse_categorical_crossentropy\", optimizer=\"nadam\", metrics=[\"accuracy\"])\n",
        "early_stopping = keras.callbacks.EarlyStopping(patience=5, restore_best_weights=True)\n",
        "history = model.fit(x_train_set, y_train_set, epochs=10, validation_data=(x_valid_set, y_valid_set), callbacks=early_stopping)"
      ],
      "metadata": {
        "id": "aHHVA3WKRJV1",
        "colab": {
          "base_uri": "https://localhost:8080/"
        },
        "outputId": "4833d05a-0aa4-4155-af5c-49520eff00ad"
      },
      "execution_count": 23,
      "outputs": [
        {
          "output_type": "stream",
          "name": "stdout",
          "text": [
            "Epoch 1/10\n",
            "10/10 [==============================] - 28s 3s/step - loss: 0.2017 - accuracy: 0.1167 - val_loss: 0.0000e+00 - val_accuracy: 0.1600\n",
            "Epoch 2/10\n",
            "10/10 [==============================] - 27s 3s/step - loss: 0.0000e+00 - accuracy: 0.1233 - val_loss: 0.0000e+00 - val_accuracy: 0.1600\n",
            "Epoch 3/10\n",
            "10/10 [==============================] - 26s 3s/step - loss: 0.0000e+00 - accuracy: 0.1233 - val_loss: 0.0000e+00 - val_accuracy: 0.1600\n",
            "Epoch 4/10\n",
            "10/10 [==============================] - 26s 3s/step - loss: 0.0000e+00 - accuracy: 0.1233 - val_loss: 0.0000e+00 - val_accuracy: 0.1600\n",
            "Epoch 5/10\n",
            "10/10 [==============================] - 27s 3s/step - loss: 0.0000e+00 - accuracy: 0.1233 - val_loss: 0.0000e+00 - val_accuracy: 0.1600\n",
            "Epoch 6/10\n",
            "10/10 [==============================] - 26s 3s/step - loss: 0.0000e+00 - accuracy: 0.1233 - val_loss: 0.0000e+00 - val_accuracy: 0.1600\n"
          ]
        }
      ]
    },
    {
      "cell_type": "markdown",
      "source": [
        "#### Random Augmentation fit 학습 결과"
      ],
      "metadata": {
        "id": "s0tgIVadTBjk"
      }
    },
    {
      "cell_type": "code",
      "source": [
        "model.evaluate(x_test_set,y_test_set)"
      ],
      "metadata": {
        "id": "issKefhqTEFf",
        "colab": {
          "base_uri": "https://localhost:8080/"
        },
        "outputId": "3c06d6b2-3850-48db-f042-b92808a86064"
      },
      "execution_count": 15,
      "outputs": [
        {
          "output_type": "stream",
          "name": "stdout",
          "text": [
            "4/4 [==============================] - 2s 402ms/step - loss: 0.0000e+00 - accuracy: 0.1000\n"
          ]
        },
        {
          "output_type": "execute_result",
          "data": {
            "text/plain": [
              "[0.0, 0.10000000149011612]"
            ]
          },
          "metadata": {},
          "execution_count": 15
        }
      ]
    },
    {
      "cell_type": "code",
      "source": [
        "pd.DataFrame(history.history).plot(figsize=(8,5))\n",
        "plt.grid(True)\n",
        "plt.gca().set_ylim(0,1)\n",
        "plt.show()"
      ],
      "metadata": {
        "id": "zhGkeOXUTFeQ",
        "colab": {
          "base_uri": "https://localhost:8080/",
          "height": 0
        },
        "outputId": "a35a6ab0-40b5-4114-a86a-db8d3dd0d04e"
      },
      "execution_count": 17,
      "outputs": [
        {
          "output_type": "display_data",
          "data": {
            "text/plain": [
              "<Figure size 576x360 with 1 Axes>"
            ],
            "image/png": "[encoded data removed]"
          },
          "metadata": {
            "needs_background": "light"
          }
        }
      ]
    },
    {
      "cell_type": "markdown",
      "source": [
        "### Xception 사용"
      ],
      "metadata": {
        "id": "59_3_CVqTDh_"
      }
    },
    {
      "cell_type": "markdown",
      "source": [
        "#### 데이터 전처리"
      ],
      "metadata": {
        "id": "czqueMy_TMYF"
      }
    },
    {
      "cell_type": "code",
      "source": [
        "x_train_set, y_train_set = np.empty((0,224,224,3), np.uint8), np.empty((0,),np.uint8)\n",
        "for i in train_set_raw:\n",
        "  temp = central_crop(i['image'].numpy())\n",
        "  temp = tf.image.resize(temp, [224,224])\n",
        "  temp = keras.applications.xception.preprocess_input(temp)\n",
        "  x_train_set = np.append(x_train_set,np.expand_dims(temp, axis=0), axis=0)\n",
        "  y_train_set = np.append(y_train_set,np.expand_dims(i['label'].numpy(), axis=0), axis=0)\n",
        "\n",
        "x_test_set, y_test_set = np.empty((0,224,224,3), np.uint8), np.empty((0,),np.uint8)\n",
        "for i in test_set_raw:\n",
        "  temp = central_crop(i['image'].numpy())\n",
        "  temp = tf.image.resize(temp, [224,224])\n",
        "  temp = keras.applications.xception.preprocess_input(temp)\n",
        "  x_test_set = np.append(x_test_set,np.expand_dims(temp, axis=0), axis=0)\n",
        "  y_test_set = np.append(y_test_set,np.expand_dims(i['label'].numpy(), axis=0), axis=0)\n",
        "\n",
        "x_valid_set, y_valid_set = np.empty((0,224,224,3), np.uint8), np.empty((0,),np.uint8)\n",
        "for i in valid_set_raw:\n",
        "  temp = central_crop(i['image'].numpy())\n",
        "  temp = tf.image.resize(temp, [224,224])\n",
        "  temp = keras.applications.xception.preprocess_input(temp)\n",
        "  x_valid_set = np.append(x_valid_set,np.expand_dims(temp, axis=0), axis=0)\n",
        "  y_valid_set = np.append(y_valid_set,np.expand_dims(i['label'].numpy(), axis=0), axis=0)"
      ],
      "metadata": {
        "id": "gMhT7-E2TIea"
      },
      "execution_count": 26,
      "outputs": []
    },
    {
      "cell_type": "code",
      "source": [
        "base_model = keras.applications.xception.Xception(weights=None,include_top=False) # 여기를 NONE으로 해야되는지는 고민해보기\n",
        "avg = keras.layers.GlobalAveragePooling2D()(base_model.output)\n",
        "output = keras.layers.Dense(8, activation=\"softmax\")(avg)\n",
        "model = keras.models.Model(inputs=base_model.input, outputs=output)"
      ],
      "metadata": {
        "id": "C_xFHnK6-lXx"
      },
      "execution_count": 30,
      "outputs": []
    },
    {
      "cell_type": "markdown",
      "source": [
        "#### Central Augmentation fit"
      ],
      "metadata": {
        "id": "iBlUY7FcTNeM"
      }
    },
    {
      "cell_type": "code",
      "source": [
        "for layer in base_model.layers:\n",
        "    layer.trainable = False\n",
        "\n",
        "\n",
        "optimizer = keras.optimizers.SGD(learning_rate=0.2, momentum=0.9, decay=0.01)\n",
        "model.compile(loss=\"sparse_categorical_crossentropy\", optimizer=optimizer, metrics=[\"accuracy\"])\n",
        "history = model.fit(x_train_set,y_train_set, validation_data=(x_valid_set, y_valid_set),epochs=5)"
      ],
      "metadata": {
        "id": "Cv2dg2GkTPP2",
        "colab": {
          "base_uri": "https://localhost:8080/"
        },
        "outputId": "fb446729-2c3f-4e98-c7c9-5245dcc5c13e"
      },
      "execution_count": 31,
      "outputs": [
        {
          "output_type": "stream",
          "name": "stdout",
          "text": [
            "Epoch 1/5\n",
            "10/10 [==============================] - 75s 7s/step - loss: 2.0833 - accuracy: 0.0833 - val_loss: 2.0830 - val_accuracy: 0.1500\n",
            "Epoch 2/5\n",
            "10/10 [==============================] - 70s 7s/step - loss: 2.0851 - accuracy: 0.1200 - val_loss: 2.0995 - val_accuracy: 0.0900\n",
            "Epoch 3/5\n",
            "10/10 [==============================] - 68s 7s/step - loss: 2.0845 - accuracy: 0.1300 - val_loss: 2.0991 - val_accuracy: 0.0800\n",
            "Epoch 4/5\n",
            "10/10 [==============================] - 71s 7s/step - loss: 2.0842 - accuracy: 0.1067 - val_loss: 2.0824 - val_accuracy: 0.1700\n",
            "Epoch 5/5\n",
            "10/10 [==============================] - 69s 7s/step - loss: 2.0795 - accuracy: 0.1400 - val_loss: 2.0793 - val_accuracy: 0.1700\n"
          ]
        }
      ]
    },
    {
      "cell_type": "code",
      "source": [
        "for layer in base_model.layers:\n",
        "    layer.trainable = True\n",
        "\n",
        "optimizer = keras.optimizers.SGD(learning_rate=0.01, momentum=0.9,nesterov=True, decay=0.001)\n",
        "model.compile(loss=\"sparse_categorical_crossentropy\", optimizer=optimizer,metrics=[\"accuracy\"])\n",
        "early_stopping = keras.callbacks.EarlyStopping(patience=5, restore_best_weights=True)\n",
        "history = model.fit(x_train_set, y_train_set, validation_data=(x_valid_set, y_valid_set), epochs=10, callbacks=early_stopping)"
      ],
      "metadata": {
        "id": "WrIbMrrxTS-y",
        "colab": {
          "base_uri": "https://localhost:8080/"
        },
        "outputId": "cda792a5-b8f2-4def-bee0-ed6956949001"
      },
      "execution_count": 32,
      "outputs": [
        {
          "output_type": "stream",
          "name": "stdout",
          "text": [
            "Epoch 1/10\n",
            "10/10 [==============================] - 262s 26s/step - loss: 1.3933 - accuracy: 0.4567 - val_loss: 2.0804 - val_accuracy: 0.1700\n",
            "Epoch 2/10\n",
            "10/10 [==============================] - 253s 25s/step - loss: 1.1942 - accuracy: 0.5633 - val_loss: 2.0803 - val_accuracy: 0.1700\n",
            "Epoch 3/10\n",
            "10/10 [==============================] - 251s 25s/step - loss: 1.0675 - accuracy: 0.6100 - val_loss: 2.0793 - val_accuracy: 0.1700\n",
            "Epoch 4/10\n",
            "10/10 [==============================] - 272s 27s/step - loss: 0.9482 - accuracy: 0.6433 - val_loss: 2.0785 - val_accuracy: 0.1700\n",
            "Epoch 5/10\n",
            "10/10 [==============================] - 268s 27s/step - loss: 0.9839 - accuracy: 0.6333 - val_loss: 2.0780 - val_accuracy: 0.1700\n",
            "Epoch 6/10\n",
            "10/10 [==============================] - 276s 28s/step - loss: 0.7645 - accuracy: 0.7200 - val_loss: 2.0794 - val_accuracy: 0.1700\n",
            "Epoch 7/10\n",
            "10/10 [==============================] - 271s 27s/step - loss: 0.8416 - accuracy: 0.7133 - val_loss: 2.0796 - val_accuracy: 0.1700\n",
            "Epoch 8/10\n",
            "10/10 [==============================] - 282s 28s/step - loss: 1.0730 - accuracy: 0.6433 - val_loss: 2.0788 - val_accuracy: 0.1700\n",
            "Epoch 9/10\n",
            "10/10 [==============================] - 263s 26s/step - loss: 0.7701 - accuracy: 0.7567 - val_loss: 2.0778 - val_accuracy: 0.1700\n",
            "Epoch 10/10\n",
            "10/10 [==============================] - 245s 24s/step - loss: 0.8415 - accuracy: 0.7200 - val_loss: 2.0754 - val_accuracy: 0.1700\n"
          ]
        }
      ]
    },
    {
      "cell_type": "markdown",
      "source": [
        "#### Central Augmentation fit 결과"
      ],
      "metadata": {
        "id": "KREA95U4TVM-"
      }
    },
    {
      "cell_type": "code",
      "source": [
        "model.evaluate(x_test_set,y_test_set)"
      ],
      "metadata": {
        "id": "_WHPWzW9TW5N",
        "colab": {
          "base_uri": "https://localhost:8080/"
        },
        "outputId": "934d8861-0e41-4140-f449-6a135f2cd108"
      },
      "execution_count": 33,
      "outputs": [
        {
          "output_type": "stream",
          "name": "stdout",
          "text": [
            "4/4 [==============================] - 16s 4s/step - loss: 2.0652 - accuracy: 0.1500\n"
          ]
        },
        {
          "output_type": "execute_result",
          "data": {
            "text/plain": [
              "[2.0651803016662598, 0.15000000596046448]"
            ]
          },
          "metadata": {},
          "execution_count": 33
        }
      ]
    },
    {
      "cell_type": "code",
      "source": [
        "pd.DataFrame(history.history).plot(figsize=(8,5))\n",
        "plt.grid(True)\n",
        "plt.gca().set_ylim(0,2)\n",
        "#save_fig(\"keras_learning_curves_plot\")\n",
        "plt.show()"
      ],
      "metadata": {
        "id": "LsoTSQt1TYQQ",
        "colab": {
          "base_uri": "https://localhost:8080/",
          "height": 324
        },
        "outputId": "e14345ae-fb23-4086-da4e-0c8e9d1bc40a"
      },
      "execution_count": 36,
      "outputs": [
        {
          "output_type": "display_data",
          "data": {
            "text/plain": [
              "<Figure size 576x360 with 1 Axes>"
            ],
            "image/png": "[encoded data removed]"
          },
          "metadata": {
            "needs_background": "light"
          }
        }
      ]
    },
    {
      "cell_type": "markdown",
      "source": [
        "#### Random Augmentation"
      ],
      "metadata": {
        "id": "VwnWFwsdTZYe"
      }
    },
    {
      "cell_type": "code",
      "source": [
        "x_train_set, y_train_set = np.empty((0,224,224,3), np.uint8), np.empty((0,),np.uint8)\n",
        "for i in train_set_raw:\n",
        "  temp = random_crop(i['image'].numpy())\n",
        "  temp = tf.image.resize(temp, [224,224])\n",
        "  temp = keras.applications.xception.preprocess_input(temp)\n",
        "  x_train_set = np.append(x_train_set,np.expand_dims(temp, axis=0), axis=0)\n",
        "  y_train_set = np.append(y_train_set,np.expand_dims(i['label'].numpy(), axis=0), axis=0)\n",
        "\n",
        "x_test_set, y_test_set = np.empty((0,224,224,3), np.uint8), np.empty((0,),np.uint8)\n",
        "for i in test_set_raw:\n",
        "  temp = random_crop(i['image'].numpy())\n",
        "  temp = tf.image.resize(temp, [224,224])\n",
        "  temp = keras.applications.xception.preprocess_input(temp)\n",
        "  x_test_set = np.append(x_test_set,np.expand_dims(temp, axis=0), axis=0)\n",
        "  y_test_set = np.append(y_test_set,np.expand_dims(i['label'].numpy(), axis=0), axis=0)\n",
        "\n",
        "x_valid_set, y_valid_set = np.empty((0,224,224,3), np.uint8), np.empty((0,),np.uint8)\n",
        "for i in valid_set_raw:\n",
        "  temp = random_crop(i['image'].numpy())\n",
        "  temp = tf.image.resize(temp, [224,224])\n",
        "  temp = keras.applications.xception.preprocess_input(temp)\n",
        "  x_valid_set = np.append(x_valid_set,np.expand_dims(temp, axis=0), axis=0)\n",
        "  y_valid_set = np.append(y_valid_set,np.expand_dims(i['label'].numpy(), axis=0), axis=0)"
      ],
      "metadata": {
        "id": "u9G1pFJzTblu"
      },
      "execution_count": 37,
      "outputs": []
    },
    {
      "cell_type": "markdown",
      "source": [
        "#### Random Augmentation fit"
      ],
      "metadata": {
        "id": "P8BGmAi7TeIp"
      }
    },
    {
      "cell_type": "code",
      "source": [
        "base_model = keras.applications.xception.Xception(weights=None,include_top=False) # 여기를 NONE으로 해야되는지는 고민해보기\n",
        "avg = keras.layers.GlobalAveragePooling2D()(base_model.output)\n",
        "output = keras.layers.Dense(8, activation=\"softmax\")(avg)\n",
        "model = keras.models.Model(inputs=base_model.input, outputs=output)"
      ],
      "metadata": {
        "id": "iyUv0So2Te5n"
      },
      "execution_count": 40,
      "outputs": []
    },
    {
      "cell_type": "code",
      "source": [
        "for layer in base_model.layers:\n",
        "    layer.trainable = False\n",
        "\n",
        "\n",
        "optimizer = keras.optimizers.SGD(learning_rate=0.2, momentum=0.9, decay=0.01)\n",
        "model.compile(loss=\"sparse_categorical_crossentropy\", optimizer=optimizer, metrics=[\"accuracy\"])\n",
        "history = model.fit(x_train_set,y_train_set, validation_data=(x_valid_set, y_valid_set),epochs=5)"
      ],
      "metadata": {
        "id": "aXZwmNJzTgO1",
        "colab": {
          "base_uri": "https://localhost:8080/"
        },
        "outputId": "c932d540-6b84-45d3-d0bf-bf9c9d9cae03"
      },
      "execution_count": 41,
      "outputs": [
        {
          "output_type": "stream",
          "name": "stdout",
          "text": [
            "Epoch 1/5\n",
            "10/10 [==============================] - 76s 7s/step - loss: 2.0833 - accuracy: 0.1167 - val_loss: 2.0830 - val_accuracy: 0.1500\n",
            "Epoch 2/5\n",
            "10/10 [==============================] - 69s 7s/step - loss: 2.0851 - accuracy: 0.1200 - val_loss: 2.0995 - val_accuracy: 0.0900\n",
            "Epoch 3/5\n",
            "10/10 [==============================] - 68s 7s/step - loss: 2.0845 - accuracy: 0.1300 - val_loss: 2.0991 - val_accuracy: 0.0800\n",
            "Epoch 4/5\n",
            "10/10 [==============================] - 68s 7s/step - loss: 2.0842 - accuracy: 0.1067 - val_loss: 2.0824 - val_accuracy: 0.1700\n",
            "Epoch 5/5\n",
            "10/10 [==============================] - 73s 7s/step - loss: 2.0795 - accuracy: 0.1400 - val_loss: 2.0793 - val_accuracy: 0.1700\n"
          ]
        }
      ]
    },
    {
      "cell_type": "code",
      "source": [
        " for layer in base_model.layers:\n",
        "    layer.trainable = True\n",
        "\n",
        "optimizer = keras.optimizers.SGD(learning_rate=0.01, momentum=0.9,nesterov=True, decay=0.001)\n",
        "model.compile(loss=\"sparse_categorical_crossentropy\", optimizer=optimizer,metrics=[\"accuracy\"])\n",
        "early_stopping = keras.callbacks.EarlyStopping(patience=5, restore_best_weights=True)\n",
        "history = model.fit(x_train_set, y_train_set, validation_data=(x_valid_set, y_valid_set), epochs=10, callbacks=early_stopping)"
      ],
      "metadata": {
        "id": "AaCZv5u-TiUq",
        "colab": {
          "base_uri": "https://localhost:8080/"
        },
        "outputId": "7d20da4c-a014-4d4e-d0ff-ce2d07a79ed0"
      },
      "execution_count": 42,
      "outputs": [
        {
          "output_type": "stream",
          "name": "stdout",
          "text": [
            "Epoch 1/10\n",
            "10/10 [==============================] - 262s 26s/step - loss: 1.4134 - accuracy: 0.4467 - val_loss: 2.0790 - val_accuracy: 0.1700\n",
            "Epoch 2/10\n",
            "10/10 [==============================] - 261s 26s/step - loss: 1.2608 - accuracy: 0.5433 - val_loss: 2.0793 - val_accuracy: 0.1700\n",
            "Epoch 3/10\n",
            "10/10 [==============================] - 264s 26s/step - loss: 1.0186 - accuracy: 0.6400 - val_loss: 2.0793 - val_accuracy: 0.1700\n",
            "Epoch 4/10\n",
            "10/10 [==============================] - 260s 26s/step - loss: 0.9169 - accuracy: 0.6467 - val_loss: 2.0789 - val_accuracy: 0.1700\n",
            "Epoch 5/10\n",
            "10/10 [==============================] - 306s 31s/step - loss: 1.2322 - accuracy: 0.5733 - val_loss: 2.0781 - val_accuracy: 0.1700\n",
            "Epoch 6/10\n",
            "10/10 [==============================] - 279s 28s/step - loss: 0.9038 - accuracy: 0.6567 - val_loss: 2.0799 - val_accuracy: 0.1700\n",
            "Epoch 7/10\n",
            "10/10 [==============================] - 278s 28s/step - loss: 0.8198 - accuracy: 0.7333 - val_loss: 2.0793 - val_accuracy: 0.1700\n",
            "Epoch 8/10\n",
            "10/10 [==============================] - 275s 27s/step - loss: 0.9000 - accuracy: 0.6967 - val_loss: 2.0830 - val_accuracy: 0.1700\n",
            "Epoch 9/10\n",
            "10/10 [==============================] - 262s 26s/step - loss: 0.7498 - accuracy: 0.7367 - val_loss: 2.0841 - val_accuracy: 0.1700\n",
            "Epoch 10/10\n",
            "10/10 [==============================] - 242s 24s/step - loss: 0.7772 - accuracy: 0.7300 - val_loss: 2.0845 - val_accuracy: 0.1700\n"
          ]
        }
      ]
    },
    {
      "cell_type": "markdown",
      "source": [
        "#### Random Augmentation fit 결과"
      ],
      "metadata": {
        "id": "7YSBnzLWTjvL"
      }
    },
    {
      "cell_type": "code",
      "source": [
        "model.evaluate(x_test_set,y_test_set)"
      ],
      "metadata": {
        "id": "z9_VAd6_Tk-b",
        "colab": {
          "base_uri": "https://localhost:8080/"
        },
        "outputId": "e7aec6bc-1593-4056-8ff8-550baa985b2c"
      },
      "execution_count": 43,
      "outputs": [
        {
          "output_type": "stream",
          "name": "stdout",
          "text": [
            "4/4 [==============================] - 15s 3s/step - loss: 2.0783 - accuracy: 0.1500\n"
          ]
        },
        {
          "output_type": "execute_result",
          "data": {
            "text/plain": [
              "[2.078272819519043, 0.15000000596046448]"
            ]
          },
          "metadata": {},
          "execution_count": 43
        }
      ]
    },
    {
      "cell_type": "code",
      "source": [
        "pd.DataFrame(history.history).plot(figsize=(8,5))\n",
        "plt.grid(True)\n",
        "plt.gca().set_ylim(0,2)\n",
        "#save_fig(\"keras_learning_curves_plot\")\n",
        "plt.show()"
      ],
      "metadata": {
        "id": "QnDhLG-QTmCj",
        "colab": {
          "base_uri": "https://localhost:8080/",
          "height": 324
        },
        "outputId": "2e4e2b3e-3355-48ef-f079-2132a29d32a1"
      },
      "execution_count": 44,
      "outputs": [
        {
          "output_type": "display_data",
          "data": {
            "text/plain": [
              "<Figure size 576x360 with 1 Axes>"
            ],
            "image/png": "[encoded data removed]"
          },
          "metadata": {
            "needs_background": "light"
          }
        }
      ]
    },
    {
      "cell_type": "markdown",
      "source": [
        "### Res34 사용"
      ],
      "metadata": {
        "id": "P-V2ZgALTnpn"
      }
    },
    {
      "cell_type": "code",
      "source": [
        "DefaultConv2D = partial(keras.layers.Conv2D, kernel_size=3, strides=1,\n",
        "                        padding=\"SAME\", use_bias=False)\n",
        "\n",
        "class ResidualUnit(keras.layers.Layer):\n",
        "    def __init__(self, filters, strides=1, activation=\"relu\", **kwargs):\n",
        "        super().__init__(**kwargs)\n",
        "        self.activation = keras.activations.get(activation)\n",
        "        self.main_layers = [\n",
        "            DefaultConv2D(filters, strides=strides),\n",
        "            keras.layers.BatchNormalization(),\n",
        "            self.activation,\n",
        "            DefaultConv2D(filters),\n",
        "            keras.layers.BatchNormalization()]\n",
        "        self.skip_layers = []\n",
        "        if strides > 1:\n",
        "            self.skip_layers = [\n",
        "                DefaultConv2D(filters, kernel_size=1, strides=strides),\n",
        "                keras.layers.BatchNormalization()]\n",
        "\n",
        "    def call(self, inputs):\n",
        "        Z = inputs\n",
        "        for layer in self.main_layers:\n",
        "            Z = layer(Z)\n",
        "        skip_Z = inputs\n",
        "        for layer in self.skip_layers:\n",
        "            skip_Z = layer(skip_Z)\n",
        "        return self.activation(Z + skip_Z)"
      ],
      "metadata": {
        "id": "i2e6ex8NTo6k"
      },
      "execution_count": 45,
      "outputs": []
    },
    {
      "cell_type": "code",
      "source": [
        "model = keras.models.Sequential()\n",
        "model.add(DefaultConv2D(64, kernel_size=7, strides=2,\n",
        "                        input_shape=[150, 150, 3]))\n",
        "model.add(keras.layers.BatchNormalization())\n",
        "model.add(keras.layers.Activation(\"relu\"))\n",
        "model.add(keras.layers.MaxPool2D(pool_size=3, strides=2, padding=\"SAME\"))\n",
        "prev_filters = 64\n",
        "for filters in [64] * 3 + [128] * 4 + [256] * 6 + [512] * 3:\n",
        "    strides = 1 if filters == prev_filters else 2\n",
        "    model.add(ResidualUnit(filters, strides=strides))\n",
        "    prev_filters = filters\n",
        "model.add(keras.layers.GlobalAvgPool2D())\n",
        "model.add(keras.layers.Flatten())\n",
        "model.add(keras.layers.Dense(8, activation=\"softmax\"))"
      ],
      "metadata": {
        "id": "8sM51PDHTrWn"
      },
      "execution_count": 50,
      "outputs": []
    },
    {
      "cell_type": "code",
      "source": [
        "model = keras.models.Sequential()\n",
        "model.add(DefaultConv2D(64, kernel_size=7, strides=2,\n",
        "                        input_shape=[135, 135, 3]))\n",
        "model.add(keras.layers.BatchNormalization())\n",
        "model.add(keras.layers.Activation(\"relu\"))\n",
        "model.add(keras.layers.MaxPool2D(pool_size=3, strides=2, padding=\"SAME\"))\n",
        "prev_filters = 64\n",
        "for filters in [64] * 3 + [128] * 4 + [256] * 6 + [512] * 3:\n",
        "    strides = 1 if filters == prev_filters else 2\n",
        "    model.add(ResidualUnit(filters, strides=strides))\n",
        "    prev_filters = filters\n",
        "model.add(keras.layers.GlobalAvgPool2D())\n",
        "model.add(keras.layers.Flatten())\n",
        "model.add(keras.layers.Dense(8, activation=\"softmax\"))"
      ],
      "metadata": {
        "id": "L2NRU36bTsuw"
      },
      "execution_count": 61,
      "outputs": []
    },
    {
      "cell_type": "markdown",
      "source": [
        "#### Central Augment fit"
      ],
      "metadata": {
        "id": "2t4VztueTuaO"
      }
    },
    {
      "cell_type": "code",
      "source": [
        "model.compile(loss=\"sparse_categorical_crossentropy\", optimizer=\"nadam\", metrics=[\"accuracy\"])\n",
        "early_stopping = keras.callbacks.EarlyStopping(patience=5, restore_best_weights=True)\n",
        "history = model.fit(x_train_set, y_train_set, epochs=10, validation_data=(x_valid_set, y_valid_set), callbacks=early_stopping)"
      ],
      "metadata": {
        "id": "CcmeHT_vTvvQ",
        "colab": {
          "base_uri": "https://localhost:8080/"
        },
        "outputId": "b7d8fa8b-d4a3-4c8f-b9c9-a3cbfcd289f8"
      },
      "execution_count": 51,
      "outputs": [
        {
          "output_type": "stream",
          "name": "stdout",
          "text": [
            "Epoch 1/10\n",
            "10/10 [==============================] - 151s 10s/step - loss: 2.9805 - accuracy: 0.3200 - val_loss: 2735434.0000 - val_accuracy: 0.1500\n",
            "Epoch 2/10\n",
            "10/10 [==============================] - 95s 9s/step - loss: 1.8567 - accuracy: 0.3633 - val_loss: 46251068.0000 - val_accuracy: 0.1500\n",
            "Epoch 3/10\n",
            "10/10 [==============================] - 94s 9s/step - loss: 1.2743 - accuracy: 0.4933 - val_loss: 5118786.0000 - val_accuracy: 0.1500\n",
            "Epoch 4/10\n",
            "10/10 [==============================] - 101s 10s/step - loss: 1.9518 - accuracy: 0.4267 - val_loss: 2981686.5000 - val_accuracy: 0.1500\n",
            "Epoch 5/10\n",
            "10/10 [==============================] - 101s 10s/step - loss: 1.2583 - accuracy: 0.5200 - val_loss: 530725.7500 - val_accuracy: 0.1500\n",
            "Epoch 6/10\n",
            "10/10 [==============================] - 103s 10s/step - loss: 1.0942 - accuracy: 0.5700 - val_loss: 166078.4062 - val_accuracy: 0.1500\n",
            "Epoch 7/10\n",
            "10/10 [==============================] - 103s 10s/step - loss: 1.1242 - accuracy: 0.5733 - val_loss: 73577.8438 - val_accuracy: 0.1500\n",
            "Epoch 8/10\n",
            "10/10 [==============================] - 104s 10s/step - loss: 1.0611 - accuracy: 0.5867 - val_loss: 20436.4805 - val_accuracy: 0.1500\n",
            "Epoch 9/10\n",
            "10/10 [==============================] - 103s 10s/step - loss: 0.9952 - accuracy: 0.6300 - val_loss: 10414.4443 - val_accuracy: 0.1500\n",
            "Epoch 10/10\n",
            "10/10 [==============================] - 100s 10s/step - loss: 1.2447 - accuracy: 0.5733 - val_loss: 7640.5371 - val_accuracy: 0.1500\n"
          ]
        }
      ]
    },
    {
      "cell_type": "markdown",
      "source": [
        "#### Central Augment fit 결과"
      ],
      "metadata": {
        "id": "mFkCS_JVTw9c"
      }
    },
    {
      "cell_type": "code",
      "source": [
        "model.evaluate(x_test_set,y_test_set)"
      ],
      "metadata": {
        "id": "v2jkMsHCTyRo",
        "colab": {
          "base_uri": "https://localhost:8080/"
        },
        "outputId": "923b853d-5ae0-4417-bf65-d3e669757df1"
      },
      "execution_count": 52,
      "outputs": [
        {
          "output_type": "stream",
          "name": "stdout",
          "text": [
            "4/4 [==============================] - 6s 1s/step - loss: 7255.7715 - accuracy: 0.1100\n"
          ]
        },
        {
          "output_type": "execute_result",
          "data": {
            "text/plain": [
              "[7255.771484375, 0.10999999940395355]"
            ]
          },
          "metadata": {},
          "execution_count": 52
        }
      ]
    },
    {
      "cell_type": "code",
      "source": [
        "pd.DataFrame(history.history).plot(figsize=(8,5))\n",
        "plt.grid(True)\n",
        "plt.gca().set_ylim(0,2)\n",
        "#save_fig(\"keras_learning_curves_plot\")\n",
        "plt.show()"
      ],
      "metadata": {
        "id": "NKOq9-CFT0I_",
        "colab": {
          "base_uri": "https://localhost:8080/",
          "height": 0
        },
        "outputId": "11b1c932-5f38-4b2f-e7d6-20faa789825c"
      },
      "execution_count": 56,
      "outputs": [
        {
          "output_type": "display_data",
          "data": {
            "text/plain": [
              "<Figure size 576x360 with 1 Axes>"
            ],
            "image/png": "[encoded data removed]"
          },
          "metadata": {
            "needs_background": "light"
          }
        }
      ]
    },
    {
      "cell_type": "markdown",
      "source": [
        "#### Random Augment fit "
      ],
      "metadata": {
        "id": "y8mSML8OT109"
      }
    },
    {
      "cell_type": "code",
      "source": [
        "model.compile(loss=\"sparse_categorical_crossentropy\", optimizer=\"nadam\", metrics=[\"accuracy\"])\n",
        "early_stopping = keras.callbacks.EarlyStopping(patience=5, restore_best_weights=True)\n",
        "history = model.fit(x_train_set, y_train_set, epochs=10, validation_data=(x_valid_set, y_valid_set), callbacks=early_stopping)"
      ],
      "metadata": {
        "id": "WKMlbL_1T26U",
        "colab": {
          "base_uri": "https://localhost:8080/"
        },
        "outputId": "7697278b-7703-4740-e860-b14876dad053"
      },
      "execution_count": 62,
      "outputs": [
        {
          "output_type": "stream",
          "name": "stdout",
          "text": [
            "Epoch 1/10\n",
            "10/10 [==============================] - 98s 9s/step - loss: 2.9046 - accuracy: 0.2800 - val_loss: 2076692.3750 - val_accuracy: 0.1500\n",
            "Epoch 2/10\n",
            "10/10 [==============================] - 88s 9s/step - loss: 1.6669 - accuracy: 0.3767 - val_loss: 2753169.2500 - val_accuracy: 0.1500\n",
            "Epoch 3/10\n",
            "10/10 [==============================] - 87s 9s/step - loss: 1.1618 - accuracy: 0.5467 - val_loss: 770922.1875 - val_accuracy: 0.1600\n",
            "Epoch 4/10\n",
            "10/10 [==============================] - 86s 9s/step - loss: 1.2626 - accuracy: 0.4967 - val_loss: 276627.3750 - val_accuracy: 0.1500\n",
            "Epoch 5/10\n",
            "10/10 [==============================] - 83s 8s/step - loss: 1.2007 - accuracy: 0.5633 - val_loss: 42559.9141 - val_accuracy: 0.1500\n",
            "Epoch 6/10\n",
            "10/10 [==============================] - 85s 9s/step - loss: 1.0658 - accuracy: 0.5967 - val_loss: 4163.2783 - val_accuracy: 0.1500\n",
            "Epoch 7/10\n",
            "10/10 [==============================] - 88s 9s/step - loss: 1.1724 - accuracy: 0.5233 - val_loss: 6189.3555 - val_accuracy: 0.1500\n",
            "Epoch 8/10\n",
            "10/10 [==============================] - 88s 9s/step - loss: 1.0485 - accuracy: 0.6000 - val_loss: 5259.0610 - val_accuracy: 0.1500\n",
            "Epoch 9/10\n",
            "10/10 [==============================] - 87s 9s/step - loss: 0.9361 - accuracy: 0.6567 - val_loss: 2374.0361 - val_accuracy: 0.1600\n",
            "Epoch 10/10\n",
            "10/10 [==============================] - 84s 8s/step - loss: 1.0871 - accuracy: 0.6100 - val_loss: 1670.2444 - val_accuracy: 0.1500\n"
          ]
        }
      ]
    },
    {
      "cell_type": "markdown",
      "source": [
        "#### Random Augment fit 결과"
      ],
      "metadata": {
        "id": "rOkJk6nqT5PS"
      }
    },
    {
      "cell_type": "code",
      "source": [
        "model.evaluate(x_test_set,y_test_set)"
      ],
      "metadata": {
        "id": "ReIah3UUT59c",
        "colab": {
          "base_uri": "https://localhost:8080/"
        },
        "outputId": "0846f309-16b8-4d79-baf7-37a0dbba7996"
      },
      "execution_count": 63,
      "outputs": [
        {
          "output_type": "stream",
          "name": "stdout",
          "text": [
            "4/4 [==============================] - 6s 1s/step - loss: 1448.0178 - accuracy: 0.1100\n"
          ]
        },
        {
          "output_type": "execute_result",
          "data": {
            "text/plain": [
              "[1448.017822265625, 0.10999999940395355]"
            ]
          },
          "metadata": {},
          "execution_count": 63
        }
      ]
    },
    {
      "cell_type": "code",
      "source": [
        "pd.DataFrame(history.history).plot(figsize=(8,5))\n",
        "plt.grid(True)\n",
        "plt.gca().set_ylim(0,2)\n",
        "#save_fig(\"keras_learning_curves_plot\")\n",
        "plt.show()"
      ],
      "metadata": {
        "id": "fkI6Qj5sT7Oq",
        "colab": {
          "base_uri": "https://localhost:8080/",
          "height": 324
        },
        "outputId": "9a131aed-395c-4b8d-844e-7ebd5f0197b2"
      },
      "execution_count": 64,
      "outputs": [
        {
          "output_type": "display_data",
          "data": {
            "text/plain": [
              "<Figure size 576x360 with 1 Axes>"
            ],
            "image/png": "[encoded data removed]"
          },
          "metadata": {
            "needs_background": "light"
          }
        }
      ]
    },
    {
      "cell_type": "code",
      "source": [
        ""
      ],
      "metadata": {
        "id": "IF4KSbc-leMa"
      },
      "execution_count": null,
      "outputs": []
    }
  ]
}