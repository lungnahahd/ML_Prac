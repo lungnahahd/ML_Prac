{
  "cells": [
    {
      "cell_type": "markdown",
      "metadata": {
        "id": "view-in-github",
        "colab_type": "text"
      },
      "source": [
        "<a href=\"https://colab.research.google.com/github/lungnahahd/Tensorflow_Prac/blob/main/Reusing_Pretrained_Layers.ipynb\" target=\"_parent\"><img src=\"https://colab.research.google.com/assets/colab-badge.svg\" alt=\"Open In Colab\"/></a>"
      ]
    },
    {
      "cell_type": "markdown",
      "metadata": {
        "id": "TQ55uGx0ZUb0"
      },
      "source": [
        "<table align=\"left\">\n",
        "  <td>\n",
        "    <a href=\"https://colab.research.google.com/github/ageron/handson-ml2/blob/master/11_training_deep_neural_networks.ipynb\" target=\"_parent\"><img src=\"https://colab.research.google.com/assets/colab-badge.svg\" alt=\"Open In Colab\"/></a>\n",
        "  </td>\n",
        "  <td>\n",
        "    <a target=\"_blank\" href=\"https://kaggle.com/kernels/welcome?src=https://github.com/ageron/handson-ml2/blob/master/11_training_deep_neural_networks.ipynb\"><img src=\"https://kaggle.com/static/images/open-in-kaggle.svg\" /></a>\n",
        "  </td>\n",
        "</table>"
      ]
    },
    {
      "cell_type": "markdown",
      "metadata": {
        "id": "k3h64tKwZUcU"
      },
      "source": [
        "## Reusing Pretrained Layers\n",
        "## Transfer Learning\n",
        "\n"
      ]
    },
    {
      "cell_type": "markdown",
      "metadata": {
        "id": "Uxs0lIx5ZUcV"
      },
      "source": [
        "### Reusing a Keras model"
      ]
    },
    {
      "cell_type": "markdown",
      "metadata": {
        "id": "6vMjiF63ZUcV"
      },
      "source": [
        "Let's split the fashion MNIST training set in two:\n",
        "* `X_train_A`: all images of all items except for sandals and shirts (classes 5 and 6).\n",
        "* `X_train_B`: a much smaller training set of just the first 200 images of sandals or shirts.\n",
        "\n",
        "The validation set and the test set are also split this way, but without restricting the number of images.\n",
        "\n",
        "We will train a model on set A (classification task with 8 classes), and try to reuse it to tackle set B (binary classification). We hope to transfer a little bit of knowledge from task A to task B, since classes in set A (sneakers, ankle boots, coats, t-shirts, etc.) are somewhat similar to classes in set B (sandals and shirts). However, since we are using `Dense` layers, only patterns that occur at the same location can be reused (in contrast, convolutional layers will transfer much better, since learned patterns can be detected anywhere on the image, as we will see in the CNN chapter)."
      ]
    },
    {
      "cell_type": "code",
      "source": [
        "import sys\n",
        "assert sys.version_info >= (3, 5)\n",
        "\n",
        "# Scikit-Learn ≥0.20 is required\n",
        "import sklearn\n",
        "assert sklearn.__version__ >= \"0.20\"\n",
        "\n",
        "try:\n",
        "    # %tensorflow_version only exists in Colab.\n",
        "    %tensorflow_version 2.x\n",
        "except Exception:\n",
        "    pass\n",
        "\n",
        "# TensorFlow ≥2.0 is required\n",
        "import tensorflow as tf\n",
        "from tensorflow import keras\n",
        "assert tf.__version__ >= \"2.0\"\n",
        "\n",
        "import numpy as np"
      ],
      "metadata": {
        "id": "Yi9B-Dmgaz6U"
      },
      "execution_count": 5,
      "outputs": []
    },
    {
      "cell_type": "code",
      "source": [
        "(X_train_full, y_train_full), (X_test, y_test) = keras.datasets.fashion_mnist.load_data()\n",
        "X_train_full = X_train_full / 255.0\n",
        "X_test = X_test / 255.0\n",
        "X_valid, X_train = X_train_full[:5000], X_train_full[5000:]\n",
        "y_valid, y_train = y_train_full[:5000], y_train_full[5000:]"
      ],
      "metadata": {
        "id": "TdxLQMsKasVp"
      },
      "execution_count": 6,
      "outputs": []
    },
    {
      "cell_type": "code",
      "execution_count": 7,
      "metadata": {
        "id": "QyQ-EbOaZUcV"
      },
      "outputs": [],
      "source": [
        "def split_dataset(X, y):\n",
        "    y_5_or_6 = (y == 5) | (y == 6) # sandals or shirts\n",
        "    y_A = y[~y_5_or_6]\n",
        "    y_A[y_A > 6] -= 2 # class indices 7, 8, 9 should be moved to 5, 6, 7\n",
        "    y_B = (y[y_5_or_6] == 6).astype(np.float32) # binary classification task: is it a shirt (class 6)?\n",
        "    return ((X[~y_5_or_6], y_A),\n",
        "            (X[y_5_or_6], y_B))\n",
        "\n",
        "(X_train_A, y_train_A), (X_train_B, y_train_B) = split_dataset(X_train, y_train)\n",
        "(X_valid_A, y_valid_A), (X_valid_B, y_valid_B) = split_dataset(X_valid, y_valid)\n",
        "(X_test_A, y_test_A), (X_test_B, y_test_B) = split_dataset(X_test, y_test)\n",
        "X_train_B = X_train_B[:200]\n",
        "y_train_B = y_train_B[:200]"
      ]
    },
    {
      "cell_type": "code",
      "execution_count": 8,
      "metadata": {
        "id": "TrodePZ6ZUcV",
        "outputId": "f7582a42-be9a-43e9-ece4-8b8d6d69614f",
        "colab": {
          "base_uri": "https://localhost:8080/"
        }
      },
      "outputs": [
        {
          "output_type": "execute_result",
          "data": {
            "text/plain": [
              "(43986, 28, 28)"
            ]
          },
          "metadata": {},
          "execution_count": 8
        }
      ],
      "source": [
        "X_train_A.shape"
      ]
    },
    {
      "cell_type": "code",
      "execution_count": 9,
      "metadata": {
        "id": "KlBlcBxcZUcV",
        "outputId": "44078aad-b9b7-4a53-d28c-453335b3e7ba",
        "colab": {
          "base_uri": "https://localhost:8080/"
        }
      },
      "outputs": [
        {
          "output_type": "execute_result",
          "data": {
            "text/plain": [
              "(200, 28, 28)"
            ]
          },
          "metadata": {},
          "execution_count": 9
        }
      ],
      "source": [
        "X_train_B.shape"
      ]
    },
    {
      "cell_type": "code",
      "execution_count": 10,
      "metadata": {
        "id": "0hmnZSUyZUcW",
        "outputId": "56be6819-b3fa-4ddb-fed5-8edd6abfea4b",
        "colab": {
          "base_uri": "https://localhost:8080/"
        }
      },
      "outputs": [
        {
          "output_type": "execute_result",
          "data": {
            "text/plain": [
              "array([4, 0, 5, 7, 7, 7, 4, 4, 3, 4, 0, 1, 6, 3, 4, 3, 2, 6, 5, 3, 4, 5,\n",
              "       1, 3, 4, 2, 0, 6, 7, 1], dtype=uint8)"
            ]
          },
          "metadata": {},
          "execution_count": 10
        }
      ],
      "source": [
        "y_train_A[:30]"
      ]
    },
    {
      "cell_type": "code",
      "execution_count": 11,
      "metadata": {
        "id": "CWp0x6VZZUcW",
        "outputId": "3376683b-09dc-4b99-8fad-d88ca23c5c6a",
        "colab": {
          "base_uri": "https://localhost:8080/"
        }
      },
      "outputs": [
        {
          "output_type": "execute_result",
          "data": {
            "text/plain": [
              "array([1., 1., 0., 0., 0., 0., 1., 1., 1., 0., 0., 1., 1., 0., 0., 0., 0.,\n",
              "       0., 0., 1., 1., 0., 0., 1., 1., 0., 1., 1., 1., 1.], dtype=float32)"
            ]
          },
          "metadata": {},
          "execution_count": 11
        }
      ],
      "source": [
        "y_train_B[:30]"
      ]
    },
    {
      "cell_type": "markdown",
      "source": [
        "랜덤한 weight를 고정시켜주기 위해 작성한 코드 부분"
      ],
      "metadata": {
        "id": "BlveUxXxbLY7"
      }
    },
    {
      "cell_type": "code",
      "execution_count": null,
      "metadata": {
        "id": "BkEiyM9JZUcW"
      },
      "outputs": [],
      "source": [
        "\n",
        "tf.random.set_seed(42)\n",
        "np.random.seed(42)"
      ]
    },
    {
      "cell_type": "code",
      "execution_count": 13,
      "metadata": {
        "id": "SEM7-Bj9ZUcW"
      },
      "outputs": [],
      "source": [
        "model_A = keras.models.Sequential()\n",
        "model_A.add(keras.layers.Flatten(input_shape=[28, 28]))\n",
        "for n_hidden in (300, 100, 50, 50, 50):\n",
        "    model_A.add(keras.layers.Dense(n_hidden, activation=\"selu\")) ## selu를 통해 각 layer를 학습\n",
        "model_A.add(keras.layers.Dense(8, activation=\"softmax\"))"
      ]
    },
    {
      "cell_type": "code",
      "execution_count": 14,
      "metadata": {
        "id": "hJZhGo4WZUcW"
      },
      "outputs": [],
      "source": [
        "model_A.compile(loss=\"sparse_categorical_crossentropy\",\n",
        "                optimizer=keras.optimizers.SGD(learning_rate=1e-3),\n",
        "                metrics=[\"accuracy\"])"
      ]
    },
    {
      "cell_type": "code",
      "execution_count": 15,
      "metadata": {
        "id": "ccmQULBzZUcW",
        "outputId": "b38af6f1-8363-4ae6-c2d8-870b35f61fac",
        "colab": {
          "base_uri": "https://localhost:8080/"
        }
      },
      "outputs": [
        {
          "output_type": "stream",
          "name": "stdout",
          "text": [
            "Epoch 1/20\n",
            "1375/1375 [==============================] - 6s 4ms/step - loss: 0.5660 - accuracy: 0.8220 - val_loss: 0.3719 - val_accuracy: 0.8739\n",
            "Epoch 2/20\n",
            "1375/1375 [==============================] - 5s 4ms/step - loss: 0.3502 - accuracy: 0.8796 - val_loss: 0.3271 - val_accuracy: 0.8919\n",
            "Epoch 3/20\n",
            "1375/1375 [==============================] - 5s 3ms/step - loss: 0.3163 - accuracy: 0.8910 - val_loss: 0.3014 - val_accuracy: 0.8994\n",
            "Epoch 4/20\n",
            "1375/1375 [==============================] - 5s 3ms/step - loss: 0.2977 - accuracy: 0.8969 - val_loss: 0.2860 - val_accuracy: 0.9056\n",
            "Epoch 5/20\n",
            "1375/1375 [==============================] - 5s 4ms/step - loss: 0.2855 - accuracy: 0.9009 - val_loss: 0.2764 - val_accuracy: 0.9071\n",
            "Epoch 6/20\n",
            "1375/1375 [==============================] - 5s 3ms/step - loss: 0.2763 - accuracy: 0.9050 - val_loss: 0.2723 - val_accuracy: 0.9096\n",
            "Epoch 7/20\n",
            "1375/1375 [==============================] - 5s 4ms/step - loss: 0.2687 - accuracy: 0.9081 - val_loss: 0.2677 - val_accuracy: 0.9108\n",
            "Epoch 8/20\n",
            "1375/1375 [==============================] - 5s 3ms/step - loss: 0.2622 - accuracy: 0.9101 - val_loss: 0.2640 - val_accuracy: 0.9086\n",
            "Epoch 9/20\n",
            "1375/1375 [==============================] - 5s 4ms/step - loss: 0.2568 - accuracy: 0.9124 - val_loss: 0.2683 - val_accuracy: 0.9071\n",
            "Epoch 10/20\n",
            "1375/1375 [==============================] - 5s 4ms/step - loss: 0.2523 - accuracy: 0.9139 - val_loss: 0.2534 - val_accuracy: 0.9168\n",
            "Epoch 11/20\n",
            "1375/1375 [==============================] - 5s 3ms/step - loss: 0.2477 - accuracy: 0.9158 - val_loss: 0.2507 - val_accuracy: 0.9143\n",
            "Epoch 12/20\n",
            "1375/1375 [==============================] - 5s 3ms/step - loss: 0.2442 - accuracy: 0.9167 - val_loss: 0.2461 - val_accuracy: 0.9145\n",
            "Epoch 13/20\n",
            "1375/1375 [==============================] - 5s 4ms/step - loss: 0.2408 - accuracy: 0.9179 - val_loss: 0.2445 - val_accuracy: 0.9160\n",
            "Epoch 14/20\n",
            "1375/1375 [==============================] - 5s 4ms/step - loss: 0.2373 - accuracy: 0.9189 - val_loss: 0.2409 - val_accuracy: 0.9175\n",
            "Epoch 15/20\n",
            "1375/1375 [==============================] - 5s 3ms/step - loss: 0.2344 - accuracy: 0.9207 - val_loss: 0.2446 - val_accuracy: 0.9148\n",
            "Epoch 16/20\n",
            "1375/1375 [==============================] - 5s 3ms/step - loss: 0.2315 - accuracy: 0.9210 - val_loss: 0.2414 - val_accuracy: 0.9198\n",
            "Epoch 17/20\n",
            "1375/1375 [==============================] - 5s 3ms/step - loss: 0.2286 - accuracy: 0.9225 - val_loss: 0.2397 - val_accuracy: 0.9148\n",
            "Epoch 18/20\n",
            "1375/1375 [==============================] - 5s 4ms/step - loss: 0.2258 - accuracy: 0.9237 - val_loss: 0.2380 - val_accuracy: 0.9190\n",
            "Epoch 19/20\n",
            "1375/1375 [==============================] - 5s 3ms/step - loss: 0.2237 - accuracy: 0.9238 - val_loss: 0.2354 - val_accuracy: 0.9185\n",
            "Epoch 20/20\n",
            "1375/1375 [==============================] - 5s 3ms/step - loss: 0.2215 - accuracy: 0.9246 - val_loss: 0.2335 - val_accuracy: 0.9170\n"
          ]
        }
      ],
      "source": [
        "history = model_A.fit(X_train_A, y_train_A, epochs=20,\n",
        "                    validation_data=(X_valid_A, y_valid_A))"
      ]
    },
    {
      "cell_type": "code",
      "execution_count": 16,
      "metadata": {
        "id": "3Q2hsrmXZUcX"
      },
      "outputs": [],
      "source": [
        "model_A.save(\"my_model_A.h5\")"
      ]
    },
    {
      "cell_type": "markdown",
      "source": [
        "\n",
        "\n",
        "> 여기서 부터 실질적인 Transfer Learning 시작\n",
        "\n",
        "* **model A는 사전에 미리 학습 되었다고 가정**\n",
        "* **model B는 transfer Learning을 모르는 사람이 비슷하지만 다른 주제를 가지고 learning을 시작하는 경우**\n",
        "\n"
      ],
      "metadata": {
        "id": "4fyB3fKGe3lp"
      }
    },
    {
      "cell_type": "code",
      "execution_count": 17,
      "metadata": {
        "id": "w2dDbJ75ZUcX"
      },
      "outputs": [],
      "source": [
        "model_B = keras.models.Sequential()\n",
        "model_B.add(keras.layers.Flatten(input_shape=[28, 28]))\n",
        "for n_hidden in (300, 100, 50, 50, 50):\n",
        "    model_B.add(keras.layers.Dense(n_hidden, activation=\"selu\"))\n",
        "model_B.add(keras.layers.Dense(1, activation=\"sigmoid\"))"
      ]
    },
    {
      "cell_type": "markdown",
      "source": [
        "여기서는 model_A와 유사한 주제로 둘 중 하나를 선택하는 binary 문제를 해결하기 위한 모델을 만드는 것이라고 가정"
      ],
      "metadata": {
        "id": "XZk4Q_p-fTZK"
      }
    },
    {
      "cell_type": "code",
      "execution_count": 18,
      "metadata": {
        "id": "Ir9ytvIHZUcX"
      },
      "outputs": [],
      "source": [
        "model_B.compile(loss=\"binary_crossentropy\",\n",
        "                optimizer=keras.optimizers.SGD(learning_rate=1e-3),\n",
        "                metrics=[\"accuracy\"])"
      ]
    },
    {
      "cell_type": "code",
      "execution_count": 19,
      "metadata": {
        "id": "rka6mfaXZUcY",
        "outputId": "8e81db1a-f933-4993-ae5f-b6debd8d307a",
        "colab": {
          "base_uri": "https://localhost:8080/"
        }
      },
      "outputs": [
        {
          "output_type": "stream",
          "name": "stdout",
          "text": [
            "Epoch 1/20\n",
            "7/7 [==============================] - 1s 44ms/step - loss: 0.8108 - accuracy: 0.4750 - val_loss: 0.6067 - val_accuracy: 0.7059\n",
            "Epoch 2/20\n",
            "7/7 [==============================] - 0s 15ms/step - loss: 0.5651 - accuracy: 0.7300 - val_loss: 0.4600 - val_accuracy: 0.8205\n",
            "Epoch 3/20\n",
            "7/7 [==============================] - 0s 17ms/step - loss: 0.4315 - accuracy: 0.8350 - val_loss: 0.3717 - val_accuracy: 0.8722\n",
            "Epoch 4/20\n",
            "7/7 [==============================] - 0s 15ms/step - loss: 0.3503 - accuracy: 0.8650 - val_loss: 0.3072 - val_accuracy: 0.9148\n",
            "Epoch 5/20\n",
            "7/7 [==============================] - 0s 17ms/step - loss: 0.2865 - accuracy: 0.9200 - val_loss: 0.2610 - val_accuracy: 0.9361\n",
            "Epoch 6/20\n",
            "7/7 [==============================] - 0s 15ms/step - loss: 0.2410 - accuracy: 0.9450 - val_loss: 0.2293 - val_accuracy: 0.9422\n",
            "Epoch 7/20\n",
            "7/7 [==============================] - 0s 15ms/step - loss: 0.2094 - accuracy: 0.9500 - val_loss: 0.2051 - val_accuracy: 0.9493\n",
            "Epoch 8/20\n",
            "7/7 [==============================] - 0s 17ms/step - loss: 0.1845 - accuracy: 0.9500 - val_loss: 0.1848 - val_accuracy: 0.9604\n",
            "Epoch 9/20\n",
            "7/7 [==============================] - 0s 15ms/step - loss: 0.1643 - accuracy: 0.9700 - val_loss: 0.1691 - val_accuracy: 0.9675\n",
            "Epoch 10/20\n",
            "7/7 [==============================] - 0s 17ms/step - loss: 0.1486 - accuracy: 0.9900 - val_loss: 0.1569 - val_accuracy: 0.9696\n",
            "Epoch 11/20\n",
            "7/7 [==============================] - 0s 17ms/step - loss: 0.1353 - accuracy: 0.9950 - val_loss: 0.1454 - val_accuracy: 0.9767\n",
            "Epoch 12/20\n",
            "7/7 [==============================] - 0s 18ms/step - loss: 0.1235 - accuracy: 0.9950 - val_loss: 0.1350 - val_accuracy: 0.9787\n",
            "Epoch 13/20\n",
            "7/7 [==============================] - 0s 17ms/step - loss: 0.1130 - accuracy: 0.9900 - val_loss: 0.1273 - val_accuracy: 0.9787\n",
            "Epoch 14/20\n",
            "7/7 [==============================] - 0s 18ms/step - loss: 0.1050 - accuracy: 0.9900 - val_loss: 0.1202 - val_accuracy: 0.9797\n",
            "Epoch 15/20\n",
            "7/7 [==============================] - 0s 16ms/step - loss: 0.0979 - accuracy: 0.9950 - val_loss: 0.1144 - val_accuracy: 0.9797\n",
            "Epoch 16/20\n",
            "7/7 [==============================] - 0s 15ms/step - loss: 0.0918 - accuracy: 0.9950 - val_loss: 0.1093 - val_accuracy: 0.9807\n",
            "Epoch 17/20\n",
            "7/7 [==============================] - 0s 15ms/step - loss: 0.0863 - accuracy: 1.0000 - val_loss: 0.1042 - val_accuracy: 0.9807\n",
            "Epoch 18/20\n",
            "7/7 [==============================] - 0s 18ms/step - loss: 0.0812 - accuracy: 0.9950 - val_loss: 0.0998 - val_accuracy: 0.9807\n",
            "Epoch 19/20\n",
            "7/7 [==============================] - 0s 16ms/step - loss: 0.0765 - accuracy: 0.9950 - val_loss: 0.0960 - val_accuracy: 0.9807\n",
            "Epoch 20/20\n",
            "7/7 [==============================] - 0s 17ms/step - loss: 0.0727 - accuracy: 0.9950 - val_loss: 0.0924 - val_accuracy: 0.9817\n"
          ]
        }
      ],
      "source": [
        "history = model_B.fit(X_train_B, y_train_B, epochs=20,\n",
        "                      validation_data=(X_valid_B, y_valid_B))"
      ]
    },
    {
      "cell_type": "code",
      "execution_count": 20,
      "metadata": {
        "id": "uXNkeZwKZUcY",
        "outputId": "d704d259-1e4f-40f2-8da7-8c0332d81861",
        "colab": {
          "base_uri": "https://localhost:8080/"
        }
      },
      "outputs": [
        {
          "output_type": "stream",
          "name": "stdout",
          "text": [
            "Model: \"sequential_2\"\n",
            "_________________________________________________________________\n",
            " Layer (type)                Output Shape              Param #   \n",
            "=================================================================\n",
            " flatten_2 (Flatten)         (None, 784)               0         \n",
            "                                                                 \n",
            " dense_12 (Dense)            (None, 300)               235500    \n",
            "                                                                 \n",
            " dense_13 (Dense)            (None, 100)               30100     \n",
            "                                                                 \n",
            " dense_14 (Dense)            (None, 50)                5050      \n",
            "                                                                 \n",
            " dense_15 (Dense)            (None, 50)                2550      \n",
            "                                                                 \n",
            " dense_16 (Dense)            (None, 50)                2550      \n",
            "                                                                 \n",
            " dense_17 (Dense)            (None, 1)                 51        \n",
            "                                                                 \n",
            "=================================================================\n",
            "Total params: 275,801\n",
            "Trainable params: 275,801\n",
            "Non-trainable params: 0\n",
            "_________________________________________________________________\n"
          ]
        }
      ],
      "source": [
        "model_B.summary()"
      ]
    },
    {
      "cell_type": "markdown",
      "source": [
        "* **여기서부터는 model_A를 load해서 이를 활용한 model_B_on_A를 만드는 과정**"
      ],
      "metadata": {
        "id": "u9xJ3IsMfhLl"
      }
    },
    {
      "cell_type": "code",
      "execution_count": null,
      "metadata": {
        "id": "btJWEcVxZUcZ"
      },
      "outputs": [],
      "source": [
        "model_A = keras.models.load_model(\"my_model_A.h5\") # 기존 모델 가져오기\n",
        "model_B_on_A = keras.models.Sequential(model_A.layers[:-1]) # 모델을 마지막 layer 전까지 가져온다는 의미\n",
        "model_B_on_A.add(keras.layers.Dense(1, activation=\"sigmoid\")) # 가져온 모델 A에 사용자가 원하는 마지막 layer를 따로 추가해서 새로운 모델 생성"
      ]
    },
    {
      "cell_type": "markdown",
      "metadata": {
        "id": "LVWbrhAhZUcZ"
      },
      "source": [
        "* 기존 모델을 그대로 위에처럼 사용하면, 학습 시 기존 모델 A에도 영향이 미친다.\n",
        "* 이를 방지하기 위해서는 아래와 같이 clone을 통해 동일하지만 독립적인 모델을 따로 만들어서 진행해주면, 학습 시, 추가적인 모델도 만들 수 있고, 기존 모델도 온전히 보호하면서 작업을 진행할 수 있음\n",
        "* 주의할 점은 모델을 clone하면 모델 자체만 복사되지 관련된 weight까지 가져오지는 않기에 wegiht를 따로 입혀주어야 함"
      ]
    },
    {
      "cell_type": "code",
      "execution_count": 22,
      "metadata": {
        "id": "iHA9YbdvZUca"
      },
      "outputs": [],
      "source": [
        "model_A_clone = keras.models.clone_model(model_A) # 기존 모델을 clone \n",
        "model_A_clone.set_weights(model_A.get_weights()) # 모델을 clone하고 기존 모델의 weight 입히기\n",
        "model_B_on_A = keras.models.Sequential(model_A_clone.layers[:-1]) # 복사한 모델을 원하는 부분만 가져오기\n",
        "model_B_on_A.add(keras.layers.Dense(1, activation=\"sigmoid\")) # 복사한 모델을 활용"
      ]
    },
    {
      "cell_type": "code",
      "execution_count": 24,
      "metadata": {
        "id": "e9j4c4zDZUca"
      },
      "outputs": [],
      "source": [
        "# for문을 통해서 기존 학습된 모델의 부분은 false로 고정시켜놓기 가능\n",
        "for layer in model_B_on_A.layers[:-1]:\n",
        "    layer.trainable = False\n",
        "# 생성하기 원하는 모델의 compile 과정\n",
        "model_B_on_A.compile(loss=\"binary_crossentropy\",\n",
        "                     optimizer=keras.optimizers.SGD(learning_rate=1e-3),\n",
        "                     metrics=[\"accuracy\"])"
      ]
    },
    {
      "cell_type": "code",
      "execution_count": 25,
      "metadata": {
        "id": "f_IPPuG6ZUca",
        "outputId": "c25def90-fe8f-4861-ebff-6712c8901b60",
        "colab": {
          "base_uri": "https://localhost:8080/"
        }
      },
      "outputs": [
        {
          "output_type": "stream",
          "name": "stdout",
          "text": [
            "Epoch 1/4\n",
            "7/7 [==============================] - 1s 43ms/step - loss: 1.8778 - accuracy: 0.1550 - val_loss: 1.8435 - val_accuracy: 0.2373\n",
            "Epoch 2/4\n",
            "7/7 [==============================] - 0s 16ms/step - loss: 1.7316 - accuracy: 0.2100 - val_loss: 1.7059 - val_accuracy: 0.2606\n",
            "Epoch 3/4\n",
            "7/7 [==============================] - 0s 14ms/step - loss: 1.5926 - accuracy: 0.2400 - val_loss: 1.5774 - val_accuracy: 0.2819\n",
            "Epoch 4/4\n",
            "7/7 [==============================] - 0s 14ms/step - loss: 1.4635 - accuracy: 0.2650 - val_loss: 1.4546 - val_accuracy: 0.3114\n",
            "Epoch 1/16\n",
            "7/7 [==============================] - 1s 46ms/step - loss: 1.1468 - accuracy: 0.3650 - val_loss: 0.9000 - val_accuracy: 0.4817\n",
            "Epoch 2/16\n",
            "7/7 [==============================] - 0s 18ms/step - loss: 0.6921 - accuracy: 0.5600 - val_loss: 0.5966 - val_accuracy: 0.6673\n",
            "Epoch 3/16\n",
            "7/7 [==============================] - 0s 17ms/step - loss: 0.4492 - accuracy: 0.7650 - val_loss: 0.4188 - val_accuracy: 0.8012\n",
            "Epoch 4/16\n",
            "7/7 [==============================] - 0s 16ms/step - loss: 0.3120 - accuracy: 0.9050 - val_loss: 0.3289 - val_accuracy: 0.8824\n",
            "Epoch 5/16\n",
            "7/7 [==============================] - 0s 15ms/step - loss: 0.2426 - accuracy: 0.9400 - val_loss: 0.2694 - val_accuracy: 0.9249\n",
            "Epoch 6/16\n",
            "7/7 [==============================] - 0s 17ms/step - loss: 0.1964 - accuracy: 0.9800 - val_loss: 0.2274 - val_accuracy: 0.9523\n",
            "Epoch 7/16\n",
            "7/7 [==============================] - 0s 17ms/step - loss: 0.1639 - accuracy: 0.9900 - val_loss: 0.1984 - val_accuracy: 0.9615\n",
            "Epoch 8/16\n",
            "7/7 [==============================] - 0s 18ms/step - loss: 0.1411 - accuracy: 0.9900 - val_loss: 0.1769 - val_accuracy: 0.9696\n",
            "Epoch 9/16\n",
            "7/7 [==============================] - 0s 15ms/step - loss: 0.1246 - accuracy: 0.9900 - val_loss: 0.1607 - val_accuracy: 0.9706\n",
            "Epoch 10/16\n",
            "7/7 [==============================] - 0s 15ms/step - loss: 0.1121 - accuracy: 0.9900 - val_loss: 0.1471 - val_accuracy: 0.9757\n",
            "Epoch 11/16\n",
            "7/7 [==============================] - 0s 17ms/step - loss: 0.1014 - accuracy: 0.9950 - val_loss: 0.1359 - val_accuracy: 0.9787\n",
            "Epoch 12/16\n",
            "7/7 [==============================] - 0s 17ms/step - loss: 0.0928 - accuracy: 0.9950 - val_loss: 0.1269 - val_accuracy: 0.9807\n",
            "Epoch 13/16\n",
            "7/7 [==============================] - 0s 17ms/step - loss: 0.0858 - accuracy: 0.9950 - val_loss: 0.1181 - val_accuracy: 0.9817\n",
            "Epoch 14/16\n",
            "7/7 [==============================] - 0s 15ms/step - loss: 0.0791 - accuracy: 0.9950 - val_loss: 0.1114 - val_accuracy: 0.9848\n",
            "Epoch 15/16\n",
            "7/7 [==============================] - 0s 16ms/step - loss: 0.0740 - accuracy: 0.9950 - val_loss: 0.1055 - val_accuracy: 0.9848\n",
            "Epoch 16/16\n",
            "7/7 [==============================] - 0s 16ms/step - loss: 0.0693 - accuracy: 0.9950 - val_loss: 0.1005 - val_accuracy: 0.9848\n"
          ]
        }
      ],
      "source": [
        "# 생성하기 원하는 모델을 학습\n",
        "history = model_B_on_A.fit(X_train_B, y_train_B, epochs=4,\n",
        "                           validation_data=(X_valid_B, y_valid_B))\n",
        "\n",
        "# 학습을 완료한 이후에는 전부 이전에 false로 고정했던 것을 풀어주기\n",
        "for layer in model_B_on_A.layers[:-1]:\n",
        "    layer.trainable = True\n",
        "\n",
        "model_B_on_A.compile(loss=\"binary_crossentropy\",\n",
        "                     optimizer=keras.optimizers.SGD(learning_rate=1e-3),\n",
        "                     metrics=[\"accuracy\"])\n",
        "# 그리고 전체적인 모델을 활용해서 추가학습 진행\n",
        "history = model_B_on_A.fit(X_train_B, y_train_B, epochs=16,\n",
        "                           validation_data=(X_valid_B, y_valid_B))"
      ]
    },
    {
      "cell_type": "code",
      "execution_count": 26,
      "metadata": {
        "id": "FXI0gTcWZUcb",
        "outputId": "6de89208-d92c-4d05-b636-5e09c63d1b78",
        "colab": {
          "base_uri": "https://localhost:8080/"
        }
      },
      "outputs": [
        {
          "output_type": "stream",
          "name": "stdout",
          "text": [
            "63/63 [==============================] - 0s 2ms/step - loss: 0.0920 - accuracy: 0.9860\n"
          ]
        },
        {
          "output_type": "execute_result",
          "data": {
            "text/plain": [
              "[0.09204290062189102, 0.9860000014305115]"
            ]
          },
          "metadata": {},
          "execution_count": 26
        }
      ],
      "source": [
        "model_B.evaluate(X_test_B, y_test_B)"
      ]
    },
    {
      "cell_type": "markdown",
      "source": [
        "transfer learning의 결과가 보다 완벽한 것을 확인 가능"
      ],
      "metadata": {
        "id": "v0HSuT_yh0sT"
      }
    },
    {
      "cell_type": "code",
      "execution_count": 27,
      "metadata": {
        "id": "WUWMMkFyZUcb",
        "outputId": "219f2b2e-2528-4ab0-f8dd-d0258d68258a",
        "colab": {
          "base_uri": "https://localhost:8080/"
        }
      },
      "outputs": [
        {
          "output_type": "stream",
          "name": "stdout",
          "text": [
            "63/63 [==============================] - 0s 2ms/step - loss: 0.0843 - accuracy: 0.9940\n"
          ]
        },
        {
          "output_type": "execute_result",
          "data": {
            "text/plain": [
              "[0.08425780385732651, 0.9940000176429749]"
            ]
          },
          "metadata": {},
          "execution_count": 27
        }
      ],
      "source": [
        "model_B_on_A.evaluate(X_test_B, y_test_B)"
      ]
    },
    {
      "cell_type": "markdown",
      "metadata": {
        "id": "b3fkL3ZPZUcb"
      },
      "source": [
        "Great! We got quite a bit of transfer: the error rate dropped by a factor of 4.9!"
      ]
    },
    {
      "cell_type": "code",
      "execution_count": null,
      "metadata": {
        "id": "za2vQQZLZUcc",
        "outputId": "b527bb00-503e-4f7f-8cce-97c6592c1bd7"
      },
      "outputs": [
        {
          "data": {
            "text/plain": [
              "4.916666666666718"
            ]
          },
          "execution_count": 66,
          "metadata": {},
          "output_type": "execute_result"
        }
      ],
      "source": [
        "(100 - 97.05) / (100 - 99.40)"
      ]
    }
  ],
  "metadata": {
    "kernelspec": {
      "display_name": "Python 3",
      "language": "python",
      "name": "python3"
    },
    "language_info": {
      "codemirror_mode": {
        "name": "ipython",
        "version": 3
      },
      "file_extension": ".py",
      "mimetype": "text/x-python",
      "name": "python",
      "nbconvert_exporter": "python",
      "pygments_lexer": "ipython3",
      "version": "3.8.12"
    },
    "nav_menu": {
      "height": "360px",
      "width": "416px"
    },
    "toc": {
      "navigate_menu": true,
      "number_sections": true,
      "sideBar": true,
      "threshold": 6,
      "toc_cell": false,
      "toc_section_display": "block",
      "toc_window_display": false
    },
    "colab": {
      "name": "Reusing Pretrained Layers",
      "provenance": [],
      "toc_visible": true,
      "include_colab_link": true
    }
  },
  "nbformat": 4,
  "nbformat_minor": 0
}