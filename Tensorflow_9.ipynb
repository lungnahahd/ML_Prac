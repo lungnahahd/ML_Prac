{
  "nbformat": 4,
  "nbformat_minor": 0,
  "metadata": {
    "colab": {
      "name": "Tensorflow_9",
      "provenance": [],
      "authorship_tag": "ABX9TyPFdXrtbEzu3wBCWMQ4U1GA",
      "include_colab_link": true
    },
    "kernelspec": {
      "name": "python3",
      "display_name": "Python 3"
    }
  },
  "cells": [
    {
      "cell_type": "markdown",
      "metadata": {
        "id": "view-in-github",
        "colab_type": "text"
      },
      "source": [
        "<a href=\"https://colab.research.google.com/github/lungnahahd/Tensorflow_Prac/blob/main/Tensorflow_9.ipynb\" target=\"_parent\"><img src=\"https://colab.research.google.com/assets/colab-badge.svg\" alt=\"Open In Colab\"/></a>"
      ]
    },
    {
      "cell_type": "code",
      "metadata": {
        "id": "ItUPG4NCH1DQ"
      },
      "source": [
        "import tensorflow as tf\r\n",
        "import pandas as pd"
      ],
      "execution_count": 1,
      "outputs": []
    },
    {
      "cell_type": "code",
      "metadata": {
        "id": "KLGH1LBSH8s0"
      },
      "source": [
        "import glob\r\n",
        "import numpy as np\r\n",
        "import matplotlib.pyplot as plt"
      ],
      "execution_count": 2,
      "outputs": []
    },
    {
      "cell_type": "code",
      "metadata": {
        "id": "HmeSOSxqISZl"
      },
      "source": [
        "#나만의 이미지 분석 모델을 만들기 위해 이미지를 다운 받고 이를 압축 해제하는 부분\r\n",
        "!wget -q https://raw.githubusercontent.com/blackdew/tensorflow1/master/csv/notMNIST_small.tar.gz\r\n",
        "!tar -xzf notMNIST_small.tar.gz"
      ],
      "execution_count": 5,
      "outputs": []
    },
    {
      "cell_type": "code",
      "metadata": {
        "id": "oW9Jx_CHOl2s"
      },
      "source": [
        "# 해당 이미지들의 경로를 path에 담는 코드\r\n",
        "path = glob.glob('./notMNIST_small/*/*.png')\r\n",
        "# 경로에 위치한 이미지들을 random하게 셔플하는 역할\r\n",
        "path = np.random.permutation(path)\r\n",
        "# 셔플한 이미지들을 독립변수와 종속변수에 담는 코드\r\n",
        "독립 = np.array([plt.imread(path[i])for i in range(len(path))])\r\n",
        "종속 = np.array([path[i].split('/')[-2] for i in range(len(path))])"
      ],
      "execution_count": 6,
      "outputs": []
    },
    {
      "cell_type": "code",
      "metadata": {
        "colab": {
          "base_uri": "https://localhost:8080/"
        },
        "id": "0WU5OpReU77s",
        "outputId": "fcff6951-bb27-49c0-c54f-f8ef40388109"
      },
      "source": [
        "print(독립.shape, 종속.shape)"
      ],
      "execution_count": 7,
      "outputs": [
        {
          "output_type": "stream",
          "text": [
            "(18724, 28, 28) (18724,)\n"
          ],
          "name": "stdout"
        }
      ]
    },
    {
      "cell_type": "code",
      "metadata": {
        "colab": {
          "base_uri": "https://localhost:8080/",
          "height": 35
        },
        "id": "9bDnPrMcU-o8",
        "outputId": "08b9b84f-be6e-4987-b267-bda3f3066c77"
      },
      "source": [
        "종속[1]"
      ],
      "execution_count": 10,
      "outputs": [
        {
          "output_type": "execute_result",
          "data": {
            "application/vnd.google.colaboratory.intrinsic+json": {
              "type": "string"
            },
            "text/plain": [
              "'D'"
            ]
          },
          "metadata": {
            "tags": []
          },
          "execution_count": 10
        }
      ]
    },
    {
      "cell_type": "code",
      "metadata": {
        "colab": {
          "base_uri": "https://localhost:8080/",
          "height": 282
        },
        "id": "y9nXbcJNVEsB",
        "outputId": "575a2114-9c72-46f0-8f24-2219b67b0a1e"
      },
      "source": [
        "plt.imshow(독립[1],cmap='gray')"
      ],
      "execution_count": 11,
      "outputs": [
        {
          "output_type": "execute_result",
          "data": {
            "text/plain": [
              "<matplotlib.image.AxesImage at 0x7f208c5000f0>"
            ]
          },
          "metadata": {
            "tags": []
          },
          "execution_count": 11
        },
        {
          "output_type": "display_data",
          "data": {
            "image/png": "[encoded data removed]",
            "text/plain": [
              "<Figure size 432x288 with 1 Axes>"
            ]
          },
          "metadata": {
            "tags": [],
            "needs_background": "light"
          }
        }
      ]
    },
    {
      "cell_type": "code",
      "metadata": {
        "colab": {
          "base_uri": "https://localhost:8080/"
        },
        "id": "F3I7fcdlVggc",
        "outputId": "6b9bae9e-ab4b-4a6e-a052-2ff363b60bc3"
      },
      "source": [
        "# convolution 연산을 위해 reshape 필요\r\n",
        "독립 = 독립.reshape(18724, 28, 28, 1)\r\n",
        "# 원핫인코딩 실시\r\n",
        "종속 = pd.get_dummies(종속)\r\n",
        "print(독립.shape, 종속.shape)"
      ],
      "execution_count": 12,
      "outputs": [
        {
          "output_type": "stream",
          "text": [
            "(18724, 28, 28, 1) (18724, 10)\n"
          ],
          "name": "stdout"
        }
      ]
    },
    {
      "cell_type": "code",
      "metadata": {
        "id": "qddRJ7-UXNdT"
      },
      "source": [
        "# 모델을 생성하는 과정\r\n",
        "X = tf.keras.layers.Input(shape=[28,28,1])\r\n",
        "\r\n",
        "H = tf.keras.layers.Conv2D(6, kernel_size=5, activation='swish')(X)\r\n",
        "H = tf.keras.layers.MaxPool2D()(H)\r\n",
        "\r\n",
        "H = tf.keras.layers.Conv2D(16, kernel_size=5, activation='swish')(H)\r\n",
        "H = tf.keras.layers.MaxPool2D()(H)\r\n",
        "\r\n",
        "# 이미지를 표 데이터로 변환\r\n",
        "H = tf.keras.layers.Flatten()(H)\r\n",
        "# 히든 레이어를 사용\r\n",
        "H = tf.keras.layers.Dense(120, activation='swish')(H)\r\n",
        "H = tf.keras.layers.Dense( 84, activation='swish')(H)\r\n",
        "Y = tf.keras.layers.Dense(10, activation='softmax')(H)\r\n",
        "\r\n",
        "model = tf.keras.models.Model(X, Y)\r\n",
        "model.compile(loss='categorical_crossentropy', metrics='accuracy')"
      ],
      "execution_count": 14,
      "outputs": []
    },
    {
      "cell_type": "code",
      "metadata": {
        "colab": {
          "base_uri": "https://localhost:8080/"
        },
        "id": "ohcsqdjKY7QF",
        "outputId": "ca90c236-8863-4631-e69b-ec430343238b"
      },
      "source": [
        "# 모델을 학습\r\n",
        "model.fit(독립, 종속, epochs=10)"
      ],
      "execution_count": 15,
      "outputs": [
        {
          "output_type": "stream",
          "text": [
            "Epoch 1/10\n",
            "586/586 [==============================] - 10s 15ms/step - loss: 0.8770 - accuracy: 0.7423\n",
            "Epoch 2/10\n",
            "586/586 [==============================] - 9s 15ms/step - loss: 0.3354 - accuracy: 0.8995\n",
            "Epoch 3/10\n",
            "586/586 [==============================] - 9s 15ms/step - loss: 0.2570 - accuracy: 0.9220\n",
            "Epoch 4/10\n",
            "586/586 [==============================] - 9s 15ms/step - loss: 0.2147 - accuracy: 0.9357\n",
            "Epoch 5/10\n",
            "586/586 [==============================] - 9s 15ms/step - loss: 0.1913 - accuracy: 0.9392\n",
            "Epoch 6/10\n",
            "586/586 [==============================] - 9s 15ms/step - loss: 0.1641 - accuracy: 0.9488\n",
            "Epoch 7/10\n",
            "586/586 [==============================] - 9s 15ms/step - loss: 0.1399 - accuracy: 0.9573\n",
            "Epoch 8/10\n",
            "586/586 [==============================] - 9s 15ms/step - loss: 0.1280 - accuracy: 0.9585\n",
            "Epoch 9/10\n",
            "586/586 [==============================] - 9s 15ms/step - loss: 0.1126 - accuracy: 0.9641\n",
            "Epoch 10/10\n",
            "586/586 [==============================] - 9s 15ms/step - loss: 0.0883 - accuracy: 0.9731\n"
          ],
          "name": "stdout"
        },
        {
          "output_type": "execute_result",
          "data": {
            "text/plain": [
              "<tensorflow.python.keras.callbacks.History at 0x7f2087e6f0f0>"
            ]
          },
          "metadata": {
            "tags": []
          },
          "execution_count": 15
        }
      ]
    },
    {
      "cell_type": "code",
      "metadata": {
        "colab": {
          "base_uri": "https://localhost:8080/"
        },
        "id": "p8kixM47ZDLY",
        "outputId": "9f7da8c6-a217-40bb-b428-0e2e6ac0eac5"
      },
      "source": [
        "print(종속[:5])"
      ],
      "execution_count": 16,
      "outputs": [
        {
          "output_type": "stream",
          "text": [
            "   A  B  C  D  E  F  G  H  I  J\n",
            "0  0  0  0  0  0  0  0  0  1  0\n",
            "1  0  0  0  1  0  0  0  0  0  0\n",
            "2  0  0  0  0  0  1  0  0  0  0\n",
            "3  0  0  1  0  0  0  0  0  0  0\n",
            "4  0  0  0  0  0  1  0  0  0  0\n"
          ],
          "name": "stdout"
        }
      ]
    },
    {
      "cell_type": "code",
      "metadata": {
        "colab": {
          "base_uri": "https://localhost:8080/",
          "height": 195
        },
        "id": "OLJMyj6TZfjv",
        "outputId": "b78998d0-748e-4186-b622-66d2b91273ca"
      },
      "source": [
        "pred = model.predict(독립[:5])\r\n",
        "pd.DataFrame(pred).round(2)"
      ],
      "execution_count": 17,
      "outputs": [
        {
          "output_type": "execute_result",
          "data": {
            "text/html": [
              "<div>\n",
              "<style scoped>\n",
              "    .dataframe tbody tr th:only-of-type {\n",
              "        vertical-align: middle;\n",
              "    }\n",
              "\n",
              "    .dataframe tbody tr th {\n",
              "        vertical-align: top;\n",
              "    }\n",
              "\n",
              "    .dataframe thead th {\n",
              "        text-align: right;\n",
              "    }\n",
              "</style>\n",
              "<table border=\"1\" class=\"dataframe\">\n",
              "  <thead>\n",
              "    <tr style=\"text-align: right;\">\n",
              "      <th></th>\n",
              "      <th>0</th>\n",
              "      <th>1</th>\n",
              "      <th>2</th>\n",
              "      <th>3</th>\n",
              "      <th>4</th>\n",
              "      <th>5</th>\n",
              "      <th>6</th>\n",
              "      <th>7</th>\n",
              "      <th>8</th>\n",
              "      <th>9</th>\n",
              "    </tr>\n",
              "  </thead>\n",
              "  <tbody>\n",
              "    <tr>\n",
              "      <th>0</th>\n",
              "      <td>0.0</td>\n",
              "      <td>0.0</td>\n",
              "      <td>0.0</td>\n",
              "      <td>0.00</td>\n",
              "      <td>0.0</td>\n",
              "      <td>0.0</td>\n",
              "      <td>0.0</td>\n",
              "      <td>0.0</td>\n",
              "      <td>1.00</td>\n",
              "      <td>0.00</td>\n",
              "    </tr>\n",
              "    <tr>\n",
              "      <th>1</th>\n",
              "      <td>0.0</td>\n",
              "      <td>0.0</td>\n",
              "      <td>0.0</td>\n",
              "      <td>0.96</td>\n",
              "      <td>0.0</td>\n",
              "      <td>0.0</td>\n",
              "      <td>0.0</td>\n",
              "      <td>0.0</td>\n",
              "      <td>0.03</td>\n",
              "      <td>0.01</td>\n",
              "    </tr>\n",
              "    <tr>\n",
              "      <th>2</th>\n",
              "      <td>0.0</td>\n",
              "      <td>0.0</td>\n",
              "      <td>0.0</td>\n",
              "      <td>0.00</td>\n",
              "      <td>0.0</td>\n",
              "      <td>1.0</td>\n",
              "      <td>0.0</td>\n",
              "      <td>0.0</td>\n",
              "      <td>0.00</td>\n",
              "      <td>0.00</td>\n",
              "    </tr>\n",
              "    <tr>\n",
              "      <th>3</th>\n",
              "      <td>0.0</td>\n",
              "      <td>0.0</td>\n",
              "      <td>1.0</td>\n",
              "      <td>0.00</td>\n",
              "      <td>0.0</td>\n",
              "      <td>0.0</td>\n",
              "      <td>0.0</td>\n",
              "      <td>0.0</td>\n",
              "      <td>0.00</td>\n",
              "      <td>0.00</td>\n",
              "    </tr>\n",
              "    <tr>\n",
              "      <th>4</th>\n",
              "      <td>0.0</td>\n",
              "      <td>0.0</td>\n",
              "      <td>0.0</td>\n",
              "      <td>0.00</td>\n",
              "      <td>0.0</td>\n",
              "      <td>1.0</td>\n",
              "      <td>0.0</td>\n",
              "      <td>0.0</td>\n",
              "      <td>0.00</td>\n",
              "      <td>0.00</td>\n",
              "    </tr>\n",
              "  </tbody>\n",
              "</table>\n",
              "</div>"
            ],
            "text/plain": [
              "     0    1    2     3    4    5    6    7     8     9\n",
              "0  0.0  0.0  0.0  0.00  0.0  0.0  0.0  0.0  1.00  0.00\n",
              "1  0.0  0.0  0.0  0.96  0.0  0.0  0.0  0.0  0.03  0.01\n",
              "2  0.0  0.0  0.0  0.00  0.0  1.0  0.0  0.0  0.00  0.00\n",
              "3  0.0  0.0  1.0  0.00  0.0  0.0  0.0  0.0  0.00  0.00\n",
              "4  0.0  0.0  0.0  0.00  0.0  1.0  0.0  0.0  0.00  0.00"
            ]
          },
          "metadata": {
            "tags": []
          },
          "execution_count": 17
        }
      ]
    },
    {
      "cell_type": "code",
      "metadata": {
        "colab": {
          "base_uri": "https://localhost:8080/"
        },
        "id": "JgJ1JniDZpZB",
        "outputId": "92ed86dd-3c6b-4836-fed1-e04cbb41e336"
      },
      "source": [
        "model.summary()"
      ],
      "execution_count": 18,
      "outputs": [
        {
          "output_type": "stream",
          "text": [
            "Model: \"model_1\"\n",
            "_________________________________________________________________\n",
            "Layer (type)                 Output Shape              Param #   \n",
            "=================================================================\n",
            "input_2 (InputLayer)         [(None, 28, 28, 1)]       0         \n",
            "_________________________________________________________________\n",
            "conv2d_2 (Conv2D)            (None, 24, 24, 6)         156       \n",
            "_________________________________________________________________\n",
            "max_pooling2d_2 (MaxPooling2 (None, 12, 12, 6)         0         \n",
            "_________________________________________________________________\n",
            "conv2d_3 (Conv2D)            (None, 8, 8, 16)          2416      \n",
            "_________________________________________________________________\n",
            "max_pooling2d_3 (MaxPooling2 (None, 4, 4, 16)          0         \n",
            "_________________________________________________________________\n",
            "flatten_1 (Flatten)          (None, 256)               0         \n",
            "_________________________________________________________________\n",
            "dense_3 (Dense)              (None, 120)               30840     \n",
            "_________________________________________________________________\n",
            "dense_4 (Dense)              (None, 84)                10164     \n",
            "_________________________________________________________________\n",
            "dense_5 (Dense)              (None, 10)                850       \n",
            "=================================================================\n",
            "Total params: 44,426\n",
            "Trainable params: 44,426\n",
            "Non-trainable params: 0\n",
            "_________________________________________________________________\n"
          ],
          "name": "stdout"
        }
      ]
    }
  ]
}