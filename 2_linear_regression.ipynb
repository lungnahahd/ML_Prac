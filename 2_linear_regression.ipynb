{
  "nbformat": 4,
  "nbformat_minor": 0,
  "metadata": {
    "colab": {
      "name": "2_linear_regression.ipynb",
      "provenance": [],
      "authorship_tag": "ABX9TyMQJ6LbyB5Zc0dhxohODFYi",
      "include_colab_link": true
    },
    "kernelspec": {
      "name": "python3",
      "display_name": "Python 3"
    },
    "language_info": {
      "name": "python"
    }
  },
  "cells": [
    {
      "cell_type": "markdown",
      "metadata": {
        "id": "view-in-github",
        "colab_type": "text"
      },
      "source": [
        "<a href=\"https://colab.research.google.com/github/lungnahahd/Tensorflow_Prac/blob/main/2_linear_regression.ipynb\" target=\"_parent\"><img src=\"https://colab.research.google.com/assets/colab-badge.svg\" alt=\"Open In Colab\"/></a>"
      ]
    },
    {
      "cell_type": "code",
      "metadata": {
        "id": "r7dQ6AJzMhwA"
      },
      "source": [
        "import tensorflow.compat.v1 as tf\n",
        "tf.disable_v2_behavior()\n",
        "import numpy as np\n",
        "import matplotlib.pyplot as plt"
      ],
      "execution_count": null,
      "outputs": []
    },
    {
      "cell_type": "code",
      "metadata": {
        "id": "i-FmpXLBM8qF"
      },
      "source": [
        "learning_rate = 0.01\n",
        "training_epochs = 100"
      ],
      "execution_count": null,
      "outputs": []
    },
    {
      "cell_type": "code",
      "metadata": {
        "id": "F9uhiUr-NRsf"
      },
      "source": [
        "x_train = np.linspace(-1, 1, 101)\n",
        "y_train = 3*x_train + 5 + np.random.randn(*x_train.shape) * 0.5"
      ],
      "execution_count": null,
      "outputs": []
    },
    {
      "cell_type": "code",
      "metadata": {
        "id": "Stnun7eTPCOl"
      },
      "source": [
        "X = tf.placeholder(tf.float32)\n",
        "Y = tf.placeholder(tf.float32)"
      ],
      "execution_count": null,
      "outputs": []
    },
    {
      "cell_type": "code",
      "metadata": {
        "id": "yrgLsJo2QoIs"
      },
      "source": [
        "w = tf.Variable(tf.random_uniform([1],-1,1), name=\"weight0\")\n",
        "b = tf.Variable(0.0, name=\"weight1\")\n",
        "\n",
        "def model(X,w,b):\n",
        "  return tf.add(tf.multiply(X,w), b)"
      ],
      "execution_count": null,
      "outputs": []
    },
    {
      "cell_type": "code",
      "metadata": {
        "id": "dBVUMkFBSR5y"
      },
      "source": [
        "y_model = model(X,w,b)\n",
        "cost = tf.reduce_mean(tf.square(Y-y_model))\n",
        "train_op = tf.train.GradientDescentOptimizer(learning_rate).minimize(cost)"
      ],
      "execution_count": null,
      "outputs": []
    },
    {
      "cell_type": "code",
      "metadata": {
        "id": "px94kcs-S9mb"
      },
      "source": [
        "sess = tf.Session()\n",
        "init = tf.global_variables_initializer()\n",
        "sess.run(init)"
      ],
      "execution_count": null,
      "outputs": []
    },
    {
      "cell_type": "code",
      "metadata": {
        "id": "q3brGLf_TEuH"
      },
      "source": [
        "for epoch in range(training_epochs):\n",
        "  for(x,y) in zip(x_train, y_train):\n",
        "    sess.run(train_op,feed_dict={X:x, Y:y})"
      ],
      "execution_count": null,
      "outputs": []
    },
    {
      "cell_type": "code",
      "metadata": {
        "id": "BT5Cq4JXTR6f"
      },
      "source": [
        "w_val = sess.run(w)\n",
        "sess.close()"
      ],
      "execution_count": null,
      "outputs": []
    },
    {
      "cell_type": "code",
      "metadata": {
        "colab": {
          "base_uri": "https://localhost:8080/",
          "height": 282
        },
        "id": "BUMp5za8TW1-",
        "outputId": "fa1bd89c-8bc1-4c5a-d50d-72391e2699df"
      },
      "source": [
        "plt.scatter(x_train, y_train)\n",
        "y_learned = x_train*w_val\n",
        "plt.plot(x_train, y_learned,'r')\n",
        "plt.show"
      ],
      "execution_count": null,
      "outputs": [
        {
          "output_type": "execute_result",
          "data": {
            "text/plain": [
              "<function matplotlib.pyplot.show>"
            ]
          },
          "metadata": {
            "tags": []
          },
          "execution_count": 38
        },
        {
          "output_type": "display_data",
          "data": {
            "image/png": "[encoded data removed]",
            "text/plain": [
              "<Figure size 432x288 with 1 Axes>"
            ]
          },
          "metadata": {
            "tags": [],
            "needs_background": "light"
          }
        }
      ]
    },
    {
      "cell_type": "code",
      "metadata": {
        "id": "xJNY6hDkTiHG"
      },
      "source": [
        ""
      ],
      "execution_count": null,
      "outputs": []
    }
  ]
}