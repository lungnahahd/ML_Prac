{
  "nbformat": 4,
  "nbformat_minor": 0,
  "metadata": {
    "colab": {
      "name": "CitrusLeaves.ipynb",
      "provenance": [],
      "collapsed_sections": [],
      "authorship_tag": "ABX9TyNQJYQBkEP/itGTxDI5OwK1",
      "include_colab_link": true
    },
    "kernelspec": {
      "name": "python3",
      "display_name": "Python 3"
    },
    "language_info": {
      "name": "python"
    }
  },
  "cells": [
    {
      "cell_type": "markdown",
      "metadata": {
        "id": "view-in-github",
        "colab_type": "text"
      },
      "source": [
        "<a href=\"https://colab.research.google.com/github/lungnahahd/Tensorflow_Prac/blob/main/CitrusLeaves.ipynb\" target=\"_parent\"><img src=\"https://colab.research.google.com/assets/colab-badge.svg\" alt=\"Open In Colab\"/></a>"
      ]
    },
    {
      "cell_type": "code",
      "execution_count": 1,
      "metadata": {
        "id": "0BZACmUq9tI6"
      },
      "outputs": [],
      "source": [
        "import tensorflow_datasets as tfds\n",
        "import numpy as np\n",
        "import tensorflow as tf\n",
        "from tensorflow import keras\n",
        "from functools import partial\n",
        "import pandas as pd\n",
        "import matplotlib.pyplot as plt"
      ]
    },
    {
      "cell_type": "code",
      "source": [
        "test_set_raw, valid_set_raw, train_set_raw = tfds.load(\"citrus_leaves\",as_supervised=True, split=[\"train[:20%]\", \"train[20%:35%]\",\"train[35%:]\"])\n",
        "\n",
        "# Central Augmentation 진행\n",
        "def central_crop(image):\n",
        "    shape = tf.shape(image)\n",
        "    min_dim = tf.reduce_min([shape[0], shape[1]])\n",
        "    top_crop = (shape[0] - min_dim) // 4\n",
        "    bottom_crop = shape[0] - top_crop\n",
        "    left_crop = (shape[1] - min_dim) // 4\n",
        "    right_crop = shape[1] - left_crop\n",
        "    return image[top_crop:bottom_crop, left_crop:right_crop]\n",
        "\n",
        "# Random Augmentation 진행\n",
        "def random_crop(image):\n",
        "    shape = tf.shape(image)\n",
        "    min_dim = tf.reduce_min([shape[0], shape[1]]) * 90 // 100\n",
        "    return tf.image.random_crop(image, [min_dim, min_dim, 3])\n",
        "\n",
        "def preprocess(image, label, randomize=False):\n",
        "    if randomize:\n",
        "        cropped_image = random_crop(image)\n",
        "        cropped_image = tf.image.random_flip_left_right(cropped_image)\n",
        "    else:\n",
        "        cropped_image = central_crop(image)\n",
        "    resized_image = tf.image.resize(cropped_image, [224, 224])\n",
        "    return resized_image, label\n",
        "\n",
        "\n",
        "def origin_preprocess(image, label):\n",
        "  resized_image = tf.image.resize(image, [224, 224])\n",
        "  return resized_image, label"
      ],
      "metadata": {
        "id": "XA29RnPV9t6p"
      },
      "execution_count": 85,
      "outputs": []
    },
    {
      "cell_type": "markdown",
      "source": [
        ""
      ],
      "metadata": {
        "id": "g17mvAzmaObb"
      }
    },
    {
      "cell_type": "code",
      "source": [
        "batch_size = 32\n",
        "train_set = train_set_raw.shuffle(1000)\n",
        "train_set = train_set.map(partial(preprocess, randomize=True)).batch(batch_size).prefetch(1)\n",
        "valid_set = valid_set_raw.map(origin_preprocess).batch(batch_size).prefetch(1)\n",
        "test_set = test_set_raw.map(origin_preprocess).batch(batch_size).prefetch(1)"
      ],
      "metadata": {
        "id": "KIOLfdnI-nbP"
      },
      "execution_count": 79,
      "outputs": []
    },
    {
      "cell_type": "markdown",
      "source": [
        ""
      ],
      "metadata": {
        "id": "FgD-6afVaOzx"
      }
    },
    {
      "cell_type": "code",
      "source": [
        "batch_size = 32\n",
        "train_set = train_set_raw.shuffle(1000)\n",
        "train_set = train_set.map(partial(preprocess, randomize=False)).batch(batch_size).prefetch(1)\n",
        "valid_set = valid_set_raw.map(origin_preprocess).batch(batch_size).prefetch(1)\n",
        "test_set = test_set_raw.map(origin_preprocess).batch(batch_size).prefetch(1)"
      ],
      "metadata": {
        "id": "bgVy5H-9DWu-"
      },
      "execution_count": 86,
      "outputs": []
    },
    {
      "cell_type": "code",
      "source": [
        ""
      ],
      "metadata": {
        "id": "sK509W4cDWsy"
      },
      "execution_count": null,
      "outputs": []
    },
    {
      "cell_type": "code",
      "source": [
        ""
      ],
      "metadata": {
        "id": "nGJdpnXnDWqn"
      },
      "execution_count": null,
      "outputs": []
    },
    {
      "cell_type": "code",
      "source": [
        ""
      ],
      "metadata": {
        "id": "xaeccC5NDWn2"
      },
      "execution_count": null,
      "outputs": []
    },
    {
      "cell_type": "code",
      "source": [
        ""
      ],
      "metadata": {
        "id": "sQbNViujDV-T"
      },
      "execution_count": null,
      "outputs": []
    },
    {
      "cell_type": "code",
      "source": [
        "DefaultConv2D = partial(keras.layers.Conv2D, kernel_size=3, activation='relu', padding=\"SAME\")\n",
        "\n",
        "model = keras.models.Sequential([\n",
        "    DefaultConv2D(filters=64, kernel_size=7, input_shape=[224, 224, 3]),\n",
        "    keras.layers.MaxPooling2D(pool_size=2),\n",
        "    DefaultConv2D(filters=128),\n",
        "    DefaultConv2D(filters=128),\n",
        "    keras.layers.MaxPooling2D(pool_size=2),\n",
        "    DefaultConv2D(filters=256),\n",
        "    DefaultConv2D(filters=256),\n",
        "    keras.layers.MaxPooling2D(pool_size=2),\n",
        "    keras.layers.Flatten(),\n",
        "    keras.layers.Dense(units=128, activation='relu'),\n",
        "    keras.layers.Dropout(0.5),\n",
        "    keras.layers.Dense(units=64, activation='relu'),\n",
        "    keras.layers.Dropout(0.5),\n",
        "    keras.layers.Dense(units=4, activation='softmax'),\n",
        "])"
      ],
      "metadata": {
        "id": "oWn-7vNa-tt7"
      },
      "execution_count": 39,
      "outputs": []
    },
    {
      "cell_type": "code",
      "source": [
        "model.compile(loss=\"sparse_categorical_crossentropy\", optimizer=\"nadam\", metrics=[\"accuracy\"])\n",
        "early_stopping = keras.callbacks.EarlyStopping(patience=5, restore_best_weights=True)\n",
        "history = model.fit(train_set, epochs=10, validation_data=valid_set, callbacks=early_stopping)"
      ],
      "metadata": {
        "colab": {
          "base_uri": "https://localhost:8080/"
        },
        "id": "JCDt1nU4_GZ1",
        "outputId": "ad0b9774-ce20-4235-dcbf-fd5cdceb8349"
      },
      "execution_count": 35,
      "outputs": [
        {
          "output_type": "stream",
          "name": "stdout",
          "text": [
            "Epoch 1/10\n",
            "13/13 [==============================] - 322s 24s/step - loss: 63.6322 - accuracy: 0.2409 - val_loss: 1.4086 - val_accuracy: 0.2360\n",
            "Epoch 2/10\n",
            "13/13 [==============================] - 304s 23s/step - loss: 1.3907 - accuracy: 0.2927 - val_loss: 1.4230 - val_accuracy: 0.2472\n",
            "Epoch 3/10\n",
            "13/13 [==============================] - 313s 24s/step - loss: 1.3611 - accuracy: 0.3187 - val_loss: 1.3800 - val_accuracy: 0.3258\n",
            "Epoch 4/10\n",
            "13/13 [==============================] - 307s 24s/step - loss: 1.3659 - accuracy: 0.3653 - val_loss: 1.3746 - val_accuracy: 0.3258\n",
            "Epoch 5/10\n",
            "13/13 [==============================] - 303s 23s/step - loss: 1.4230 - accuracy: 0.3316 - val_loss: 1.5185 - val_accuracy: 0.2472\n",
            "Epoch 6/10\n",
            "13/13 [==============================] - 304s 23s/step - loss: 1.3397 - accuracy: 0.3316 - val_loss: 1.4272 - val_accuracy: 0.2472\n",
            "Epoch 7/10\n",
            "13/13 [==============================] - 295s 23s/step - loss: 1.3380 - accuracy: 0.3238 - val_loss: 1.3738 - val_accuracy: 0.3258\n",
            "Epoch 8/10\n",
            "13/13 [==============================] - 289s 22s/step - loss: 1.3446 - accuracy: 0.3472 - val_loss: 1.3763 - val_accuracy: 0.3258\n",
            "Epoch 9/10\n",
            "13/13 [==============================] - 287s 22s/step - loss: 1.3249 - accuracy: 0.3342 - val_loss: 1.4138 - val_accuracy: 0.3258\n",
            "Epoch 10/10\n",
            "13/13 [==============================] - 289s 22s/step - loss: 1.3252 - accuracy: 0.3342 - val_loss: 1.3835 - val_accuracy: 0.3258\n"
          ]
        }
      ]
    },
    {
      "cell_type": "code",
      "source": [
        "model.evaluate(test_set)"
      ],
      "metadata": {
        "colab": {
          "base_uri": "https://localhost:8080/"
        },
        "id": "Sh2fPH9l_UPn",
        "outputId": "f2585965-5b2d-47f8-ff1d-a3d5f14e103f"
      },
      "execution_count": 36,
      "outputs": [
        {
          "output_type": "stream",
          "name": "stdout",
          "text": [
            "4/4 [==============================] - 26s 6s/step - loss: 1.3136 - accuracy: 0.3025\n"
          ]
        },
        {
          "output_type": "execute_result",
          "data": {
            "text/plain": [
              "[1.3135733604431152, 0.3025210201740265]"
            ]
          },
          "metadata": {},
          "execution_count": 36
        }
      ]
    },
    {
      "cell_type": "code",
      "source": [
        "pd.DataFrame(history.history).plot(figsize=(8,5))\n",
        "plt.grid(True)\n",
        "plt.gca().set_ylim(0,2)\n",
        "plt.show()"
      ],
      "metadata": {
        "colab": {
          "base_uri": "https://localhost:8080/",
          "height": 324
        },
        "id": "oSb4YEtlIMFh",
        "outputId": "3d19d1d3-0ea7-47fe-d987-0d92d0d6746d"
      },
      "execution_count": 37,
      "outputs": [
        {
          "output_type": "display_data",
          "data": {
            "text/plain": [
              "<Figure size 576x360 with 1 Axes>"
            ],
            "image/png": "[encoded data removed]"
          },
          "metadata": {
            "needs_background": "light"
          }
        }
      ]
    },
    {
      "cell_type": "code",
      "source": [
        "model.compile(loss=\"sparse_categorical_crossentropy\", optimizer=\"nadam\", metrics=[\"accuracy\"])\n",
        "early_stopping = keras.callbacks.EarlyStopping(patience=5, restore_best_weights=True)\n",
        "history = model.fit(train_set, epochs=10, validation_data=valid_set, callbacks=early_stopping)"
      ],
      "metadata": {
        "colab": {
          "base_uri": "https://localhost:8080/"
        },
        "id": "YvlIWFltIZlW",
        "outputId": "7b42df07-7c08-49af-cba1-f515e59f2f86"
      },
      "execution_count": 40,
      "outputs": [
        {
          "output_type": "stream",
          "name": "stdout",
          "text": [
            "Epoch 1/10\n",
            "13/13 [==============================] - 295s 22s/step - loss: 66.0689 - accuracy: 0.2850 - val_loss: 1.3783 - val_accuracy: 0.3258\n",
            "Epoch 2/10\n",
            "13/13 [==============================] - 287s 22s/step - loss: 1.3510 - accuracy: 0.3212 - val_loss: 1.3796 - val_accuracy: 0.3258\n",
            "Epoch 3/10\n",
            "13/13 [==============================] - 287s 22s/step - loss: 1.3495 - accuracy: 0.3420 - val_loss: 1.3758 - val_accuracy: 0.3483\n",
            "Epoch 4/10\n",
            "13/13 [==============================] - 298s 22s/step - loss: 1.3570 - accuracy: 0.3109 - val_loss: 1.4111 - val_accuracy: 0.2809\n",
            "Epoch 5/10\n",
            "13/13 [==============================] - 291s 22s/step - loss: 1.3571 - accuracy: 0.3161 - val_loss: 1.3752 - val_accuracy: 0.3258\n",
            "Epoch 6/10\n",
            "13/13 [==============================] - 334s 26s/step - loss: 1.3322 - accuracy: 0.3264 - val_loss: 1.3951 - val_accuracy: 0.2472\n",
            "Epoch 7/10\n",
            "13/13 [==============================] - 343s 26s/step - loss: 1.3293 - accuracy: 0.3187 - val_loss: 1.3841 - val_accuracy: 0.3371\n",
            "Epoch 8/10\n",
            "13/13 [==============================] - 289s 22s/step - loss: 1.3226 - accuracy: 0.3342 - val_loss: 1.3739 - val_accuracy: 0.3258\n",
            "Epoch 9/10\n",
            "13/13 [==============================] - 293s 22s/step - loss: 1.3558 - accuracy: 0.3549 - val_loss: 1.3926 - val_accuracy: 0.3258\n",
            "Epoch 10/10\n",
            "13/13 [==============================] - 290s 22s/step - loss: 1.5509 - accuracy: 0.3575 - val_loss: 1.3729 - val_accuracy: 0.3258\n"
          ]
        }
      ]
    },
    {
      "cell_type": "code",
      "source": [
        "model.evaluate(test_set)"
      ],
      "metadata": {
        "colab": {
          "base_uri": "https://localhost:8080/"
        },
        "id": "XH4P_dUTImZD",
        "outputId": "180976b0-1a6f-4fae-d07d-20d2df0b5c65"
      },
      "execution_count": 42,
      "outputs": [
        {
          "output_type": "stream",
          "name": "stdout",
          "text": [
            "4/4 [==============================] - 24s 6s/step - loss: 1.3337 - accuracy: 0.3025\n"
          ]
        },
        {
          "output_type": "execute_result",
          "data": {
            "text/plain": [
              "[1.3337483406066895, 0.3025210201740265]"
            ]
          },
          "metadata": {},
          "execution_count": 42
        }
      ]
    },
    {
      "cell_type": "code",
      "source": [
        "pd.DataFrame(history.history).plot(figsize=(8,5))\n",
        "plt.grid(True)\n",
        "plt.gca().set_ylim(0,2)\n",
        "plt.show()"
      ],
      "metadata": {
        "colab": {
          "base_uri": "https://localhost:8080/",
          "height": 324
        },
        "id": "Vs0lZWIUdXgv",
        "outputId": "ea7db5af-0b2f-47d2-df29-86e57d32d9c0"
      },
      "execution_count": 43,
      "outputs": [
        {
          "output_type": "display_data",
          "data": {
            "text/plain": [
              "<Figure size 576x360 with 1 Axes>"
            ],
            "image/png": "[encoded data removed]"
          },
          "metadata": {
            "needs_background": "light"
          }
        }
      ]
    },
    {
      "cell_type": "code",
      "source": [
        ""
      ],
      "metadata": {
        "id": "ugtMiDpGdZY0"
      },
      "execution_count": null,
      "outputs": []
    },
    {
      "cell_type": "code",
      "source": [
        ""
      ],
      "metadata": {
        "id": "YAS4zFnNdZW6"
      },
      "execution_count": null,
      "outputs": []
    },
    {
      "cell_type": "code",
      "source": [
        ""
      ],
      "metadata": {
        "id": "aR-QWVLldZUx"
      },
      "execution_count": null,
      "outputs": []
    },
    {
      "cell_type": "code",
      "source": [
        ""
      ],
      "metadata": {
        "id": "n-FgY2u0dZS4"
      },
      "execution_count": null,
      "outputs": []
    },
    {
      "cell_type": "code",
      "source": [
        ""
      ],
      "metadata": {
        "id": "Kgh3rSwKdZQh"
      },
      "execution_count": null,
      "outputs": []
    },
    {
      "cell_type": "code",
      "source": [
        "# train_set =train_set / 255.\n",
        "# valid_set = valid_set / 255.\n",
        "# test_set = test_set / 255."
      ],
      "metadata": {
        "colab": {
          "base_uri": "https://localhost:8080/",
          "height": 209
        },
        "id": "S6wlHz2ydY8V",
        "outputId": "336cb4da-f185-4424-893d-646faa527c90"
      },
      "execution_count": 45,
      "outputs": [
        {
          "output_type": "error",
          "ename": "TypeError",
          "evalue": "ignored",
          "traceback": [
            "\u001b[0;31m---------------------------------------------------------------------------\u001b[0m",
            "\u001b[0;31mTypeError\u001b[0m                                 Traceback (most recent call last)",
            "\u001b[0;32m<ipython-input-45-d2e98975e2a2>\u001b[0m in \u001b[0;36m<module>\u001b[0;34m()\u001b[0m\n\u001b[0;32m----> 1\u001b[0;31m \u001b[0mtrain_set\u001b[0m \u001b[0;34m=\u001b[0m\u001b[0mtrain_set\u001b[0m \u001b[0;34m/\u001b[0m \u001b[0;36m255.\u001b[0m\u001b[0;34m\u001b[0m\u001b[0;34m\u001b[0m\u001b[0m\n\u001b[0m\u001b[1;32m      2\u001b[0m \u001b[0mvalid_set\u001b[0m \u001b[0;34m=\u001b[0m \u001b[0mvalid_set\u001b[0m \u001b[0;34m/\u001b[0m \u001b[0;36m255.\u001b[0m\u001b[0;34m\u001b[0m\u001b[0;34m\u001b[0m\u001b[0m\n\u001b[1;32m      3\u001b[0m \u001b[0mtest_set\u001b[0m \u001b[0;34m=\u001b[0m \u001b[0mtest_set\u001b[0m \u001b[0;34m/\u001b[0m \u001b[0;36m255.\u001b[0m\u001b[0;34m\u001b[0m\u001b[0;34m\u001b[0m\u001b[0m\n",
            "\u001b[0;31mTypeError\u001b[0m: unsupported operand type(s) for /: 'PrefetchDataset' and 'float'"
          ]
        }
      ]
    },
    {
      "cell_type": "code",
      "source": [
        "keras.backend.clear_session()\n",
        "tf.random.set_seed(42)\n",
        "np.random.seed(42)\n",
        "\n",
        "model = keras.models.Sequential([\n",
        "    keras.layers.Conv2D(32, kernel_size=3, padding=\"same\", activation=\"relu\"),\n",
        "    keras.layers.Conv2D(64, kernel_size=3, padding=\"same\", activation=\"relu\"),\n",
        "    keras.layers.MaxPool2D(),\n",
        "    keras.layers.Flatten(),\n",
        "    keras.layers.Dropout(0.25),\n",
        "    keras.layers.Dense(128, activation=\"relu\"),\n",
        "    keras.layers.Dropout(0.5),\n",
        "    keras.layers.Dense(4, activation=\"softmax\")\n",
        "])"
      ],
      "metadata": {
        "id": "JnDsgAwpdl68"
      },
      "execution_count": 46,
      "outputs": []
    },
    {
      "cell_type": "code",
      "source": [
        "model.compile(loss=\"sparse_categorical_crossentropy\", optimizer=\"nadam\", metrics=[\"accuracy\"])\n",
        "early_stopping = keras.callbacks.EarlyStopping(patience=5, restore_best_weights=True)\n",
        "history = model.fit(train_set, epochs=10, validation_data=valid_set, callbacks=early_stopping)"
      ],
      "metadata": {
        "colab": {
          "base_uri": "https://localhost:8080/"
        },
        "id": "526MZxZKdo95",
        "outputId": "906a1d61-1768-4060-abb3-7d1fb2f46499"
      },
      "execution_count": 47,
      "outputs": [
        {
          "output_type": "stream",
          "name": "stdout",
          "text": [
            "Epoch 1/10\n",
            "13/13 [==============================] - 152s 11s/step - loss: 13.3641 - accuracy: 0.3523 - val_loss: 383.2507 - val_accuracy: 0.2472\n",
            "Epoch 2/10\n",
            "13/13 [==============================] - 92s 7s/step - loss: 0.9819 - accuracy: 0.5751 - val_loss: 218.2049 - val_accuracy: 0.2472\n",
            "Epoch 3/10\n",
            "13/13 [==============================] - 95s 7s/step - loss: 0.9190 - accuracy: 0.6269 - val_loss: 215.3218 - val_accuracy: 0.2360\n",
            "Epoch 4/10\n",
            "13/13 [==============================] - 92s 7s/step - loss: 1.0422 - accuracy: 0.5052 - val_loss: 120.3661 - val_accuracy: 0.4045\n",
            "Epoch 5/10\n",
            "13/13 [==============================] - 96s 7s/step - loss: 0.9083 - accuracy: 0.5725 - val_loss: 258.3705 - val_accuracy: 0.2472\n",
            "Epoch 6/10\n",
            "13/13 [==============================] - 99s 8s/step - loss: 0.7832 - accuracy: 0.6528 - val_loss: 139.0427 - val_accuracy: 0.3258\n",
            "Epoch 7/10\n",
            "13/13 [==============================] - 94s 7s/step - loss: 0.8978 - accuracy: 0.5959 - val_loss: 102.5769 - val_accuracy: 0.5056\n",
            "Epoch 8/10\n",
            "13/13 [==============================] - 92s 7s/step - loss: 0.8331 - accuracy: 0.6451 - val_loss: 435.8286 - val_accuracy: 0.2472\n",
            "Epoch 9/10\n",
            "13/13 [==============================] - 92s 7s/step - loss: 0.8204 - accuracy: 0.6658 - val_loss: 139.3878 - val_accuracy: 0.3483\n",
            "Epoch 10/10\n",
            "13/13 [==============================] - 91s 7s/step - loss: 0.9323 - accuracy: 0.6528 - val_loss: 124.1477 - val_accuracy: 0.4607\n"
          ]
        }
      ]
    },
    {
      "cell_type": "code",
      "source": [
        "model.evaluate(test_set)"
      ],
      "metadata": {
        "colab": {
          "base_uri": "https://localhost:8080/"
        },
        "id": "sXn3tjdbdrV6",
        "outputId": "4c95d730-1ce9-458c-d49b-3ec1232550a2"
      },
      "execution_count": 48,
      "outputs": [
        {
          "output_type": "stream",
          "name": "stdout",
          "text": [
            "4/4 [==============================] - 10s 2s/step - loss: 173.4227 - accuracy: 0.3445\n"
          ]
        },
        {
          "output_type": "execute_result",
          "data": {
            "text/plain": [
              "[173.4226837158203, 0.3445378243923187]"
            ]
          },
          "metadata": {},
          "execution_count": 48
        }
      ]
    },
    {
      "cell_type": "code",
      "source": [
        "pd.DataFrame(history.history).plot(figsize=(8,5))\n",
        "plt.grid(True)\n",
        "plt.gca().set_ylim(0,2)\n",
        "plt.show()"
      ],
      "metadata": {
        "colab": {
          "base_uri": "https://localhost:8080/",
          "height": 324
        },
        "id": "RV1SvAe5drSZ",
        "outputId": "0873eb7a-4921-4c86-8a01-2e454806cdc8"
      },
      "execution_count": 49,
      "outputs": [
        {
          "output_type": "display_data",
          "data": {
            "text/plain": [
              "<Figure size 576x360 with 1 Axes>"
            ],
            "image/png": "[encoded data removed]"
          },
          "metadata": {
            "needs_background": "light"
          }
        }
      ]
    },
    {
      "cell_type": "code",
      "source": [
        ""
      ],
      "metadata": {
        "id": "hsf1mH3CdrQQ"
      },
      "execution_count": null,
      "outputs": []
    },
    {
      "cell_type": "code",
      "source": [
        "model.compile(loss=\"sparse_categorical_crossentropy\", optimizer=\"nadam\", metrics=[\"accuracy\"])\n",
        "early_stopping = keras.callbacks.EarlyStopping(patience=5, restore_best_weights=True)\n",
        "history = model.fit(train_set, epochs=10, validation_data=valid_set, callbacks=early_stopping)"
      ],
      "metadata": {
        "colab": {
          "base_uri": "https://localhost:8080/"
        },
        "id": "9kUd39rbdrN6",
        "outputId": "7865cd3e-bbe8-4133-be3d-7eb75ee0b1b1"
      },
      "execution_count": 51,
      "outputs": [
        {
          "output_type": "stream",
          "name": "stdout",
          "text": [
            "Epoch 1/10\n",
            "13/13 [==============================] - 114s 8s/step - loss: 0.9205 - accuracy: 0.6813 - val_loss: 391.3958 - val_accuracy: 0.2472\n",
            "Epoch 2/10\n",
            "13/13 [==============================] - 104s 8s/step - loss: 0.5174 - accuracy: 0.8212 - val_loss: 283.8832 - val_accuracy: 0.4045\n",
            "Epoch 3/10\n",
            "13/13 [==============================] - 103s 8s/step - loss: 0.8507 - accuracy: 0.7254 - val_loss: 184.9594 - val_accuracy: 0.3146\n",
            "Epoch 4/10\n",
            "13/13 [==============================] - 111s 9s/step - loss: 0.3794 - accuracy: 0.8834 - val_loss: 193.3734 - val_accuracy: 0.3708\n",
            "Epoch 5/10\n",
            "13/13 [==============================] - 135s 10s/step - loss: 0.2991 - accuracy: 0.9223 - val_loss: 350.1707 - val_accuracy: 0.3483\n",
            "Epoch 6/10\n",
            "13/13 [==============================] - 104s 8s/step - loss: 0.2100 - accuracy: 0.9223 - val_loss: 366.8637 - val_accuracy: 0.3596\n",
            "Epoch 7/10\n",
            "13/13 [==============================] - 102s 8s/step - loss: 0.2164 - accuracy: 0.9352 - val_loss: 373.4806 - val_accuracy: 0.2809\n",
            "Epoch 8/10\n",
            "13/13 [==============================] - 100s 8s/step - loss: 0.2229 - accuracy: 0.9171 - val_loss: 189.7809 - val_accuracy: 0.3258\n"
          ]
        }
      ]
    },
    {
      "cell_type": "code",
      "source": [
        "model.evaluate(test_set)"
      ],
      "metadata": {
        "colab": {
          "base_uri": "https://localhost:8080/"
        },
        "id": "0A7yR3K0drLU",
        "outputId": "78741c35-81c4-4731-ea64-cf47adfaa19e"
      },
      "execution_count": 52,
      "outputs": [
        {
          "output_type": "stream",
          "name": "stdout",
          "text": [
            "4/4 [==============================] - 7s 1s/step - loss: 206.7717 - accuracy: 0.3193\n"
          ]
        },
        {
          "output_type": "execute_result",
          "data": {
            "text/plain": [
              "[206.771728515625, 0.3193277418613434]"
            ]
          },
          "metadata": {},
          "execution_count": 52
        }
      ]
    },
    {
      "cell_type": "code",
      "source": [
        "pd.DataFrame(history.history).plot(figsize=(8,5))\n",
        "plt.grid(True)\n",
        "plt.gca().set_ylim(0,2)\n",
        "plt.show()"
      ],
      "metadata": {
        "colab": {
          "base_uri": "https://localhost:8080/",
          "height": 324
        },
        "id": "2FxY4AIadqy0",
        "outputId": "27db6aba-c124-415f-d00c-64cef17d8265"
      },
      "execution_count": 53,
      "outputs": [
        {
          "output_type": "display_data",
          "data": {
            "text/plain": [
              "<Figure size 576x360 with 1 Axes>"
            ],
            "image/png": "[encoded data removed]"
          },
          "metadata": {
            "needs_background": "light"
          }
        }
      ]
    },
    {
      "cell_type": "code",
      "source": [
        "def origin_preprocess(image, label):\n",
        "    resized_image = tf.image.resize(image, [224, 224])\n",
        "    final_image = keras.applications.xception.preprocess_input(resized_image)\n",
        "    return final_image, label\n",
        "\n",
        "def central_crop(image):\n",
        "    shape = tf.shape(image)\n",
        "    min_dim = tf.reduce_min([shape[0], shape[1]])\n",
        "    top_crop = (shape[0] - min_dim) // 4\n",
        "    bottom_crop = shape[0] - top_crop\n",
        "    left_crop = (shape[1] - min_dim) // 4\n",
        "    right_crop = shape[1] - left_crop\n",
        "    return image[top_crop:bottom_crop, left_crop:right_crop]\n",
        "\n",
        "def random_crop(image):\n",
        "    shape = tf.shape(image)\n",
        "    min_dim = tf.reduce_min([shape[0], shape[1]]) * 90 // 100\n",
        "    return tf.image.random_crop(image, [min_dim, min_dim, 3])\n",
        "\n",
        "def preprocess(image, label, randomize=False):\n",
        "    if randomize:\n",
        "        cropped_image = random_crop(image)\n",
        "        cropped_image = tf.image.random_flip_left_right(cropped_image)\n",
        "    else:\n",
        "        cropped_image = central_crop(image)\n",
        "    resized_image = tf.image.resize(cropped_image, [224, 224])\n",
        "    final_image = keras.applications.xception.preprocess_input(resized_image)\n",
        "    return final_image, label"
      ],
      "metadata": {
        "id": "rF6mynb2d_qV"
      },
      "execution_count": 68,
      "outputs": []
    },
    {
      "cell_type": "code",
      "source": [
        ""
      ],
      "metadata": {
        "id": "p0aaXkJseunI"
      },
      "execution_count": null,
      "outputs": []
    },
    {
      "cell_type": "code",
      "source": [
        ""
      ],
      "metadata": {
        "id": "3qEEXDvveukj"
      },
      "execution_count": null,
      "outputs": []
    },
    {
      "cell_type": "code",
      "source": [
        "batch_size = 32\n",
        "train_set = train_set_raw.shuffle(1000)\n",
        "train_set = train_set.map(partial(preprocess, randomize=True)).batch(batch_size).prefetch(1)\n",
        "valid_set = valid_set_raw.map(origin_preprocess).batch(batch_size).prefetch(1)\n",
        "test_set = test_set_raw.map(origin_preprocess).batch(batch_size).prefetch(1)"
      ],
      "metadata": {
        "id": "KpyBNrfldv-z"
      },
      "execution_count": 58,
      "outputs": []
    },
    {
      "cell_type": "code",
      "source": [
        "base_model = keras.applications.xception.Xception(weights=None,include_top=False) # 여기를 NONE으로 해야되는지는 고민해보기\n",
        "avg = keras.layers.GlobalAveragePooling2D()(base_model.output)\n",
        "output = keras.layers.Dense(4, activation=\"softmax\")(avg)\n",
        "model = keras.models.Model(inputs=base_model.input, outputs=output)"
      ],
      "metadata": {
        "id": "a6n_f08wdv9V"
      },
      "execution_count": 59,
      "outputs": []
    },
    {
      "cell_type": "code",
      "source": [
        "for layer in base_model.layers:\n",
        "    layer.trainable = False\n",
        "\n",
        "\n",
        "optimizer = keras.optimizers.SGD(learning_rate=0.2, momentum=0.9, decay=0.01)\n",
        "model.compile(loss=\"sparse_categorical_crossentropy\", optimizer=optimizer, metrics=[\"accuracy\"])\n",
        "history = model.fit(train_set, validation_data=valid_set,epochs=5)"
      ],
      "metadata": {
        "colab": {
          "base_uri": "https://localhost:8080/"
        },
        "id": "694lvfnkdv7k",
        "outputId": "f8bff605-3710-49fe-a5f2-e41e108223d8"
      },
      "execution_count": 60,
      "outputs": [
        {
          "output_type": "stream",
          "name": "stdout",
          "text": [
            "Epoch 1/5\n",
            "13/13 [==============================] - 97s 7s/step - loss: 1.3392 - accuracy: 0.3187 - val_loss: 1.4576 - val_accuracy: 0.3258\n",
            "Epoch 2/5\n",
            "13/13 [==============================] - 88s 7s/step - loss: 1.3072 - accuracy: 0.3083 - val_loss: 1.4326 - val_accuracy: 0.3258\n",
            "Epoch 3/5\n",
            "13/13 [==============================] - 87s 7s/step - loss: 1.3209 - accuracy: 0.2772 - val_loss: 1.4312 - val_accuracy: 0.3258\n",
            "Epoch 4/5\n",
            "13/13 [==============================] - 90s 7s/step - loss: 1.3038 - accuracy: 0.3601 - val_loss: 1.3873 - val_accuracy: 0.3258\n",
            "Epoch 5/5\n",
            "13/13 [==============================] - 85s 7s/step - loss: 1.3037 - accuracy: 0.3601 - val_loss: 1.4002 - val_accuracy: 0.3258\n"
          ]
        }
      ]
    },
    {
      "cell_type": "code",
      "source": [
        "for layer in base_model.layers:\n",
        "    layer.trainable = True\n",
        "\n",
        "optimizer = keras.optimizers.SGD(learning_rate=0.01, momentum=0.9,nesterov=True, decay=0.001)\n",
        "model.compile(loss=\"sparse_categorical_crossentropy\", optimizer=optimizer,metrics=[\"accuracy\"])\n",
        "early_stopping = keras.callbacks.EarlyStopping(patience=5, restore_best_weights=True)\n",
        "history = model.fit(train_set, validation_data=valid_set, epochs=10, callbacks=early_stopping)"
      ],
      "metadata": {
        "colab": {
          "base_uri": "https://localhost:8080/"
        },
        "id": "T8OTmEa0dv5c",
        "outputId": "ed1c9b40-f3c9-4c28-d6cc-2b378483d33a"
      },
      "execution_count": 62,
      "outputs": [
        {
          "output_type": "stream",
          "name": "stdout",
          "text": [
            "Epoch 1/10\n",
            "13/13 [==============================] - 414s 29s/step - loss: 0.8341 - accuracy: 0.6295 - val_loss: 1.3985 - val_accuracy: 0.3258\n",
            "Epoch 2/10\n",
            "13/13 [==============================] - 357s 27s/step - loss: 1.0183 - accuracy: 0.6451 - val_loss: 1.4020 - val_accuracy: 0.3258\n",
            "Epoch 3/10\n",
            "13/13 [==============================] - 354s 27s/step - loss: 0.5508 - accuracy: 0.8005 - val_loss: 1.4002 - val_accuracy: 0.3258\n",
            "Epoch 4/10\n",
            "13/13 [==============================] - 321s 25s/step - loss: 0.7281 - accuracy: 0.7746 - val_loss: 1.4031 - val_accuracy: 0.3258\n",
            "Epoch 5/10\n",
            "13/13 [==============================] - 322s 25s/step - loss: 0.4908 - accuracy: 0.8161 - val_loss: 1.4026 - val_accuracy: 0.3258\n",
            "Epoch 6/10\n",
            "13/13 [==============================] - 325s 25s/step - loss: 0.5447 - accuracy: 0.8083 - val_loss: 1.4039 - val_accuracy: 0.3258\n"
          ]
        }
      ]
    },
    {
      "cell_type": "code",
      "source": [
        "model.evaluate(test_set)"
      ],
      "metadata": {
        "colab": {
          "base_uri": "https://localhost:8080/"
        },
        "id": "0kEoUdZXdv3H",
        "outputId": "6d94766e-9ff2-4eac-ffbf-d741e5609a1f"
      },
      "execution_count": 63,
      "outputs": [
        {
          "output_type": "stream",
          "name": "stdout",
          "text": [
            "4/4 [==============================] - 20s 5s/step - loss: 1.3050 - accuracy: 0.3025\n"
          ]
        },
        {
          "output_type": "execute_result",
          "data": {
            "text/plain": [
              "[1.3050349950790405, 0.3025210201740265]"
            ]
          },
          "metadata": {},
          "execution_count": 63
        }
      ]
    },
    {
      "cell_type": "code",
      "source": [
        "pd.DataFrame(history.history).plot(figsize=(8,5))\n",
        "plt.grid(True)\n",
        "plt.gca().set_ylim(0,2)\n",
        "#save_fig(\"keras_learning_curves_plot\")\n",
        "plt.show()"
      ],
      "metadata": {
        "colab": {
          "base_uri": "https://localhost:8080/",
          "height": 324
        },
        "id": "xjBi0dNFdv0-",
        "outputId": "1a5fa749-461a-43b0-c63a-9779fdb4a61c"
      },
      "execution_count": 64,
      "outputs": [
        {
          "output_type": "display_data",
          "data": {
            "text/plain": [
              "<Figure size 576x360 with 1 Axes>"
            ],
            "image/png": "[encoded data removed]"
          },
          "metadata": {
            "needs_background": "light"
          }
        }
      ]
    },
    {
      "cell_type": "code",
      "source": [
        ""
      ],
      "metadata": {
        "id": "5gdgUHFTebCv"
      },
      "execution_count": null,
      "outputs": []
    },
    {
      "cell_type": "code",
      "source": [
        "batch_size = 32\n",
        "train_set = train_set_raw.shuffle(1000)\n",
        "train_set = train_set.map(partial(preprocess, randomize=False)).batch(batch_size).prefetch(1)\n",
        "valid_set = valid_set_raw.map(origin_preprocess).batch(batch_size).prefetch(1)\n",
        "test_set = test_set_raw.map(origin_preprocess).batch(batch_size).prefetch(1)"
      ],
      "metadata": {
        "id": "CKLZy7LA8Plg"
      },
      "execution_count": 69,
      "outputs": []
    },
    {
      "cell_type": "code",
      "source": [
        "base_model = keras.applications.xception.Xception(weights=None,include_top=False) # 여기를 NONE으로 해야되는지는 고민해보기\n",
        "avg = keras.layers.GlobalAveragePooling2D()(base_model.output)\n",
        "output = keras.layers.Dense(4, activation=\"softmax\")(avg)\n",
        "model = keras.models.Model(inputs=base_model.input, outputs=output)"
      ],
      "metadata": {
        "id": "4P20Nqv-8Pi_"
      },
      "execution_count": 70,
      "outputs": []
    },
    {
      "cell_type": "code",
      "source": [
        "for layer in base_model.layers:\n",
        "    layer.trainable = False\n",
        "\n",
        "\n",
        "optimizer = keras.optimizers.SGD(learning_rate=0.2, momentum=0.9, decay=0.01)\n",
        "model.compile(loss=\"sparse_categorical_crossentropy\", optimizer=optimizer, metrics=[\"accuracy\"])\n",
        "history = model.fit(train_set, validation_data=valid_set,epochs=5)"
      ],
      "metadata": {
        "colab": {
          "base_uri": "https://localhost:8080/"
        },
        "id": "0ti0qcQ38Pfg",
        "outputId": "37ac6cf5-cd38-4c22-e5df-c016069b9cbe"
      },
      "execution_count": 71,
      "outputs": [
        {
          "output_type": "stream",
          "name": "stdout",
          "text": [
            "Epoch 1/5\n",
            "13/13 [==============================] - 92s 7s/step - loss: 1.3377 - accuracy: 0.3342 - val_loss: 1.4644 - val_accuracy: 0.3258\n",
            "Epoch 2/5\n",
            "13/13 [==============================] - 81s 6s/step - loss: 1.3189 - accuracy: 0.2694 - val_loss: 1.4900 - val_accuracy: 0.3258\n",
            "Epoch 3/5\n",
            "13/13 [==============================] - 81s 6s/step - loss: 1.2943 - accuracy: 0.3601 - val_loss: 1.3893 - val_accuracy: 0.3258\n",
            "Epoch 4/5\n",
            "13/13 [==============================] - 81s 6s/step - loss: 1.3090 - accuracy: 0.3601 - val_loss: 1.4240 - val_accuracy: 0.3258\n",
            "Epoch 5/5\n",
            "13/13 [==============================] - 83s 6s/step - loss: 1.2929 - accuracy: 0.3601 - val_loss: 1.4491 - val_accuracy: 0.3258\n"
          ]
        }
      ]
    },
    {
      "cell_type": "code",
      "source": [
        "for layer in base_model.layers:\n",
        "    layer.trainable = True\n",
        "\n",
        "optimizer = keras.optimizers.SGD(learning_rate=0.01, momentum=0.9,nesterov=True, decay=0.001)\n",
        "model.compile(loss=\"sparse_categorical_crossentropy\", optimizer=optimizer,metrics=[\"accuracy\"])\n",
        "early_stopping = keras.callbacks.EarlyStopping(patience=5, restore_best_weights=True)\n",
        "history = model.fit(train_set, validation_data=valid_set, epochs=10, callbacks=early_stopping)"
      ],
      "metadata": {
        "colab": {
          "base_uri": "https://localhost:8080/"
        },
        "id": "o5xLgGPw8Pdm",
        "outputId": "a6551e3c-8cdb-4523-d55c-c9db37d9abda"
      },
      "execution_count": 72,
      "outputs": [
        {
          "output_type": "stream",
          "name": "stdout",
          "text": [
            "Epoch 1/10\n",
            "13/13 [==============================] - 338s 25s/step - loss: 0.8275 - accuracy: 0.6192 - val_loss: 1.4466 - val_accuracy: 0.3258\n",
            "Epoch 2/10\n",
            "13/13 [==============================] - 334s 26s/step - loss: 0.8265 - accuracy: 0.6839 - val_loss: 1.4493 - val_accuracy: 0.3258\n",
            "Epoch 3/10\n",
            "13/13 [==============================] - 331s 25s/step - loss: 0.8141 - accuracy: 0.6632 - val_loss: 1.4511 - val_accuracy: 0.3258\n",
            "Epoch 4/10\n",
            "13/13 [==============================] - 330s 25s/step - loss: 1.0386 - accuracy: 0.6295 - val_loss: 1.4499 - val_accuracy: 0.3258\n",
            "Epoch 5/10\n",
            "13/13 [==============================] - 332s 26s/step - loss: 0.7476 - accuracy: 0.6943 - val_loss: 1.4470 - val_accuracy: 0.3258\n",
            "Epoch 6/10\n",
            "13/13 [==============================] - 318s 24s/step - loss: 0.4346 - accuracy: 0.7953 - val_loss: 1.4489 - val_accuracy: 0.3258\n"
          ]
        }
      ]
    },
    {
      "cell_type": "code",
      "source": [
        "model.evaluate(test_set)"
      ],
      "metadata": {
        "colab": {
          "base_uri": "https://localhost:8080/"
        },
        "id": "IrBeCDqD8PbU",
        "outputId": "7f16c11e-b632-429f-c759-85b1749dadfa"
      },
      "execution_count": 73,
      "outputs": [
        {
          "output_type": "stream",
          "name": "stdout",
          "text": [
            "4/4 [==============================] - 21s 5s/step - loss: 1.2990 - accuracy: 0.3025\n"
          ]
        },
        {
          "output_type": "execute_result",
          "data": {
            "text/plain": [
              "[1.299006462097168, 0.3025210201740265]"
            ]
          },
          "metadata": {},
          "execution_count": 73
        }
      ]
    },
    {
      "cell_type": "code",
      "source": [
        "pd.DataFrame(history.history).plot(figsize=(8,5))\n",
        "plt.grid(True)\n",
        "plt.gca().set_ylim(0,2)\n",
        "#save_fig(\"keras_learning_curves_plot\")\n",
        "plt.show()"
      ],
      "metadata": {
        "colab": {
          "base_uri": "https://localhost:8080/",
          "height": 324
        },
        "id": "2Mm7Yoj68aco",
        "outputId": "3f33f70d-1f46-47b6-c3ce-1712765fb1f9"
      },
      "execution_count": 76,
      "outputs": [
        {
          "output_type": "display_data",
          "data": {
            "text/plain": [
              "<Figure size 576x360 with 1 Axes>"
            ],
            "image/png": "[encoded data removed]"
          },
          "metadata": {
            "needs_background": "light"
          }
        }
      ]
    },
    {
      "cell_type": "code",
      "source": [
        ""
      ],
      "metadata": {
        "id": "yBWAxFNn8aZ5"
      },
      "execution_count": null,
      "outputs": []
    },
    {
      "cell_type": "code",
      "source": [
        ""
      ],
      "metadata": {
        "id": "_TZiMTbE8aXx"
      },
      "execution_count": null,
      "outputs": []
    },
    {
      "cell_type": "code",
      "source": [
        ""
      ],
      "metadata": {
        "id": "UvBjubxW8PY7"
      },
      "execution_count": null,
      "outputs": []
    },
    {
      "cell_type": "code",
      "source": [
        "DefaultConv2D = partial(keras.layers.Conv2D, kernel_size=3, strides=1,\n",
        "                        padding=\"SAME\", use_bias=False)\n",
        "\n",
        "class ResidualUnit(keras.layers.Layer):\n",
        "    def __init__(self, filters, strides=1, activation=\"relu\", **kwargs):\n",
        "        super().__init__(**kwargs)\n",
        "        self.activation = keras.activations.get(activation)\n",
        "        self.main_layers = [\n",
        "            DefaultConv2D(filters, strides=strides),\n",
        "            keras.layers.BatchNormalization(),\n",
        "            self.activation,\n",
        "            DefaultConv2D(filters),\n",
        "            keras.layers.BatchNormalization()]\n",
        "        self.skip_layers = []\n",
        "        if strides > 1:\n",
        "            self.skip_layers = [\n",
        "                DefaultConv2D(filters, kernel_size=1, strides=strides),\n",
        "                keras.layers.BatchNormalization()]\n",
        "\n",
        "    def call(self, inputs):\n",
        "        Z = inputs\n",
        "        for layer in self.main_layers:\n",
        "            Z = layer(Z)\n",
        "        skip_Z = inputs\n",
        "        for layer in self.skip_layers:\n",
        "            skip_Z = layer(skip_Z)\n",
        "        return self.activation(Z + skip_Z)"
      ],
      "metadata": {
        "id": "Tiog4aIGebBK"
      },
      "execution_count": 77,
      "outputs": []
    },
    {
      "cell_type": "code",
      "source": [
        "model = keras.models.Sequential()\n",
        "model.add(DefaultConv2D(64, kernel_size=7, strides=2,\n",
        "                        input_shape=[224, 224, 3]))\n",
        "model.add(keras.layers.BatchNormalization())\n",
        "model.add(keras.layers.Activation(\"relu\"))\n",
        "model.add(keras.layers.MaxPool2D(pool_size=3, strides=2, padding=\"SAME\"))\n",
        "prev_filters = 64\n",
        "for filters in [64] * 3 + [128] * 4 + [256] * 6 + [512] * 3:\n",
        "    strides = 1 if filters == prev_filters else 2\n",
        "    model.add(ResidualUnit(filters, strides=strides))\n",
        "    prev_filters = filters\n",
        "model.add(keras.layers.GlobalAvgPool2D())\n",
        "model.add(keras.layers.Flatten())\n",
        "model.add(keras.layers.Dense(10, activation=\"softmax\"))"
      ],
      "metadata": {
        "id": "hpexvbUmea-3"
      },
      "execution_count": 80,
      "outputs": []
    },
    {
      "cell_type": "code",
      "source": [
        "model.compile(loss=\"sparse_categorical_crossentropy\", optimizer=\"nadam\", metrics=[\"accuracy\"])\n",
        "early_stopping = keras.callbacks.EarlyStopping(patience=5, restore_best_weights=True)\n",
        "history = model.fit(train_set, epochs=10, validation_data=valid_set, callbacks=early_stopping)"
      ],
      "metadata": {
        "colab": {
          "base_uri": "https://localhost:8080/"
        },
        "id": "UYN7dGLVea8q",
        "outputId": "deb2b0d6-7396-40fe-d765-35f5f3228172"
      },
      "execution_count": 82,
      "outputs": [
        {
          "output_type": "stream",
          "name": "stdout",
          "text": [
            "Epoch 1/10\n",
            "13/13 [==============================] - 230s 17s/step - loss: 3.1943 - accuracy: 0.3679 - val_loss: 196695.1875 - val_accuracy: 0.3258\n",
            "Epoch 2/10\n",
            "13/13 [==============================] - 204s 16s/step - loss: 0.8499 - accuracy: 0.6528 - val_loss: 297397.0000 - val_accuracy: 0.2360\n",
            "Epoch 3/10\n",
            "13/13 [==============================] - 201s 15s/step - loss: 0.9453 - accuracy: 0.5959 - val_loss: 23440.8281 - val_accuracy: 0.2360\n",
            "Epoch 4/10\n",
            "13/13 [==============================] - 202s 16s/step - loss: 0.8010 - accuracy: 0.7098 - val_loss: 9294.6016 - val_accuracy: 0.2360\n",
            "Epoch 5/10\n",
            "13/13 [==============================] - 211s 16s/step - loss: 0.5099 - accuracy: 0.7927 - val_loss: 646.4887 - val_accuracy: 0.1910\n",
            "Epoch 6/10\n",
            "13/13 [==============================] - 205s 16s/step - loss: 0.7037 - accuracy: 0.6503 - val_loss: 3536.6580 - val_accuracy: 0.2472\n",
            "Epoch 7/10\n",
            "13/13 [==============================] - 205s 16s/step - loss: 1.2534 - accuracy: 0.5699 - val_loss: 4166.0918 - val_accuracy: 0.3258\n",
            "Epoch 8/10\n",
            "13/13 [==============================] - 200s 15s/step - loss: 0.7577 - accuracy: 0.6813 - val_loss: 962.4071 - val_accuracy: 0.2360\n",
            "Epoch 9/10\n",
            "13/13 [==============================] - 205s 16s/step - loss: 0.6662 - accuracy: 0.7176 - val_loss: 1799.0253 - val_accuracy: 0.2360\n",
            "Epoch 10/10\n",
            "13/13 [==============================] - 203s 16s/step - loss: 0.4824 - accuracy: 0.7746 - val_loss: 445.4168 - val_accuracy: 0.2360\n"
          ]
        }
      ]
    },
    {
      "cell_type": "code",
      "source": [
        "model.evaluate(test_set)"
      ],
      "metadata": {
        "colab": {
          "base_uri": "https://localhost:8080/"
        },
        "id": "i5wlIQ16ea6b",
        "outputId": "9f36becc-1d46-47bd-9017-293bbbb66674"
      },
      "execution_count": 83,
      "outputs": [
        {
          "output_type": "stream",
          "name": "stdout",
          "text": [
            "4/4 [==============================] - 14s 3s/step - loss: 414.9820 - accuracy: 0.3277\n"
          ]
        },
        {
          "output_type": "execute_result",
          "data": {
            "text/plain": [
              "[414.9819641113281, 0.32773110270500183]"
            ]
          },
          "metadata": {},
          "execution_count": 83
        }
      ]
    },
    {
      "cell_type": "code",
      "source": [
        "pd.DataFrame(history.history).plot(figsize=(8,5))\n",
        "plt.grid(True)\n",
        "plt.gca().set_ylim(0,2)\n",
        "#save_fig(\"keras_learning_curves_plot\")\n",
        "plt.show()"
      ],
      "metadata": {
        "colab": {
          "base_uri": "https://localhost:8080/",
          "height": 324
        },
        "id": "IdPOyPlWe4lD",
        "outputId": "979dea9d-c1ce-4f88-f8a0-db2885ebd33b"
      },
      "execution_count": 84,
      "outputs": [
        {
          "output_type": "display_data",
          "data": {
            "text/plain": [
              "<Figure size 576x360 with 1 Axes>"
            ],
            "image/png": "[encoded data removed]"
          },
          "metadata": {
            "needs_background": "light"
          }
        }
      ]
    },
    {
      "cell_type": "code",
      "source": [
        ""
      ],
      "metadata": {
        "id": "JjiK2hy-e4il"
      },
      "execution_count": null,
      "outputs": []
    },
    {
      "cell_type": "code",
      "source": [
        "model.compile(loss=\"sparse_categorical_crossentropy\", optimizer=\"nadam\", metrics=[\"accuracy\"])\n",
        "early_stopping = keras.callbacks.EarlyStopping(patience=5, restore_best_weights=True)\n",
        "history = model.fit(train_set, epochs=10, validation_data=valid_set, callbacks=early_stopping)"
      ],
      "metadata": {
        "colab": {
          "base_uri": "https://localhost:8080/"
        },
        "id": "eQPBu6dWe4fS",
        "outputId": "4dcef55c-d84d-43a1-9a53-71dc83a96524"
      },
      "execution_count": 87,
      "outputs": [
        {
          "output_type": "stream",
          "name": "stdout",
          "text": [
            "Epoch 1/10\n",
            "13/13 [==============================] - 219s 16s/step - loss: 0.8931 - accuracy: 0.6244 - val_loss: 270666.4375 - val_accuracy: 0.2360\n",
            "Epoch 2/10\n",
            "13/13 [==============================] - 205s 16s/step - loss: 1.0781 - accuracy: 0.5363 - val_loss: 3101800.2500 - val_accuracy: 0.2360\n",
            "Epoch 3/10\n",
            "13/13 [==============================] - 205s 16s/step - loss: 0.7048 - accuracy: 0.7228 - val_loss: 2724968.2500 - val_accuracy: 0.2360\n",
            "Epoch 4/10\n",
            "13/13 [==============================] - 209s 16s/step - loss: 0.5519 - accuracy: 0.7824 - val_loss: 1525882.7500 - val_accuracy: 0.2360\n",
            "Epoch 5/10\n",
            "13/13 [==============================] - 201s 15s/step - loss: 0.5431 - accuracy: 0.7409 - val_loss: 30840.1992 - val_accuracy: 0.2360\n",
            "Epoch 6/10\n",
            "13/13 [==============================] - 199s 15s/step - loss: 0.5865 - accuracy: 0.7358 - val_loss: 3731.3933 - val_accuracy: 0.2360\n",
            "Epoch 7/10\n",
            "13/13 [==============================] - 199s 15s/step - loss: 0.7650 - accuracy: 0.7021 - val_loss: 11993.6377 - val_accuracy: 0.2360\n",
            "Epoch 8/10\n",
            "13/13 [==============================] - 196s 15s/step - loss: 0.5747 - accuracy: 0.7642 - val_loss: 26610.9727 - val_accuracy: 0.2360\n",
            "Epoch 9/10\n",
            "13/13 [==============================] - 197s 15s/step - loss: 0.4912 - accuracy: 0.7876 - val_loss: 17540.6094 - val_accuracy: 0.2360\n",
            "Epoch 10/10\n",
            "13/13 [==============================] - 199s 15s/step - loss: 0.5491 - accuracy: 0.7383 - val_loss: 3783.0623 - val_accuracy: 0.2360\n"
          ]
        }
      ]
    },
    {
      "cell_type": "code",
      "source": [
        "model.evaluate(test_set)"
      ],
      "metadata": {
        "colab": {
          "base_uri": "https://localhost:8080/"
        },
        "id": "9QUmQb9De77j",
        "outputId": "d4704609-b24d-45bc-a1dd-b1838584707e"
      },
      "execution_count": 88,
      "outputs": [
        {
          "output_type": "stream",
          "name": "stdout",
          "text": [
            "4/4 [==============================] - 15s 4s/step - loss: 3168.9148 - accuracy: 0.3277\n"
          ]
        },
        {
          "output_type": "execute_result",
          "data": {
            "text/plain": [
              "[3168.914794921875, 0.32773110270500183]"
            ]
          },
          "metadata": {},
          "execution_count": 88
        }
      ]
    },
    {
      "cell_type": "code",
      "source": [
        "pd.DataFrame(history.history).plot(figsize=(8,5))\n",
        "plt.grid(True)\n",
        "plt.gca().set_ylim(0,2)\n",
        "#save_fig(\"keras_learning_curves_plot\")\n",
        "plt.show()"
      ],
      "metadata": {
        "colab": {
          "base_uri": "https://localhost:8080/",
          "height": 324
        },
        "id": "l4qLKDeye75O",
        "outputId": "a621e8bd-f939-4e8f-a10a-f0a62021e4fa"
      },
      "execution_count": 89,
      "outputs": [
        {
          "output_type": "display_data",
          "data": {
            "text/plain": [
              "<Figure size 576x360 with 1 Axes>"
            ],
            "image/png": "[encoded data removed]"
          },
          "metadata": {
            "needs_background": "light"
          }
        }
      ]
    },
    {
      "cell_type": "code",
      "source": [
        ""
      ],
      "metadata": {
        "id": "Gz7lNwEze73o"
      },
      "execution_count": null,
      "outputs": []
    },
    {
      "cell_type": "code",
      "source": [
        ""
      ],
      "metadata": {
        "id": "YbppFiZCe4VE"
      },
      "execution_count": null,
      "outputs": []
    }
  ]
}