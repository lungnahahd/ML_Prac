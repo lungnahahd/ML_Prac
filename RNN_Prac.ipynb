{
  "cells": [
    {
      "cell_type": "markdown",
      "metadata": {
        "id": "view-in-github",
        "colab_type": "text"
      },
      "source": [
        "<a href=\"https://colab.research.google.com/github/lungnahahd/Tensorflow_Prac/blob/main/RNN_Prac.ipynb\" target=\"_parent\"><img src=\"https://colab.research.google.com/assets/colab-badge.svg\" alt=\"Open In Colab\"/></a>"
      ]
    },
    {
      "cell_type": "markdown",
      "metadata": {
        "id": "aHupzq9X8vpj"
      },
      "source": [
        "<table align=\"left\">\n",
        "  <td>\n",
        "    <a href=\"https://colab.research.google.com/github/ageron/handson-ml2/blob/master/15_processing_sequences_using_rnns_and_cnns.ipynb\" target=\"_parent\"><img src=\"https://colab.research.google.com/assets/colab-badge.svg\" alt=\"Open In Colab\"/></a>\n",
        "  </td>\n",
        "  <td>\n",
        "    <a target=\"_blank\" href=\"https://kaggle.com/kernels/welcome?src=https://github.com/ageron/handson-ml2/blob/master/15_processing_sequences_using_rnns_and_cnns.ipynb\"><img src=\"https://kaggle.com/static/images/open-in-kaggle.svg\" /></a>\n",
        "  </td>\n",
        "</table>"
      ]
    },
    {
      "cell_type": "code",
      "execution_count": null,
      "metadata": {
        "id": "SBETulNS8vpq"
      },
      "outputs": [],
      "source": [
        "def generate_time_series(batch_size, n_steps):\n",
        "    freq1, freq2, offsets1, offsets2 = np.random.rand(4, batch_size, 1)\n",
        "    time = np.linspace(0, 1, n_steps)\n",
        "    series = 0.5 * np.sin((time - offsets1) * (freq1 * 10 + 10))  #   wave 1\n",
        "    series += 0.2 * np.sin((time - offsets2) * (freq2 * 20 + 20)) # + wave 2\n",
        "    series += 0.1 * (np.random.rand(batch_size, n_steps) - 0.5)   # + noise\n",
        "    return series[..., np.newaxis].astype(np.float32)"
      ]
    },
    {
      "cell_type": "code",
      "execution_count": null,
      "metadata": {
        "id": "UwdhERcF8vpr"
      },
      "outputs": [],
      "source": [
        "np.random.seed(42)\n",
        "\n",
        "n_steps = 50\n",
        "series = generate_time_series(10000, n_steps + 1)\n",
        "X_train, y_train = series[:7000, :n_steps], series[:7000, -1] # numpy 특성 상, :가 아니라 숫자로 처리하면 차수가 줄음(y의 차수가 하나 적은 이유)\n",
        "X_valid, y_valid = series[7000:9000, :n_steps], series[7000:9000, -1]\n",
        "X_test, y_test = series[9000:, :n_steps], series[9000:, -1]"
      ]
    },
    {
      "cell_type": "code",
      "source": [
        "series.shape"
      ],
      "metadata": {
        "id": "DjlFZAwGBAaH",
        "outputId": "d7968345-4366-4f93-e4b8-0051d90da8b6",
        "colab": {
          "base_uri": "https://localhost:8080/"
        }
      },
      "execution_count": null,
      "outputs": [
        {
          "output_type": "execute_result",
          "data": {
            "text/plain": [
              "(10000, 51, 1)"
            ]
          },
          "metadata": {},
          "execution_count": 4
        }
      ]
    },
    {
      "cell_type": "code",
      "execution_count": null,
      "metadata": {
        "id": "A2d6u7aN8vpr",
        "outputId": "000d3415-3552-4ab8-85ab-329482586fcd",
        "colab": {
          "base_uri": "https://localhost:8080/"
        }
      },
      "outputs": [
        {
          "output_type": "execute_result",
          "data": {
            "text/plain": [
              "((7000, 50, 1), (7000, 1))"
            ]
          },
          "metadata": {},
          "execution_count": 5
        }
      ],
      "source": [
        "X_train.shape, y_train.shape"
      ]
    },
    {
      "cell_type": "markdown",
      "metadata": {
        "id": "RtDFyOPd8vpy"
      },
      "source": [
        "## Deep RNNs"
      ]
    },
    {
      "cell_type": "code",
      "execution_count": null,
      "metadata": {
        "id": "rKKiD_gZ8vpy",
        "outputId": "0c7c3bc6-14a9-4d64-915c-14720d475092"
      },
      "outputs": [
        {
          "name": "stdout",
          "output_type": "stream",
          "text": [
            "Epoch 1/20\n",
            "219/219 [==============================] - 5s 17ms/step - loss: 0.1324 - val_loss: 0.0090\n",
            "Epoch 2/20\n",
            "219/219 [==============================] - 3s 15ms/step - loss: 0.0078 - val_loss: 0.0065\n",
            "Epoch 3/20\n",
            "219/219 [==============================] - 3s 15ms/step - loss: 0.0057 - val_loss: 0.0045\n",
            "Epoch 4/20\n",
            "219/219 [==============================] - 3s 15ms/step - loss: 0.0045 - val_loss: 0.0040\n",
            "Epoch 5/20\n",
            "219/219 [==============================] - 3s 15ms/step - loss: 0.0044 - val_loss: 0.0040\n",
            "Epoch 6/20\n",
            "219/219 [==============================] - 3s 15ms/step - loss: 0.0038 - val_loss: 0.0036\n",
            "Epoch 7/20\n",
            "219/219 [==============================] - 3s 15ms/step - loss: 0.0036 - val_loss: 0.0040\n",
            "Epoch 8/20\n",
            "219/219 [==============================] - 3s 15ms/step - loss: 0.0038 - val_loss: 0.0033\n",
            "Epoch 9/20\n",
            "219/219 [==============================] - 3s 15ms/step - loss: 0.0037 - val_loss: 0.0032\n",
            "Epoch 10/20\n",
            "219/219 [==============================] - 3s 15ms/step - loss: 0.0035 - val_loss: 0.0031\n",
            "Epoch 11/20\n",
            "219/219 [==============================] - 3s 15ms/step - loss: 0.0034 - val_loss: 0.0030\n",
            "Epoch 12/20\n",
            "219/219 [==============================] - 3s 15ms/step - loss: 0.0033 - val_loss: 0.0031\n",
            "Epoch 13/20\n",
            "219/219 [==============================] - 3s 15ms/step - loss: 0.0034 - val_loss: 0.0031\n",
            "Epoch 14/20\n",
            "219/219 [==============================] - 3s 15ms/step - loss: 0.0034 - val_loss: 0.0032\n",
            "Epoch 15/20\n",
            "219/219 [==============================] - 3s 15ms/step - loss: 0.0034 - val_loss: 0.0033\n",
            "Epoch 16/20\n",
            "219/219 [==============================] - 3s 15ms/step - loss: 0.0037 - val_loss: 0.0030\n",
            "Epoch 17/20\n",
            "219/219 [==============================] - 3s 14ms/step - loss: 0.0034 - val_loss: 0.0029\n",
            "Epoch 18/20\n",
            "219/219 [==============================] - 3s 14ms/step - loss: 0.0031 - val_loss: 0.0030\n",
            "Epoch 19/20\n",
            "219/219 [==============================] - 3s 14ms/step - loss: 0.0032 - val_loss: 0.0029\n",
            "Epoch 20/20\n",
            "219/219 [==============================] - 3s 14ms/step - loss: 0.0033 - val_loss: 0.0029\n"
          ]
        }
      ],
      "source": [
        "np.random.seed(42)\n",
        "tf.random.set_seed(42)\n",
        "\n",
        "model = keras.models.Sequential([\n",
        "    keras.layers.SimpleRNN(20, return_sequences=True, input_shape=[None, 1]),\n",
        "    keras.layers.SimpleRNN(20, return_sequences=True),\n",
        "    keras.layers.SimpleRNN(1)\n",
        "])\n",
        "\n",
        "model.compile(loss=\"mse\", optimizer=\"adam\")\n",
        "history = model.fit(X_train, y_train, epochs=20,\n",
        "                    validation_data=(X_valid, y_valid))"
      ]
    },
    {
      "cell_type": "code",
      "execution_count": null,
      "metadata": {
        "id": "bB-eB3Mf8vpz",
        "outputId": "06ecf9ec-8033-4d1d-f6f1-f30807fc809b",
        "colab": {
          "base_uri": "https://localhost:8080/"
        }
      },
      "outputs": [
        {
          "output_type": "stream",
          "name": "stdout",
          "text": [
            "Epoch 1/20\n",
            "219/219 [==============================] - 6s 21ms/step - loss: 0.0232 - val_loss: 0.0052\n",
            "Epoch 2/20\n",
            "219/219 [==============================] - 4s 20ms/step - loss: 0.0043 - val_loss: 0.0036\n",
            "Epoch 3/20\n",
            "219/219 [==============================] - 4s 20ms/step - loss: 0.0035 - val_loss: 0.0031\n",
            "Epoch 4/20\n",
            "219/219 [==============================] - 4s 19ms/step - loss: 0.0033 - val_loss: 0.0033\n",
            "Epoch 5/20\n",
            "219/219 [==============================] - 4s 20ms/step - loss: 0.0033 - val_loss: 0.0034\n",
            "Epoch 6/20\n",
            "219/219 [==============================] - 4s 19ms/step - loss: 0.0031 - val_loss: 0.0029\n",
            "Epoch 7/20\n",
            "219/219 [==============================] - 4s 20ms/step - loss: 0.0031 - val_loss: 0.0034\n",
            "Epoch 8/20\n",
            "219/219 [==============================] - 5s 21ms/step - loss: 0.0032 - val_loss: 0.0028\n",
            "Epoch 9/20\n",
            "219/219 [==============================] - 5s 21ms/step - loss: 0.0031 - val_loss: 0.0028\n",
            "Epoch 10/20\n",
            "219/219 [==============================] - 5s 21ms/step - loss: 0.0030 - val_loss: 0.0029\n",
            "Epoch 11/20\n",
            "219/219 [==============================] - 4s 21ms/step - loss: 0.0029 - val_loss: 0.0027\n",
            "Epoch 12/20\n",
            "219/219 [==============================] - 4s 20ms/step - loss: 0.0030 - val_loss: 0.0031\n",
            "Epoch 13/20\n",
            "219/219 [==============================] - 5s 24ms/step - loss: 0.0030 - val_loss: 0.0031\n",
            "Epoch 14/20\n",
            "219/219 [==============================] - 5s 21ms/step - loss: 0.0030 - val_loss: 0.0030\n",
            "Epoch 15/20\n",
            "219/219 [==============================] - 4s 20ms/step - loss: 0.0030 - val_loss: 0.0030\n",
            "Epoch 16/20\n",
            "219/219 [==============================] - 4s 20ms/step - loss: 0.0030 - val_loss: 0.0027\n",
            "Epoch 17/20\n",
            "219/219 [==============================] - 4s 20ms/step - loss: 0.0029 - val_loss: 0.0028\n",
            "Epoch 18/20\n",
            "219/219 [==============================] - 5s 25ms/step - loss: 0.0030 - val_loss: 0.0027\n",
            "Epoch 19/20\n",
            "219/219 [==============================] - 5s 21ms/step - loss: 0.0029 - val_loss: 0.0028\n",
            "Epoch 20/20\n",
            "219/219 [==============================] - 4s 20ms/step - loss: 0.0029 - val_loss: 0.0026\n"
          ]
        }
      ],
      "source": [
        "np.random.seed(42)\n",
        "tf.random.set_seed(42)\n",
        "\n",
        "model = keras.models.Sequential([\n",
        "    keras.layers.SimpleRNN(20, return_sequences=True, input_shape=[None, 1]),\n",
        "    keras.layers.SimpleRNN(20),\n",
        "    keras.layers.Dense(1)\n",
        "])\n",
        "\n",
        "model.compile(loss=\"mse\", optimizer=\"adam\")\n",
        "history = model.fit(X_train, y_train, epochs=20,\n",
        "                    validation_data=(X_valid, y_valid))"
      ]
    },
    {
      "cell_type": "code",
      "execution_count": null,
      "metadata": {
        "id": "6gc2eFio8vpz",
        "outputId": "c5b46dce-7b40-4996-8b7e-6eab51a2c65f"
      },
      "outputs": [
        {
          "data": {
            "image/png": "[encoded data removed]",
            "text/plain": [
              "<Figure size 432x288 with 1 Axes>"
            ]
          },
          "metadata": {
            "needs_background": "light"
          },
          "output_type": "display_data"
        }
      ],
      "source": [
        "plot_learning_curves(history.history[\"loss\"], history.history[\"val_loss\"])\n",
        "plt.show()"
      ]
    },
    {
      "cell_type": "code",
      "execution_count": null,
      "metadata": {
        "id": "CeTDez538vp0",
        "outputId": "ed68d1f3-bb77-47da-a680-0e36c1b9ea03"
      },
      "outputs": [
        {
          "data": {
            "image/png": "[encoded data removed]",
            "text/plain": [
              "<Figure size 432x288 with 1 Axes>"
            ]
          },
          "metadata": {
            "needs_background": "light"
          },
          "output_type": "display_data"
        }
      ],
      "source": [
        "y_pred = model.predict(X_valid)\n",
        "plot_series(X_valid[0, :, 0], y_valid[0, 0], y_pred[0, 0])\n",
        "plt.show()"
      ]
    },
    {
      "cell_type": "markdown",
      "metadata": {
        "id": "WDxvuAEE8vp0"
      },
      "source": [
        "## Forecasting Several Steps Ahead"
      ]
    },
    {
      "cell_type": "code",
      "execution_count": null,
      "metadata": {
        "id": "VDFpPPTd8vp0"
      },
      "outputs": [],
      "source": [
        "np.random.seed(43) # not 42, as it would give the first series in the train set\n",
        "\n",
        "n_steps = 50\n",
        "series = generate_time_series(1, n_steps + 10)\n",
        "X_new, Y_new = series[:, :n_steps], series[:, n_steps:]\n",
        "X = X_new\n",
        "for step_ahead in range(10):\n",
        "    # 추가로 아래의 차수 늘리기는 time step 부분의 차수를 늘려주는 과정(그래서 두번 째에서 늘려주기)\n",
        "    y_pred_one = model.predict(X[:, step_ahead:])[:, np.newaxis, :] # predict만 하면 shape는 (1,1) -> 1개의 sample에서 1개의 결과가 나오므로\n",
        "    X = np.concatenate([X, y_pred_one], axis=1) # X 데이터에 Y 예측값 추가해주기(위에서 차원을 늘려줘서 추가 가능)\n",
        "Y_pred = X[:, n_steps:]"
      ]
    },
    {
      "cell_type": "code",
      "source": [
        "series.shape"
      ],
      "metadata": {
        "colab": {
          "base_uri": "https://localhost:8080/"
        },
        "id": "RfQxvuypFq_k",
        "outputId": "ceab9b39-e751-46d0-d9bb-7498b2bf47c7"
      },
      "execution_count": null,
      "outputs": [
        {
          "output_type": "execute_result",
          "data": {
            "text/plain": [
              "(1, 60, 1)"
            ]
          },
          "metadata": {},
          "execution_count": 14
        }
      ]
    },
    {
      "cell_type": "code",
      "execution_count": null,
      "metadata": {
        "id": "6uGA-BYp8vp0",
        "outputId": "9d5f614d-ecf6-44a8-8652-648f76a6c5cc"
      },
      "outputs": [
        {
          "data": {
            "text/plain": [
              "(1, 10, 1)"
            ]
          },
          "execution_count": 25,
          "metadata": {},
          "output_type": "execute_result"
        }
      ],
      "source": [
        "Y_pred.shape"
      ]
    },
    {
      "cell_type": "markdown",
      "source": [
        "무야호"
      ],
      "metadata": {
        "id": "pqGREgk4LTaH"
      }
    },
    {
      "cell_type": "code",
      "execution_count": null,
      "metadata": {
        "id": "3rqT9kHB8vp1"
      },
      "outputs": [],
      "source": [
        "np.random.seed(42)\n",
        "\n",
        "n_steps = 50\n",
        "series = generate_time_series(10000, n_steps + 10) ########## series.shape = (10000, 60, 1)\n",
        "X_train, Y_train = series[:7000, :n_steps], series[:7000, -10:, 0] # y 생성 시 0을 추가해서 차수를 줄여주기 -> Vector가 결과이므로..\n",
        "X_valid, Y_valid = series[7000:9000, :n_steps], series[7000:9000, -10:, 0]\n",
        "X_test, Y_test = series[9000:, :n_steps], series[9000:, -10:, 0]"
      ]
    },
    {
      "cell_type": "code",
      "execution_count": null,
      "metadata": {
        "id": "dPW1sh3H8vp3",
        "outputId": "f7011236-7e18-4b28-be20-010b1af28d39",
        "colab": {
          "base_uri": "https://localhost:8080/"
        }
      },
      "outputs": [
        {
          "output_type": "stream",
          "name": "stdout",
          "text": [
            "Epoch 1/20\n",
            "219/219 [==============================] - 6s 22ms/step - loss: 0.0669 - val_loss: 0.0317\n",
            "Epoch 2/20\n",
            "219/219 [==============================] - 4s 20ms/step - loss: 0.0265 - val_loss: 0.0200\n",
            "Epoch 3/20\n",
            "219/219 [==============================] - 4s 20ms/step - loss: 0.0183 - val_loss: 0.0160\n",
            "Epoch 4/20\n",
            "219/219 [==============================] - 4s 20ms/step - loss: 0.0155 - val_loss: 0.0144\n",
            "Epoch 5/20\n",
            "219/219 [==============================] - 5s 21ms/step - loss: 0.0139 - val_loss: 0.0118\n",
            "Epoch 6/20\n",
            "219/219 [==============================] - 4s 20ms/step - loss: 0.0128 - val_loss: 0.0112\n",
            "Epoch 7/20\n",
            "219/219 [==============================] - 6s 27ms/step - loss: 0.0122 - val_loss: 0.0110\n",
            "Epoch 8/20\n",
            "219/219 [==============================] - 6s 28ms/step - loss: 0.0115 - val_loss: 0.0103\n",
            "Epoch 9/20\n",
            "219/219 [==============================] - 8s 36ms/step - loss: 0.0111 - val_loss: 0.0112\n",
            "Epoch 10/20\n",
            "219/219 [==============================] - 7s 30ms/step - loss: 0.0110 - val_loss: 0.0100\n",
            "Epoch 11/20\n",
            "219/219 [==============================] - 5s 25ms/step - loss: 0.0108 - val_loss: 0.0103\n",
            "Epoch 12/20\n",
            "219/219 [==============================] - 7s 31ms/step - loss: 0.0102 - val_loss: 0.0096\n",
            "Epoch 13/20\n",
            "219/219 [==============================] - 6s 27ms/step - loss: 0.0104 - val_loss: 0.0100\n",
            "Epoch 14/20\n",
            "219/219 [==============================] - 7s 31ms/step - loss: 0.0098 - val_loss: 0.0103\n",
            "Epoch 15/20\n",
            "219/219 [==============================] - 8s 35ms/step - loss: 0.0095 - val_loss: 0.0107\n",
            "Epoch 16/20\n",
            "219/219 [==============================] - 10s 44ms/step - loss: 0.0092 - val_loss: 0.0089\n",
            "Epoch 17/20\n",
            "219/219 [==============================] - 9s 39ms/step - loss: 0.0094 - val_loss: 0.0111\n",
            "Epoch 18/20\n",
            "219/219 [==============================] - 8s 35ms/step - loss: 0.0095 - val_loss: 0.0094\n",
            "Epoch 19/20\n",
            "219/219 [==============================] - 4s 20ms/step - loss: 0.0093 - val_loss: 0.0083\n",
            "Epoch 20/20\n",
            "219/219 [==============================] - 5s 21ms/step - loss: 0.0094 - val_loss: 0.0085\n"
          ]
        }
      ],
      "source": [
        "np.random.seed(42)\n",
        "tf.random.set_seed(42)\n",
        "\n",
        "model = keras.models.Sequential([\n",
        "    keras.layers.SimpleRNN(20, return_sequences=True, input_shape=[None, 1]),\n",
        "    keras.layers.SimpleRNN(20),\n",
        "    keras.layers.Dense(10)\n",
        "])\n",
        "\n",
        "model.compile(loss=\"mse\", optimizer=\"adam\")\n",
        "history = model.fit(X_train, Y_train, epochs=20,\n",
        "                    validation_data=(X_valid, Y_valid))"
      ]
    },
    {
      "cell_type": "code",
      "execution_count": null,
      "metadata": {
        "id": "BGXON2aJ8vp4"
      },
      "outputs": [],
      "source": [
        "np.random.seed(43)\n",
        "\n",
        "series = generate_time_series(1, 50 + 10) # series.shape = (1,60,1)\n",
        "X_new, Y_new = series[:, :50, :], series[:, -10:, :]\n",
        "Y_pred = model.predict(X_new)[..., np.newaxis] # predict만 한 shape 결과 = (1,10) -> 차수 증가 -> shape = (1,10,1)\n",
        "# 이전과 달리 결과가 (1,10) 이 나오는 건 여기서는 1개의 sample에서 10개의 결과를 얻을 수 있기 때문\n",
        "# 거기서 그래프를 그리고 vector로 결과가 나오는 것을 원하므로 맨 뒤에서 차수를 추가 시키기 -> 이전처럼 두번째에서 하면 sequence로 결과가 바뀜"
      ]
    },
    {
      "cell_type": "code",
      "source": [
        "Y_pred.shape"
      ],
      "metadata": {
        "colab": {
          "base_uri": "https://localhost:8080/"
        },
        "id": "0Wc4gTdmJcbB",
        "outputId": "485ac2ad-d43c-4c15-ff54-7b85f01ae7f7"
      },
      "execution_count": null,
      "outputs": [
        {
          "output_type": "execute_result",
          "data": {
            "text/plain": [
              "(1, 10, 1)"
            ]
          },
          "metadata": {},
          "execution_count": 18
        }
      ]
    },
    {
      "cell_type": "markdown",
      "metadata": {
        "id": "YEYvDiZp8vp4"
      },
      "source": [
        "Now let's create an RNN that predicts the next 10 steps at each time step. That is, instead of just forecasting time steps 50 to 59 based on time steps 0 to 49, it will forecast time steps 1 to 10 at time step 0, then time steps 2 to 11 at time step 1, and so on, and finally it will forecast time steps 50 to 59 at the last time step. Notice that the model is causal: when it makes predictions at any time step, it can only see past time steps."
      ]
    },
    {
      "cell_type": "code",
      "execution_count": null,
      "metadata": {
        "id": "p5xRFhi68vp4"
      },
      "outputs": [],
      "source": [
        "np.random.seed(42)\n",
        "\n",
        "n_steps = 50\n",
        "series = generate_time_series(10000, n_steps + 10) # series.shape = (10000, 60, 1)\n",
        "X_train = series[:7000, :n_steps] # shape = (7000, 50 , 1)\n",
        "X_valid = series[7000:9000, :n_steps]\n",
        "X_test = series[9000:, :n_steps]\n",
        "Y = np.empty((10000, n_steps, 10))\n",
        "for step_ahead in range(1, 10 + 1):\n",
        "    Y[..., step_ahead - 1] = series[..., step_ahead:step_ahead + n_steps, 0]\n",
        "Y_train = Y[:7000]\n",
        "Y_valid = Y[7000:9000]\n",
        "Y_test = Y[9000:]"
      ]
    },
    {
      "cell_type": "code",
      "execution_count": null,
      "metadata": {
        "id": "Rc477jKa8vp5",
        "outputId": "104c4630-3bc0-48fa-9959-b9f5e867654b",
        "colab": {
          "base_uri": "https://localhost:8080/"
        }
      },
      "outputs": [
        {
          "output_type": "execute_result",
          "data": {
            "text/plain": [
              "((7000, 50, 1), (7000, 50, 10))"
            ]
          },
          "metadata": {},
          "execution_count": 20
        }
      ],
      "source": [
        "X_train.shape, Y_train.shape"
      ]
    },
    {
      "cell_type": "code",
      "source": [
        "Y[...].shape, Y[...,1].shape"
      ],
      "metadata": {
        "colab": {
          "base_uri": "https://localhost:8080/"
        },
        "id": "cVix0HyAMj1S",
        "outputId": "17c6bd17-bda7-43b0-bd49-94d4f0b645b9"
      },
      "execution_count": null,
      "outputs": [
        {
          "output_type": "execute_result",
          "data": {
            "text/plain": [
              "((10000, 50, 10), (10000, 50))"
            ]
          },
          "metadata": {},
          "execution_count": 25
        }
      ]
    },
    {
      "cell_type": "code",
      "execution_count": null,
      "metadata": {
        "id": "mexM11O18vp5",
        "outputId": "0f4da0a2-9b20-4168-bf26-a68ce7dbd810",
        "colab": {
          "base_uri": "https://localhost:8080/"
        }
      },
      "outputs": [
        {
          "output_type": "stream",
          "name": "stdout",
          "text": [
            "Epoch 1/20\n",
            "219/219 [==============================] - 7s 24ms/step - loss: 0.0508 - last_time_step_mse: 0.0400 - val_loss: 0.0429 - val_last_time_step_mse: 0.0324\n",
            "Epoch 2/20\n",
            "219/219 [==============================] - 5s 22ms/step - loss: 0.0395 - last_time_step_mse: 0.0283 - val_loss: 0.0363 - val_last_time_step_mse: 0.0260\n",
            "Epoch 3/20\n",
            "219/219 [==============================] - 5s 23ms/step - loss: 0.0325 - last_time_step_mse: 0.0214 - val_loss: 0.0368 - val_last_time_step_mse: 0.0279\n",
            "Epoch 4/20\n",
            "219/219 [==============================] - 5s 22ms/step - loss: 0.0298 - last_time_step_mse: 0.0188 - val_loss: 0.0273 - val_last_time_step_mse: 0.0155\n",
            "Epoch 5/20\n",
            "219/219 [==============================] - 5s 22ms/step - loss: 0.0270 - last_time_step_mse: 0.0149 - val_loss: 0.0266 - val_last_time_step_mse: 0.0163\n",
            "Epoch 6/20\n",
            "219/219 [==============================] - 5s 22ms/step - loss: 0.0250 - last_time_step_mse: 0.0123 - val_loss: 0.0248 - val_last_time_step_mse: 0.0122\n",
            "Epoch 7/20\n",
            "219/219 [==============================] - 5s 22ms/step - loss: 0.0236 - last_time_step_mse: 0.0111 - val_loss: 0.0234 - val_last_time_step_mse: 0.0098\n",
            "Epoch 8/20\n",
            "219/219 [==============================] - 5s 22ms/step - loss: 0.0217 - last_time_step_mse: 0.0087 - val_loss: 0.0220 - val_last_time_step_mse: 0.0095\n",
            "Epoch 9/20\n",
            "219/219 [==============================] - 5s 22ms/step - loss: 0.0217 - last_time_step_mse: 0.0089 - val_loss: 0.0199 - val_last_time_step_mse: 0.0069\n",
            "Epoch 10/20\n",
            "219/219 [==============================] - 5s 22ms/step - loss: 0.0212 - last_time_step_mse: 0.0087 - val_loss: 0.0221 - val_last_time_step_mse: 0.0099\n",
            "Epoch 11/20\n",
            "219/219 [==============================] - 5s 21ms/step - loss: 0.0202 - last_time_step_mse: 0.0078 - val_loss: 0.0199 - val_last_time_step_mse: 0.0074\n",
            "Epoch 12/20\n",
            "219/219 [==============================] - 5s 22ms/step - loss: 0.0199 - last_time_step_mse: 0.0077 - val_loss: 0.0186 - val_last_time_step_mse: 0.0065\n",
            "Epoch 13/20\n",
            "219/219 [==============================] - 5s 21ms/step - loss: 0.0194 - last_time_step_mse: 0.0071 - val_loss: 0.0197 - val_last_time_step_mse: 0.0071\n",
            "Epoch 14/20\n",
            "219/219 [==============================] - 5s 22ms/step - loss: 0.0191 - last_time_step_mse: 0.0071 - val_loss: 0.0188 - val_last_time_step_mse: 0.0068\n",
            "Epoch 15/20\n",
            "219/219 [==============================] - 5s 22ms/step - loss: 0.0191 - last_time_step_mse: 0.0071 - val_loss: 0.0184 - val_last_time_step_mse: 0.0072\n",
            "Epoch 16/20\n",
            "219/219 [==============================] - 5s 22ms/step - loss: 0.0188 - last_time_step_mse: 0.0069 - val_loss: 0.0186 - val_last_time_step_mse: 0.0075\n",
            "Epoch 17/20\n",
            "219/219 [==============================] - 5s 22ms/step - loss: 0.0187 - last_time_step_mse: 0.0067 - val_loss: 0.0186 - val_last_time_step_mse: 0.0073\n",
            "Epoch 18/20\n",
            "219/219 [==============================] - 5s 21ms/step - loss: 0.0186 - last_time_step_mse: 0.0070 - val_loss: 0.0174 - val_last_time_step_mse: 0.0061\n",
            "Epoch 19/20\n",
            "219/219 [==============================] - 5s 22ms/step - loss: 0.0186 - last_time_step_mse: 0.0070 - val_loss: 0.0176 - val_last_time_step_mse: 0.0061\n",
            "Epoch 20/20\n",
            "219/219 [==============================] - 5s 23ms/step - loss: 0.0184 - last_time_step_mse: 0.0068 - val_loss: 0.0185 - val_last_time_step_mse: 0.0071\n"
          ]
        }
      ],
      "source": [
        "np.random.seed(42)\n",
        "tf.random.set_seed(42)\n",
        "\n",
        "model = keras.models.Sequential([\n",
        "    keras.layers.SimpleRNN(20, return_sequences=True, input_shape=[None, 1]),\n",
        "    keras.layers.SimpleRNN(20, return_sequences=True),\n",
        "    keras.layers.TimeDistributed(keras.layers.Dense(10))\n",
        "])\n",
        "\n",
        "def last_time_step_mse(Y_true, Y_pred):\n",
        "    return keras.metrics.mean_squared_error(Y_true[:, -1], Y_pred[:, -1])\n",
        "\n",
        "model.compile(loss=\"mse\", optimizer=keras.optimizers.Adam(learning_rate=0.01), metrics=[last_time_step_mse])\n",
        "history = model.fit(X_train, Y_train, epochs=20,\n",
        "                    validation_data=(X_valid, Y_valid))"
      ]
    },
    {
      "cell_type": "code",
      "execution_count": null,
      "metadata": {
        "id": "-NQSc5Xt8vp5"
      },
      "outputs": [],
      "source": [
        "np.random.seed(43)\n",
        "\n",
        "series = generate_time_series(1, 50 + 10) # series.shape = (1, 60, 1)\n",
        "X_new, Y_new = series[:, :50, :], series[:, 50:, :] # 여기서 y는 sequence 결과를 얻기 위해 이전처럼 차수를 줄이지 X\n",
        "Y_pred = model.predict(X_new)[:, -1][..., np.newaxis] # 맨 마지막이 결과 값이므로 -1로 마지막 결과만 가져오기"
      ]
    },
    {
      "cell_type": "code",
      "source": [
        "Y_pred.shape, model.predict(X_new).shape, model.predict(X_new)[:,-1].shape, model.predict(X_new)[:].shape"
      ],
      "metadata": {
        "colab": {
          "base_uri": "https://localhost:8080/"
        },
        "id": "bJf9FuYQN3MO",
        "outputId": "202bd15d-26b1-4747-fabb-3c24b41750dd"
      },
      "execution_count": null,
      "outputs": [
        {
          "output_type": "execute_result",
          "data": {
            "text/plain": [
              "((1, 10, 1), (1, 50, 10), (1, 10), (1, 50, 10))"
            ]
          },
          "metadata": {},
          "execution_count": 31
        }
      ]
    }
  ],
  "metadata": {
    "kernelspec": {
      "display_name": "Python 3",
      "language": "python",
      "name": "python3"
    },
    "language_info": {
      "codemirror_mode": {
        "name": "ipython",
        "version": 3
      },
      "file_extension": ".py",
      "mimetype": "text/x-python",
      "name": "python",
      "nbconvert_exporter": "python",
      "pygments_lexer": "ipython3",
      "version": "3.7.10"
    },
    "nav_menu": {},
    "toc": {
      "navigate_menu": true,
      "number_sections": true,
      "sideBar": true,
      "threshold": 6,
      "toc_cell": false,
      "toc_section_display": "block",
      "toc_window_display": false
    },
    "colab": {
      "name": "RNN_Prac",
      "provenance": [],
      "collapsed_sections": [
        "VUh9pwIZ8vpk"
      ],
      "include_colab_link": true
    }
  },
  "nbformat": 4,
  "nbformat_minor": 0
}