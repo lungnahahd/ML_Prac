{
  "nbformat": 4,
  "nbformat_minor": 0,
  "metadata": {
    "colab": {
      "name": "Tensorflow_4",
      "provenance": [],
      "authorship_tag": "ABX9TyMbu3Iu8g9XG0V4wQsdngeC",
      "include_colab_link": true
    },
    "kernelspec": {
      "name": "python3",
      "display_name": "Python 3"
    }
  },
  "cells": [
    {
      "cell_type": "markdown",
      "metadata": {
        "id": "view-in-github",
        "colab_type": "text"
      },
      "source": [
        "<a href=\"https://colab.research.google.com/github/lungnahahd/Tensorflow_Prac/blob/main/Tensorflow_4.ipynb\" target=\"_parent\"><img src=\"https://colab.research.google.com/assets/colab-badge.svg\" alt=\"Open In Colab\"/></a>"
      ]
    },
    {
      "cell_type": "code",
      "metadata": {
        "id": "kxwFFbBCerX4"
      },
      "source": [
        "import pandas as pd\r\n",
        "import tensorflow as tf"
      ],
      "execution_count": 1,
      "outputs": []
    },
    {
      "cell_type": "code",
      "metadata": {
        "id": "xqtgy99NezG5"
      },
      "source": [
        "경로 = 'https://raw.githubusercontent.com/blackdew/tensorflow1/master/csv/boston.csv'\r\n",
        "데이터 = pd.read_csv(경로)"
      ],
      "execution_count": 3,
      "outputs": []
    },
    {
      "cell_type": "code",
      "metadata": {
        "colab": {
          "base_uri": "https://localhost:8080/"
        },
        "id": "gW8BBGjmfJva",
        "outputId": "808bed54-f1b5-4d5e-dbf2-17f38393c59c"
      },
      "source": [
        "데이터.shape\r\n",
        "데이터.columns"
      ],
      "execution_count": 6,
      "outputs": [
        {
          "output_type": "execute_result",
          "data": {
            "text/plain": [
              "Index(['crim', 'zn', 'indus', 'chas', 'nox', 'rm', 'age', 'dis', 'rad', 'tax',\n",
              "       'ptratio', 'b', 'lstat', 'medv'],\n",
              "      dtype='object')"
            ]
          },
          "metadata": {
            "tags": []
          },
          "execution_count": 6
        }
      ]
    },
    {
      "cell_type": "code",
      "metadata": {
        "id": "s6MzX2kze93m"
      },
      "source": [
        "원인 = 데이터[['crim', 'zn', 'indus', 'chas', 'nox', 'rm', 'age', 'dis', 'rad', 'tax','ptratio', 'b', 'lstat']]\r\n",
        "결과 = 데이터[['medv']]"
      ],
      "execution_count": 7,
      "outputs": []
    },
    {
      "cell_type": "code",
      "metadata": {
        "id": "8H-Jw45SfW6d"
      },
      "source": [
        "X = tf.keras.layers.Input(shape=[13])\r\n",
        "H = tf.keras.layers.Dense(8)(X)\r\n",
        "H = tf.keras.layers.BatchNormalization()(H)\r\n",
        "H = tf.keras.layers.Activation('swish')(H)\r\n",
        "Y = tf.keras.layers.Dense(1)(H)"
      ],
      "execution_count": 9,
      "outputs": []
    },
    {
      "cell_type": "code",
      "metadata": {
        "id": "vx_EOaiYgh_u"
      },
      "source": [
        "model = tf.keras.models.Model(X,Y)\r\n",
        "model.compile(loss = 'mse')"
      ],
      "execution_count": 10,
      "outputs": []
    },
    {
      "cell_type": "code",
      "metadata": {
        "colab": {
          "base_uri": "https://localhost:8080/"
        },
        "id": "emNnFUFkg5Jk",
        "outputId": "f710c1b9-0035-4720-beee-e070ea24ef60"
      },
      "source": [
        "model.fit(원인, 결과, epochs=1000, verbose=0)"
      ],
      "execution_count": 19,
      "outputs": [
        {
          "output_type": "execute_result",
          "data": {
            "text/plain": [
              "<tensorflow.python.keras.callbacks.History at 0x7fc2cb47e828>"
            ]
          },
          "metadata": {
            "tags": []
          },
          "execution_count": 19
        }
      ]
    },
    {
      "cell_type": "code",
      "metadata": {
        "colab": {
          "base_uri": "https://localhost:8080/"
        },
        "id": "GBMx-DMtg-N9",
        "outputId": "cb4a08bf-82ed-4208-e7a1-5fd57877e23a"
      },
      "source": [
        "model.fit(원인, 결과, epochs=10)"
      ],
      "execution_count": 20,
      "outputs": [
        {
          "output_type": "stream",
          "text": [
            "Epoch 1/10\n",
            "16/16 [==============================] - 0s 2ms/step - loss: 12.5788\n",
            "Epoch 2/10\n",
            "16/16 [==============================] - 0s 1ms/step - loss: 12.0161\n",
            "Epoch 3/10\n",
            "16/16 [==============================] - 0s 1ms/step - loss: 10.0257\n",
            "Epoch 4/10\n",
            "16/16 [==============================] - 0s 1ms/step - loss: 11.9073\n",
            "Epoch 5/10\n",
            "16/16 [==============================] - 0s 1ms/step - loss: 11.2355\n",
            "Epoch 6/10\n",
            "16/16 [==============================] - 0s 1ms/step - loss: 11.3113\n",
            "Epoch 7/10\n",
            "16/16 [==============================] - 0s 1ms/step - loss: 11.7535\n",
            "Epoch 8/10\n",
            "16/16 [==============================] - 0s 1ms/step - loss: 12.9991\n",
            "Epoch 9/10\n",
            "16/16 [==============================] - 0s 1ms/step - loss: 11.0188\n",
            "Epoch 10/10\n",
            "16/16 [==============================] - 0s 1ms/step - loss: 10.5529\n"
          ],
          "name": "stdout"
        },
        {
          "output_type": "execute_result",
          "data": {
            "text/plain": [
              "<tensorflow.python.keras.callbacks.History at 0x7fc2cb4b82e8>"
            ]
          },
          "metadata": {
            "tags": []
          },
          "execution_count": 20
        }
      ]
    },
    {
      "cell_type": "code",
      "metadata": {
        "colab": {
          "base_uri": "https://localhost:8080/"
        },
        "id": "r-mq0xaPhG1k",
        "outputId": "6c5828db-d943-4f45-a284-e1f3cb6c157c"
      },
      "source": [
        "model.predict(원인[:5])"
      ],
      "execution_count": 22,
      "outputs": [
        {
          "output_type": "execute_result",
          "data": {
            "text/plain": [
              "array([[23.614046],\n",
              "       [21.127129],\n",
              "       [29.550282],\n",
              "       [29.483095],\n",
              "       [29.583328]], dtype=float32)"
            ]
          },
          "metadata": {
            "tags": []
          },
          "execution_count": 22
        }
      ]
    },
    {
      "cell_type": "code",
      "metadata": {
        "colab": {
          "base_uri": "https://localhost:8080/",
          "height": 195
        },
        "id": "9zbtKaWnhvLp",
        "outputId": "481fea38-0c4e-418d-8226-f541a21a1c58"
      },
      "source": [
        "결과[:5]"
      ],
      "execution_count": 23,
      "outputs": [
        {
          "output_type": "execute_result",
          "data": {
            "text/html": [
              "<div>\n",
              "<style scoped>\n",
              "    .dataframe tbody tr th:only-of-type {\n",
              "        vertical-align: middle;\n",
              "    }\n",
              "\n",
              "    .dataframe tbody tr th {\n",
              "        vertical-align: top;\n",
              "    }\n",
              "\n",
              "    .dataframe thead th {\n",
              "        text-align: right;\n",
              "    }\n",
              "</style>\n",
              "<table border=\"1\" class=\"dataframe\">\n",
              "  <thead>\n",
              "    <tr style=\"text-align: right;\">\n",
              "      <th></th>\n",
              "      <th>medv</th>\n",
              "    </tr>\n",
              "  </thead>\n",
              "  <tbody>\n",
              "    <tr>\n",
              "      <th>0</th>\n",
              "      <td>24.0</td>\n",
              "    </tr>\n",
              "    <tr>\n",
              "      <th>1</th>\n",
              "      <td>21.6</td>\n",
              "    </tr>\n",
              "    <tr>\n",
              "      <th>2</th>\n",
              "      <td>34.7</td>\n",
              "    </tr>\n",
              "    <tr>\n",
              "      <th>3</th>\n",
              "      <td>33.4</td>\n",
              "    </tr>\n",
              "    <tr>\n",
              "      <th>4</th>\n",
              "      <td>36.2</td>\n",
              "    </tr>\n",
              "  </tbody>\n",
              "</table>\n",
              "</div>"
            ],
            "text/plain": [
              "   medv\n",
              "0  24.0\n",
              "1  21.6\n",
              "2  34.7\n",
              "3  33.4\n",
              "4  36.2"
            ]
          },
          "metadata": {
            "tags": []
          },
          "execution_count": 23
        }
      ]
    }
  ]
}