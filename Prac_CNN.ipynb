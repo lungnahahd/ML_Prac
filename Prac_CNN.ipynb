{
  "nbformat": 4,
  "nbformat_minor": 0,
  "metadata": {
    "colab": {
      "name": "Rock_Paper_Scissors.ipynb",
      "provenance": [],
      "collapsed_sections": [],
      "authorship_tag": "ABX9TyOtcMUgB7lrPDZY9foEGeqg",
      "include_colab_link": true
    },
    "kernelspec": {
      "name": "python3",
      "display_name": "Python 3"
    },
    "language_info": {
      "name": "python"
    }
  },
  "cells": [
    {
      "cell_type": "markdown",
      "metadata": {
        "id": "view-in-github",
        "colab_type": "text"
      },
      "source": [
        "<a href=\"https://colab.research.google.com/github/lungnahahd/Tensorflow_Prac/blob/main/Prac_CNN.ipynb\" target=\"_parent\"><img src=\"https://colab.research.google.com/assets/colab-badge.svg\" alt=\"Open In Colab\"/></a>"
      ]
    },
    {
      "cell_type": "code",
      "execution_count": null,
      "metadata": {
        "colab": {
          "base_uri": "https://localhost:8080/"
        },
        "id": "QzRZwUKttnid",
        "outputId": "6f812471-284b-4937-8575-7ecee7f43fd6"
      },
      "outputs": [
        {
          "output_type": "execute_result",
          "data": {
            "text/plain": [
              "{'test': <PrefetchDataset element_spec=(TensorSpec(shape=(300, 300, 3), dtype=tf.uint8, name=None), TensorSpec(shape=(), dtype=tf.int64, name=None))>,\n",
              " 'train': <PrefetchDataset element_spec=(TensorSpec(shape=(300, 300, 3), dtype=tf.uint8, name=None), TensorSpec(shape=(), dtype=tf.int64, name=None))>}"
            ]
          },
          "metadata": {},
          "execution_count": 30
        }
      ],
      "source": [
        "import tensorflow_datasets as tfds\n",
        "dataset, info = tfds.load(\"rock_paper_scissors\", as_supervised=True, with_info=True)\n",
        "dataset"
      ]
    },
    {
      "cell_type": "code",
      "source": [
        "info.features[\"image\"]"
      ],
      "metadata": {
        "colab": {
          "base_uri": "https://localhost:8080/"
        },
        "id": "BPMkJvRVLy55",
        "outputId": "d24b3f79-3e99-4754-95de-db1bcbc4cc6f"
      },
      "execution_count": null,
      "outputs": [
        {
          "output_type": "execute_result",
          "data": {
            "text/plain": [
              "Image(shape=(300, 300, 3), dtype=tf.uint8)"
            ]
          },
          "metadata": {},
          "execution_count": 31
        }
      ]
    },
    {
      "cell_type": "code",
      "source": [
        "info.splits"
      ],
      "metadata": {
        "colab": {
          "base_uri": "https://localhost:8080/"
        },
        "id": "cUcBrwRyu59u",
        "outputId": "cca30438-e97f-4e6e-e8e4-bf19652e973b"
      },
      "execution_count": null,
      "outputs": [
        {
          "output_type": "execute_result",
          "data": {
            "text/plain": [
              "{'test': <tfds.core.SplitInfo num_examples=372>,\n",
              " 'train': <tfds.core.SplitInfo num_examples=2520>}"
            ]
          },
          "metadata": {},
          "execution_count": 32
        }
      ]
    },
    {
      "cell_type": "code",
      "source": [
        "info.splits[\"train\"]"
      ],
      "metadata": {
        "colab": {
          "base_uri": "https://localhost:8080/"
        },
        "id": "V4u1ilTTvdsr",
        "outputId": "01cea3ea-13ed-45af-f4df-19ae3ef6544f"
      },
      "execution_count": null,
      "outputs": [
        {
          "output_type": "execute_result",
          "data": {
            "text/plain": [
              "<tfds.core.SplitInfo num_examples=2520>"
            ]
          },
          "metadata": {},
          "execution_count": 33
        }
      ]
    },
    {
      "cell_type": "code",
      "source": [
        "class_names = info.features[\"label\"].names\n",
        "class_names"
      ],
      "metadata": {
        "colab": {
          "base_uri": "https://localhost:8080/"
        },
        "id": "JSk63vvPwndr",
        "outputId": "72078cf9-6181-48a7-8c02-0ff719d70d4d"
      },
      "execution_count": null,
      "outputs": [
        {
          "output_type": "execute_result",
          "data": {
            "text/plain": [
              "['rock', 'paper', 'scissors']"
            ]
          },
          "metadata": {},
          "execution_count": 12
        }
      ]
    },
    {
      "cell_type": "code",
      "source": [
        "n_classes = info.features[\"label\"].num_classes\n",
        "dataset_size = info.splits[\"train\"].num_examples\n",
        "dataset_size"
      ],
      "metadata": {
        "colab": {
          "base_uri": "https://localhost:8080/"
        },
        "id": "8vnThBh-wwej",
        "outputId": "520f0461-af6f-490d-bb3a-dd211fdaad48"
      },
      "execution_count": null,
      "outputs": [
        {
          "output_type": "execute_result",
          "data": {
            "text/plain": [
              "2520"
            ]
          },
          "metadata": {},
          "execution_count": 34
        }
      ]
    },
    {
      "cell_type": "markdown",
      "source": [
        "### Dataset을 Training, Validation, Test set으로 나누어 받기"
      ],
      "metadata": {
        "id": "tyHGG8T0yxY9"
      }
    },
    {
      "cell_type": "code",
      "source": [
        "import tensorflow_datasets as tfds\n",
        "import numpy as np\n",
        "\n",
        "test_set_raw, valid_set_raw, train_set_raw = tfds.load(\"rock_paper_scissors\", as_supervised=True,split=[\"train[:10%]\", \"train[10%:25%]\",\"train[25%:]\"])\n",
        "batch_size= 252\n",
        "#train_set =train_set_raw.batch(len(train_set_raw)).prefetch(1)\n",
        "#valid_set = valid_set_raw.batch(len(valid_set_raw)).prefetch(1)\n",
        "#test_set = test_set_raw.batch(len(test_set_raw)).prefetch(1)\n"
      ],
      "metadata": {
        "id": "DlOjmwNAxOrC"
      },
      "execution_count": 1,
      "outputs": []
    },
    {
      "cell_type": "code",
      "source": [
        "import tensorflow as tf\n",
        "from tensorflow import keras\n",
        "\n",
        "#INPUT_IMG_SIZE = 100\n",
        "\n",
        "def change_img(image,label):\n",
        "  image = tf.cast(image, tf.float32)\n",
        "  image = image/ 255.\n",
        "  #image = tf.image.resize(image, [INPUT_IMG_SIZE,INPUT_IMG_SIZE])\n",
        "  return image, label"
      ],
      "metadata": {
        "id": "MTfEJepFUzYb"
      },
      "execution_count": 2,
      "outputs": []
    },
    {
      "cell_type": "markdown",
      "source": [
        "### 모델 1(Fashion MNIST CNN 변형)"
      ],
      "metadata": {
        "id": "oCXIrQNxKL8s"
      }
    },
    {
      "cell_type": "code",
      "source": [
        "from functools import partial\n",
        "batch_size = 32\n",
        "\n",
        "train_set = train_set_raw.map(partial(change_img)).batch(batch_size).prefetch(1)\n",
        "valid_set = valid_set_raw.map(change_img).batch(batch_size).prefetch(1)\n",
        "test_set = test_set_raw.map(change_img).batch(batch_size).prefetch(1)"
      ],
      "metadata": {
        "id": "s1oZi_VeUybI"
      },
      "execution_count": 3,
      "outputs": []
    },
    {
      "cell_type": "markdown",
      "source": [
        "##### 가위 바위 보 데이터 모델"
      ],
      "metadata": {
        "id": "mVdPawwTM5UJ"
      }
    },
    {
      "cell_type": "code",
      "source": [
        "from functools import partial\n",
        "import tensorflow as tf\n",
        "from tensorflow import keras\n",
        "\n",
        "DefaultConv2D = partial(keras.layers.Conv2D, kernel_size=3, activation='relu', padding=\"SAME\")\n",
        "\n",
        "model = keras.models.Sequential([\n",
        "    DefaultConv2D(filters=16, kernel_size=7, input_shape=[300,300,3]),\n",
        "    DefaultConv2D(filters=32),\n",
        "    keras.layers.MaxPooling2D(pool_size=2),\n",
        "    DefaultConv2D(filters=64),\n",
        "    keras.layers.MaxPooling2D(pool_size=2),\n",
        "    DefaultConv2D(filters=64),\n",
        "    keras.layers.MaxPooling2D(pool_size=2),\n",
        "    keras.layers.Flatten(),\n",
        "    keras.layers.Dense(units=32, activation='relu'),\n",
        "    keras.layers.Dropout(0.5),\n",
        "    keras.layers.Dense(units=16, activation='relu'),\n",
        "    keras.layers.Dropout(0.5),\n",
        "    keras.layers.Dense(units=3, activation='softmax'),                                                             \n",
        "])"
      ],
      "metadata": {
        "id": "6niwRB58ymEi"
      },
      "execution_count": 4,
      "outputs": []
    },
    {
      "cell_type": "code",
      "source": [
        "model.compile(loss=\"sparse_categorical_crossentropy\",optimizer=\"nadam\",metrics=[\"accuracy\"])\n",
        "early_stopping = keras.callbacks.EarlyStopping(patience=10, restore_best_weights=True)\n",
        "history = model.fit(train_set, epochs=10, validation_data=valid_set,callbacks=early_stopping)"
      ],
      "metadata": {
        "colab": {
          "base_uri": "https://localhost:8080/"
        },
        "id": "h3w4s-XINBxl",
        "outputId": "d7a7b14b-5f47-4461-9978-4f24ef4573bc"
      },
      "execution_count": 5,
      "outputs": [
        {
          "output_type": "stream",
          "name": "stdout",
          "text": [
            "Epoch 1/10\n",
            "60/60 [==============================] - 507s 8s/step - loss: 1.2754 - accuracy: 0.3688 - val_loss: 1.0935 - val_accuracy: 0.3651\n",
            "Epoch 2/10\n",
            "60/60 [==============================] - 510s 9s/step - loss: 1.0390 - accuracy: 0.5037 - val_loss: 0.8337 - val_accuracy: 0.7593\n",
            "Epoch 3/10\n",
            "60/60 [==============================] - 505s 8s/step - loss: 0.8494 - accuracy: 0.6545 - val_loss: 0.8017 - val_accuracy: 0.6825\n",
            "Epoch 4/10\n",
            "60/60 [==============================] - 508s 8s/step - loss: 0.6810 - accuracy: 0.7704 - val_loss: 0.7674 - val_accuracy: 0.7434\n",
            "Epoch 5/10\n",
            "60/60 [==============================] - 504s 8s/step - loss: 0.5633 - accuracy: 0.8386 - val_loss: 0.3941 - val_accuracy: 0.9921\n",
            "Epoch 6/10\n",
            "60/60 [==============================] - 504s 8s/step - loss: 0.4617 - accuracy: 0.8799 - val_loss: 0.3380 - val_accuracy: 0.9762\n",
            "Epoch 7/10\n",
            "60/60 [==============================] - 506s 8s/step - loss: 0.4039 - accuracy: 0.9101 - val_loss: 0.3103 - val_accuracy: 0.9683\n",
            "Epoch 8/10\n",
            "60/60 [==============================] - 505s 8s/step - loss: 0.3310 - accuracy: 0.9333 - val_loss: 0.2582 - val_accuracy: 0.9974\n",
            "Epoch 9/10\n",
            "60/60 [==============================] - 506s 8s/step - loss: 0.3316 - accuracy: 0.9307 - val_loss: 0.2378 - val_accuracy: 0.9921\n",
            "Epoch 10/10\n",
            "60/60 [==============================] - 505s 8s/step - loss: 0.2871 - accuracy: 0.9497 - val_loss: 0.2204 - val_accuracy: 0.9868\n"
          ]
        }
      ]
    },
    {
      "cell_type": "code",
      "source": [
        "model.evaluate(test_set)"
      ],
      "metadata": {
        "colab": {
          "base_uri": "https://localhost:8080/"
        },
        "id": "8QXu6ulgKop8",
        "outputId": "90815d0c-5818-410d-9760-145972ac18cd"
      },
      "execution_count": 6,
      "outputs": [
        {
          "output_type": "stream",
          "name": "stdout",
          "text": [
            "8/8 [==============================] - 16s 2s/step - loss: 0.2305 - accuracy: 0.9881\n"
          ]
        },
        {
          "output_type": "execute_result",
          "data": {
            "text/plain": [
              "[0.230536550283432, 0.988095223903656]"
            ]
          },
          "metadata": {},
          "execution_count": 6
        }
      ]
    },
    {
      "cell_type": "code",
      "source": [
        "import pandas as pd\n",
        "import matplotlib.pyplot as plt\n",
        "\n",
        "pd.DataFrame(history.history).plot(figsize=(8,5))\n",
        "plt.grid(True)\n",
        "plt.gca().set_ylim(0,1)\n",
        "#save_fig(\"keras_learning_curves_plot\")\n",
        "plt.show()"
      ],
      "metadata": {
        "colab": {
          "base_uri": "https://localhost:8080/",
          "height": 324
        },
        "id": "KsCyoNI-_w5S",
        "outputId": "03158e25-7d23-4150-f120-ce952174cebc"
      },
      "execution_count": 7,
      "outputs": [
        {
          "output_type": "display_data",
          "data": {
            "text/plain": [
              "<Figure size 576x360 with 1 Axes>"
            ],
            "image/png": "[encoded data removed]"
          },
          "metadata": {
            "needs_background": "light"
          }
        }
      ]
    },
    {
      "cell_type": "code",
      "source": [
        ""
      ],
      "metadata": {
        "id": "JxJdmJmF_vfO"
      },
      "execution_count": null,
      "outputs": []
    }
  ]
}