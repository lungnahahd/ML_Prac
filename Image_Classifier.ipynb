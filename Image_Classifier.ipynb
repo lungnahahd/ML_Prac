{
  "cells": [
    {
      "cell_type": "markdown",
      "metadata": {
        "id": "view-in-github",
        "colab_type": "text"
      },
      "source": [
        "<a href=\"https://colab.research.google.com/github/lungnahahd/Tensorflow_Prac/blob/main/Image_Classifier.ipynb\" target=\"_parent\"><img src=\"https://colab.research.google.com/assets/colab-badge.svg\" alt=\"Open In Colab\"/></a>"
      ]
    },
    {
      "cell_type": "markdown",
      "metadata": {
        "id": "IiIGLjEbM2H6"
      },
      "source": [
        "<table align=\"left\">\n",
        "  <td>\n",
        "    <a href=\"https://colab.research.google.com/github/ageron/handson-ml2/blob/master/10_neural_nets_with_keras.ipynb\" target=\"_parent\"><img src=\"https://colab.research.google.com/assets/colab-badge.svg\" alt=\"Open In Colab\"/></a>\n",
        "  </td>\n",
        "  <td>\n",
        "    <a target=\"_blank\" href=\"https://kaggle.com/kernels/welcome?src=https://github.com/ageron/handson-ml2/blob/master/10_neural_nets_with_keras.ipynb\"><img src=\"https://kaggle.com/static/images/open-in-kaggle.svg\" /></a>\n",
        "  </td>\n",
        "</table>"
      ]
    },
    {
      "cell_type": "markdown",
      "metadata": {
        "id": "H0yqQdQwM2IH"
      },
      "source": [
        "# Building an Image Classifier"
      ]
    },
    {
      "cell_type": "markdown",
      "metadata": {
        "id": "8VcDeSvBM2IJ"
      },
      "source": [
        "필요한 Tensorflow(Feat Keras)를 설치하고, 버전을 확인하면서 알맞게 설치되었는지 확인"
      ]
    },
    {
      "cell_type": "code",
      "execution_count": 1,
      "metadata": {
        "id": "LBF7ekOKM2IJ"
      },
      "outputs": [],
      "source": [
        "import matplotlib.pyplot as plt\n",
        "import tensorflow as tf\n",
        "from tensorflow import keras"
      ]
    },
    {
      "cell_type": "code",
      "execution_count": 3,
      "metadata": {
        "id": "7cylKil1M2IK",
        "outputId": "7415e2e1-9697-4292-a754-0cccf0f184a9",
        "colab": {
          "base_uri": "https://localhost:8080/",
          "height": 36
        }
      },
      "outputs": [
        {
          "output_type": "execute_result",
          "data": {
            "text/plain": [
              "'2.8.0'"
            ],
            "application/vnd.google.colaboratory.intrinsic+json": {
              "type": "string"
            }
          },
          "metadata": {},
          "execution_count": 3
        }
      ],
      "source": [
        "tf.__version__ # 텐서플로우 버전 확인"
      ]
    },
    {
      "cell_type": "markdown",
      "source": [
        "Keras에서 지원하는 mnist 데이터 셋을 다운받고, 이를 불러와서 변수에 저장"
      ],
      "metadata": {
        "id": "lt-wKKpmNpMv"
      }
    },
    {
      "cell_type": "code",
      "execution_count": 4,
      "metadata": {
        "id": "v44tYzOCM2IL",
        "outputId": "1144ac6e-89a0-4e4a-fdd6-e85fcf7ab385",
        "colab": {
          "base_uri": "https://localhost:8080/"
        }
      },
      "outputs": [
        {
          "output_type": "stream",
          "name": "stdout",
          "text": [
            "Downloading data from https://storage.googleapis.com/tensorflow/tf-keras-datasets/train-labels-idx1-ubyte.gz\n",
            "32768/29515 [=================================] - 0s 0us/step\n",
            "40960/29515 [=========================================] - 0s 0us/step\n",
            "Downloading data from https://storage.googleapis.com/tensorflow/tf-keras-datasets/train-images-idx3-ubyte.gz\n",
            "26427392/26421880 [==============================] - 0s 0us/step\n",
            "26435584/26421880 [==============================] - 0s 0us/step\n",
            "Downloading data from https://storage.googleapis.com/tensorflow/tf-keras-datasets/t10k-labels-idx1-ubyte.gz\n",
            "16384/5148 [===============================================================================================] - 0s 0us/step\n",
            "Downloading data from https://storage.googleapis.com/tensorflow/tf-keras-datasets/t10k-images-idx3-ubyte.gz\n",
            "4423680/4422102 [==============================] - 0s 0us/step\n",
            "4431872/4422102 [==============================] - 0s 0us/step\n"
          ]
        }
      ],
      "source": [
        "fashion_mnist = keras.datasets.fashion_mnist\n",
        "(X_train_full, y_train_full), (X_test, y_test) = fashion_mnist.load_data() # 이런 형식은 데이터 자체가 지원"
      ]
    },
    {
      "cell_type": "markdown",
      "metadata": {
        "id": "qNuSTlGqM2IL"
      },
      "source": [
        "전체 Train 데이터 이미지는 60000 장이 존재하고, 각 이미지는 28x28 픽셀로 구성"
      ]
    },
    {
      "cell_type": "code",
      "execution_count": 5,
      "metadata": {
        "id": "FwrK3VACM2IM",
        "outputId": "da51d99f-57f6-4ffa-9be2-a6143f679cd2",
        "colab": {
          "base_uri": "https://localhost:8080/"
        }
      },
      "outputs": [
        {
          "output_type": "execute_result",
          "data": {
            "text/plain": [
              "(60000, 28, 28)"
            ]
          },
          "metadata": {},
          "execution_count": 5
        }
      ],
      "source": [
        "X_train_full.shape # 3차원 데이터 출력됨"
      ]
    },
    {
      "cell_type": "markdown",
      "metadata": {
        "id": "hCZ9go_yM2IM"
      },
      "source": [
        "각 픽셀은 0 ~ 255, 총 256 개의 값을 가질 수 있음\n",
        "====> 그 결과 8 비트의 데이터 타입을 가지고 있음"
      ]
    },
    {
      "cell_type": "code",
      "execution_count": 6,
      "metadata": {
        "id": "SfWHe-hQM2IM",
        "outputId": "02ccac43-8fa5-4e9d-9939-c6d407f2d3e5",
        "colab": {
          "base_uri": "https://localhost:8080/"
        }
      },
      "outputs": [
        {
          "output_type": "execute_result",
          "data": {
            "text/plain": [
              "dtype('uint8')"
            ]
          },
          "metadata": {},
          "execution_count": 6
        }
      ],
      "source": [
        "X_train_full.dtype"
      ]
    },
    {
      "cell_type": "markdown",
      "source": [
        "valid와 train 데이터를 나누어서 저장하고, x는 255.(float 타입 형성)으로 나누어주어서 feature Scaling을 진행 //\n",
        "또한 test 데이터 역시 동일한 과정을 진행(단, 해당 예제는 분류 예제이므로 y는 scaling 진행 x)"
      ],
      "metadata": {
        "id": "xW_-Kj-TOdea"
      }
    },
    {
      "cell_type": "code",
      "execution_count": 7,
      "metadata": {
        "id": "SIkASfzYM2IN"
      },
      "outputs": [],
      "source": [
        "X_valid, X_train = X_train_full[:5000] / 255., X_train_full[5000:] / 255. # 데이터를 알맞게 나누고 min-max를 사용\n",
        "y_valid, y_train = y_train_full[:5000], y_train_full[5000:]\n",
        "X_test = X_test / 255. # min-max 사용"
      ]
    },
    {
      "cell_type": "markdown",
      "metadata": {
        "id": "w5VIo9oAM2IN"
      },
      "source": [
        "예시 이미지를 찍어서 확인하는 것"
      ]
    },
    {
      "cell_type": "code",
      "execution_count": 18,
      "metadata": {
        "id": "N2YEoqAtM2IN",
        "outputId": "e981d3ad-fa12-423b-9979-438a39a730ce",
        "colab": {
          "base_uri": "https://localhost:8080/",
          "height": 248
        }
      },
      "outputs": [
        {
          "output_type": "display_data",
          "data": {
            "text/plain": [
              "<Figure size 432x288 with 1 Axes>"
            ],
            "image/png": "[encoded data removed]"
          },
          "metadata": {
            "needs_background": "light"
          }
        }
      ],
      "source": [
        "plt.imshow(X_train[3], cmap=\"binary\") # cmap으로 보여줄 이미지 색깔 옵션 부여\n",
        "plt.axis('off')\n",
        "plt.show()"
      ]
    },
    {
      "cell_type": "markdown",
      "metadata": {
        "id": "ZcGT1VYvM2IO"
      },
      "source": [
        "y_train 데이터를 확인"
      ]
    },
    {
      "cell_type": "code",
      "source": [
        "y_train"
      ],
      "metadata": {
        "colab": {
          "base_uri": "https://localhost:8080/"
        },
        "id": "cwH5hjiFrAcx",
        "outputId": "23db6802-8af2-4047-d509-d36ffba1b9df"
      },
      "execution_count": 23,
      "outputs": [
        {
          "output_type": "execute_result",
          "data": {
            "text/plain": [
              "array([4, 0, 7, ..., 3, 0, 5], dtype=uint8)"
            ]
          },
          "metadata": {},
          "execution_count": 23
        }
      ]
    },
    {
      "cell_type": "code",
      "execution_count": 22,
      "metadata": {
        "id": "yc72twiIM2IO",
        "outputId": "2a370b29-62b9-4abe-cf60-f1d74f6eb1ac",
        "colab": {
          "base_uri": "https://localhost:8080/"
        }
      },
      "outputs": [
        {
          "output_type": "execute_result",
          "data": {
            "text/plain": [
              "(55000,)"
            ]
          },
          "metadata": {},
          "execution_count": 22
        }
      ],
      "source": [
        "y_train.shape #  y_train은 단순 결과만을 출력하므로 1차원 데이터임을 주의!!"
      ]
    },
    {
      "cell_type": "markdown",
      "metadata": {
        "id": "5rUpGHyWM2IO"
      },
      "source": [
        "결과를 원하는 대로 추출하기 위해 선언한 배열"
      ]
    },
    {
      "cell_type": "code",
      "execution_count": 24,
      "metadata": {
        "id": "xPpjBlpIM2IP"
      },
      "outputs": [],
      "source": [
        "class_names = [\"T-shirt/top\", \"Trouser\", \"Pullover\", \"Dress\", \"Coat\",\n",
        "               \"Sandal\", \"Shirt\", \"Sneaker\", \"Bag\", \"Ankle boot\"]"
      ]
    },
    {
      "cell_type": "markdown",
      "metadata": {
        "id": "TPNhNwfUM2IP"
      },
      "source": [
        "So the first image in the training set is a coat:"
      ]
    },
    {
      "cell_type": "code",
      "execution_count": 26,
      "metadata": {
        "id": "mpVhch2WM2IP",
        "outputId": "8373a8f2-2535-4f2e-9140-bef7f5832e34",
        "colab": {
          "base_uri": "https://localhost:8080/",
          "height": 36
        }
      },
      "outputs": [
        {
          "output_type": "execute_result",
          "data": {
            "text/plain": [
              "'Coat'"
            ],
            "application/vnd.google.colaboratory.intrinsic+json": {
              "type": "string"
            }
          },
          "metadata": {},
          "execution_count": 26
        }
      ],
      "source": [
        "class_names[y_train[0]] # 첫 데이터가 맵핑되는 결과를 출력해보기"
      ]
    },
    {
      "cell_type": "markdown",
      "metadata": {
        "id": "qE-XowG3M2IQ"
      },
      "source": [
        "Validation 데이터는 5000장이 존재하고 28,28 픽셀로 되어있기에 데이터 형태 출력에 주의"
      ]
    },
    {
      "cell_type": "code",
      "execution_count": null,
      "metadata": {
        "id": "ASPlKxVbM2IQ",
        "outputId": "9b7b5166-b96d-4f4a-a6d2-6177c1aa9ddc",
        "colab": {
          "base_uri": "https://localhost:8080/"
        }
      },
      "outputs": [
        {
          "output_type": "execute_result",
          "data": {
            "text/plain": [
              "(5000, 28, 28)"
            ]
          },
          "metadata": {},
          "execution_count": 20
        }
      ],
      "source": [
        "X_valid.shape"
      ]
    },
    {
      "cell_type": "code",
      "execution_count": 29,
      "metadata": {
        "id": "MrZfjAnLM2IQ",
        "outputId": "796f155b-4cac-4c83-cd8e-2758b53ca8bf",
        "colab": {
          "base_uri": "https://localhost:8080/"
        }
      },
      "outputs": [
        {
          "output_type": "execute_result",
          "data": {
            "text/plain": [
              "(10000, 28, 28)"
            ]
          },
          "metadata": {},
          "execution_count": 29
        }
      ],
      "source": [
        "X_test.shape"
      ]
    },
    {
      "cell_type": "markdown",
      "metadata": {
        "id": "voBaDEYsM2IQ"
      },
      "source": [
        "Let's take a look at a sample of the images in the dataset:"
      ]
    },
    {
      "cell_type": "code",
      "source": [
        "# 사진을 저장할 경로를 지정하는 부분\n",
        "import os\n",
        "PROJECT_ROOT_DIR = \".\"\n",
        "CHAPTER_ID = \"ann\"\n",
        "IMAGES_PATH = os.path.join(PROJECT_ROOT_DIR, \"images\", CHAPTER_ID)\n",
        "os.makedirs(IMAGES_PATH, exist_ok=True)\n",
        "\n",
        "# 사진 저장을 담당하는 함수\n",
        "def save_fig(fig_id, tight_layout=True, fig_extension=\"png\", resolution=300):\n",
        "    path = os.path.join(IMAGES_PATH, fig_id + \".\" + fig_extension)\n",
        "    print(\"Saving figure\", fig_id)\n",
        "    if tight_layout:\n",
        "        plt.tight_layout() # 보여지는 서브 플롯 간에 올바른 간격을 자동으로 유지\n",
        "    plt.savefig(path, format=fig_extension, dpi=resolution)"
      ],
      "metadata": {
        "id": "6qRJF3QOQlHC"
      },
      "execution_count": 31,
      "outputs": []
    },
    {
      "cell_type": "code",
      "execution_count": 32,
      "metadata": {
        "id": "qeTJ9sONM2IR",
        "outputId": "a47c787d-a84e-4ffb-ff72-370f25abbe38",
        "colab": {
          "base_uri": "https://localhost:8080/",
          "height": 326
        }
      },
      "outputs": [
        {
          "output_type": "stream",
          "name": "stdout",
          "text": [
            "Saving figure fashion_mnist_plot\n"
          ]
        },
        {
          "output_type": "display_data",
          "data": {
            "text/plain": [
              "<Figure size 864x345.6 with 40 Axes>"
            ],
            "image/png": "[encoded data removed]"
          },
          "metadata": {
            "needs_background": "light"
          }
        }
      ],
      "source": [
        "# 전체 이미지를 출력해서 보여주는 부분 \n",
        "n_rows = 4\n",
        "n_cols = 10\n",
        "plt.figure(figsize=(n_cols * 1.2, n_rows * 1.2))\n",
        "for row in range(n_rows):\n",
        "    for col in range(n_cols):\n",
        "        index = n_cols * row + col\n",
        "        plt.subplot(n_rows, n_cols, index + 1)\n",
        "        plt.imshow(X_train[index], cmap=\"binary\", interpolation=\"nearest\")\n",
        "        plt.axis('off')\n",
        "        plt.title(class_names[y_train[index]], fontsize=12)\n",
        "plt.subplots_adjust(wspace=0.2, hspace=0.5)\n",
        "save_fig('fashion_mnist_plot', tight_layout=False)\n",
        "plt.show()"
      ]
    },
    {
      "cell_type": "markdown",
      "source": [
        "모델을 Creating 하는 부분"
      ],
      "metadata": {
        "id": "sxwQylxTv24U"
      }
    },
    {
      "cell_type": "code",
      "source": [
        "import numpy as np"
      ],
      "metadata": {
        "id": "Qu9dd6gTQ4YQ"
      },
      "execution_count": 36,
      "outputs": []
    },
    {
      "cell_type": "markdown",
      "source": [
        "초기 weight의 랜덤 값을 고정시켜서 매번 학습마다 새롭게 지정되는 것을 막음\n",
        "Creating Model 전에 실행시켜 주기! "
      ],
      "metadata": {
        "id": "6shHDDIiwLAR"
      }
    },
    {
      "cell_type": "code",
      "execution_count": 35,
      "metadata": {
        "id": "Fni7-VjnM2IR"
      },
      "outputs": [],
      "source": [
        "keras.backend.clear_session()\n",
        "np.random.seed(42) # 참고로 안에 42 숫자는 임의로 지정 가능\n",
        "tf.random.set_seed(42) # 안에 42 숫자는 임의로 지정 가능"
      ]
    },
    {
      "cell_type": "markdown",
      "source": [
        "**Creating Model #1**\n",
        "add 로 처리해서 모델 생성하기!!"
      ],
      "metadata": {
        "id": "j0m0kmIBwqny"
      }
    },
    {
      "cell_type": "code",
      "execution_count": 33,
      "metadata": {
        "id": "0K4KxPl5M2IR"
      },
      "outputs": [],
      "source": [
        "model = keras.models.Sequential()\n",
        "model.add(keras.layers.Flatten(input_shape=[28, 28]))\n",
        "model.add(keras.layers.Dense(300, activation=\"relu\"))\n",
        "model.add(keras.layers.Dense(100, activation=\"relu\"))\n",
        "model.add(keras.layers.Dense(10, activation=\"softmax\"))"
      ]
    },
    {
      "cell_type": "markdown",
      "source": [
        "**Creating Model #2** List로 넣어주기 => 수업 프린트 내용"
      ],
      "metadata": {
        "id": "_2Fjb9jkxKlG"
      }
    },
    {
      "cell_type": "code",
      "execution_count": null,
      "metadata": {
        "id": "WgWMr-lmM2IR"
      },
      "outputs": [],
      "source": [
        "model = keras.models.Sequential([\n",
        "    keras.layers.Flatten(input_shape=[28, 28]),\n",
        "    keras.layers.Dense(300, activation=\"relu\"),\n",
        "    keras.layers.Dense(100, activation=\"relu\"),\n",
        "    keras.layers.Dense(10, activation=\"softmax\")\n",
        "])"
      ]
    },
    {
      "cell_type": "code",
      "execution_count": 37,
      "metadata": {
        "id": "iYamcwSCM2IS",
        "outputId": "6e347261-2638-4b7e-ab81-6bfcef957237",
        "colab": {
          "base_uri": "https://localhost:8080/"
        }
      },
      "outputs": [
        {
          "output_type": "execute_result",
          "data": {
            "text/plain": [
              "[<keras.layers.core.flatten.Flatten at 0x7fb1d2431390>,\n",
              " <keras.layers.core.dense.Dense at 0x7fb1d2431050>,\n",
              " <keras.layers.core.dense.Dense at 0x7fb1d27d1990>,\n",
              " <keras.layers.core.dense.Dense at 0x7fb1cc230310>]"
            ]
          },
          "metadata": {},
          "execution_count": 37
        }
      ],
      "source": [
        "model.layers # 생성한 모델의 layer들을 확인"
      ]
    },
    {
      "cell_type": "markdown",
      "source": [
        "전체 모델의 형태와 파라미터를 확인"
      ],
      "metadata": {
        "id": "b5szzGrQx-cU"
      }
    },
    {
      "cell_type": "code",
      "execution_count": 38,
      "metadata": {
        "id": "5BSY6kE5M2IS",
        "outputId": "aabf978d-924f-40e2-e60c-ce7e1fdf090e",
        "colab": {
          "base_uri": "https://localhost:8080/"
        }
      },
      "outputs": [
        {
          "output_type": "stream",
          "name": "stdout",
          "text": [
            "Model: \"sequential\"\n",
            "_________________________________________________________________\n",
            " Layer (type)                Output Shape              Param #   \n",
            "=================================================================\n",
            " flatten (Flatten)           (None, 784)               0         \n",
            "                                                                 \n",
            " dense (Dense)               (None, 300)               235500    \n",
            "                                                                 \n",
            " dense_1 (Dense)             (None, 100)               30100     \n",
            "                                                                 \n",
            " dense_2 (Dense)             (None, 10)                1010      \n",
            "                                                                 \n",
            "=================================================================\n",
            "Total params: 266,610\n",
            "Trainable params: 266,610\n",
            "Non-trainable params: 0\n",
            "_________________________________________________________________\n"
          ]
        }
      ],
      "source": [
        "model.summary()"
      ]
    },
    {
      "cell_type": "markdown",
      "source": [
        "전체적인 layer의 형태를 그림으로 정리"
      ],
      "metadata": {
        "id": "Zqf0p4gbyoKC"
      }
    },
    {
      "cell_type": "code",
      "execution_count": 39,
      "metadata": {
        "id": "x7k_AD3HM2IS",
        "outputId": "2abb1a4a-f075-49f1-9b57-ae115d992686",
        "colab": {
          "base_uri": "https://localhost:8080/",
          "height": 533
        }
      },
      "outputs": [
        {
          "output_type": "execute_result",
          "data": {
            "text/plain": [
              "<IPython.core.display.Image object>"
            ],
            "image/png": "[encoded data removed]"
          },
          "metadata": {},
          "execution_count": 39
        }
      ],
      "source": [
        "keras.utils.plot_model(model, \"my_fashion_mnist_model.png\", show_shapes=True) # 옆에 작성한 png 이름 대로 아래의 표를 그림을 저장"
      ]
    },
    {
      "cell_type": "code",
      "execution_count": 42,
      "metadata": {
        "id": "1sC12I1QM2IS",
        "outputId": "c08db7d3-758e-4a60-b744-0c6e1dbd2624",
        "colab": {
          "base_uri": "https://localhost:8080/",
          "height": 36
        }
      },
      "outputs": [
        {
          "output_type": "execute_result",
          "data": {
            "text/plain": [
              "'dense'"
            ],
            "application/vnd.google.colaboratory.intrinsic+json": {
              "type": "string"
            }
          },
          "metadata": {},
          "execution_count": 42
        }
      ],
      "source": [
        "hidden1 = model.layers[1]\n",
        "hidden1.name"
      ]
    },
    {
      "cell_type": "code",
      "execution_count": 43,
      "metadata": {
        "id": "V6sewP_VM2IT",
        "outputId": "1708d6f7-f7c5-4420-a73a-17056f3f4a84",
        "colab": {
          "base_uri": "https://localhost:8080/"
        }
      },
      "outputs": [
        {
          "output_type": "execute_result",
          "data": {
            "text/plain": [
              "True"
            ]
          },
          "metadata": {},
          "execution_count": 43
        }
      ],
      "source": [
        "model.get_layer(hidden1.name) is hidden1"
      ]
    },
    {
      "cell_type": "markdown",
      "source": [
        "**중요!!**\n",
        "각 계층에서 weight와 파라미터 받는 결과 잘 확인하기!!"
      ],
      "metadata": {
        "id": "leup5ZqCz73t"
      }
    },
    {
      "cell_type": "code",
      "execution_count": 44,
      "metadata": {
        "id": "7JIcuPmXM2IT"
      },
      "outputs": [],
      "source": [
        "weights, biases = hidden1.get_weights()"
      ]
    },
    {
      "cell_type": "code",
      "execution_count": 45,
      "metadata": {
        "id": "VqFm4xIpM2IT",
        "outputId": "a68d2143-f745-4b5e-dbfa-ec16ba9f1143",
        "colab": {
          "base_uri": "https://localhost:8080/"
        }
      },
      "outputs": [
        {
          "output_type": "execute_result",
          "data": {
            "text/plain": [
              "array([[ 0.00564697,  0.06949197,  0.06067532, ..., -0.05729853,\n",
              "        -0.07381565, -0.0724486 ],\n",
              "       [-0.00228447,  0.07438429, -0.03885133, ...,  0.00934017,\n",
              "        -0.06915569, -0.03900045],\n",
              "       [ 0.05042081, -0.064826  ,  0.01664159, ...,  0.05108191,\n",
              "        -0.06462181,  0.02547596],\n",
              "       ...,\n",
              "       [-0.07192306,  0.06295431,  0.02985815, ..., -0.0346368 ,\n",
              "         0.05090292,  0.05918679],\n",
              "       [ 0.03149067,  0.01979866,  0.01781709, ..., -0.02061   ,\n",
              "         0.01104549,  0.02450431],\n",
              "       [-0.05164539,  0.01921857,  0.01541029, ..., -0.06215887,\n",
              "         0.06442836,  0.02047986]], dtype=float32)"
            ]
          },
          "metadata": {},
          "execution_count": 45
        }
      ],
      "source": [
        "weights # weights는 랜덤하게 부여!!"
      ]
    },
    {
      "cell_type": "code",
      "execution_count": 46,
      "metadata": {
        "id": "5LEQ5u9FM2IT",
        "outputId": "b95485a9-9b6b-40f7-e75f-7d98049fde16",
        "colab": {
          "base_uri": "https://localhost:8080/"
        }
      },
      "outputs": [
        {
          "output_type": "execute_result",
          "data": {
            "text/plain": [
              "(784, 300)"
            ]
          },
          "metadata": {},
          "execution_count": 46
        }
      ],
      "source": [
        "weights.shape"
      ]
    },
    {
      "cell_type": "code",
      "execution_count": 47,
      "metadata": {
        "id": "u_TJVhrDM2IT",
        "outputId": "2c31456b-6c0f-4ee7-d250-2311f3f6211f",
        "colab": {
          "base_uri": "https://localhost:8080/"
        }
      },
      "outputs": [
        {
          "output_type": "execute_result",
          "data": {
            "text/plain": [
              "array([0., 0., 0., 0., 0., 0., 0., 0., 0., 0., 0., 0., 0., 0., 0., 0., 0.,\n",
              "       0., 0., 0., 0., 0., 0., 0., 0., 0., 0., 0., 0., 0., 0., 0., 0., 0.,\n",
              "       0., 0., 0., 0., 0., 0., 0., 0., 0., 0., 0., 0., 0., 0., 0., 0., 0.,\n",
              "       0., 0., 0., 0., 0., 0., 0., 0., 0., 0., 0., 0., 0., 0., 0., 0., 0.,\n",
              "       0., 0., 0., 0., 0., 0., 0., 0., 0., 0., 0., 0., 0., 0., 0., 0., 0.,\n",
              "       0., 0., 0., 0., 0., 0., 0., 0., 0., 0., 0., 0., 0., 0., 0., 0., 0.,\n",
              "       0., 0., 0., 0., 0., 0., 0., 0., 0., 0., 0., 0., 0., 0., 0., 0., 0.,\n",
              "       0., 0., 0., 0., 0., 0., 0., 0., 0., 0., 0., 0., 0., 0., 0., 0., 0.,\n",
              "       0., 0., 0., 0., 0., 0., 0., 0., 0., 0., 0., 0., 0., 0., 0., 0., 0.,\n",
              "       0., 0., 0., 0., 0., 0., 0., 0., 0., 0., 0., 0., 0., 0., 0., 0., 0.,\n",
              "       0., 0., 0., 0., 0., 0., 0., 0., 0., 0., 0., 0., 0., 0., 0., 0., 0.,\n",
              "       0., 0., 0., 0., 0., 0., 0., 0., 0., 0., 0., 0., 0., 0., 0., 0., 0.,\n",
              "       0., 0., 0., 0., 0., 0., 0., 0., 0., 0., 0., 0., 0., 0., 0., 0., 0.,\n",
              "       0., 0., 0., 0., 0., 0., 0., 0., 0., 0., 0., 0., 0., 0., 0., 0., 0.,\n",
              "       0., 0., 0., 0., 0., 0., 0., 0., 0., 0., 0., 0., 0., 0., 0., 0., 0.,\n",
              "       0., 0., 0., 0., 0., 0., 0., 0., 0., 0., 0., 0., 0., 0., 0., 0., 0.,\n",
              "       0., 0., 0., 0., 0., 0., 0., 0., 0., 0., 0., 0., 0., 0., 0., 0., 0.,\n",
              "       0., 0., 0., 0., 0., 0., 0., 0., 0., 0., 0.], dtype=float32)"
            ]
          },
          "metadata": {},
          "execution_count": 47
        }
      ],
      "source": [
        "biases # biases는 0으로 초기화"
      ]
    },
    {
      "cell_type": "code",
      "execution_count": 48,
      "metadata": {
        "id": "orWi1mx9M2IU",
        "outputId": "f7e5167c-2835-4c47-d3cc-13d151218375",
        "colab": {
          "base_uri": "https://localhost:8080/"
        }
      },
      "outputs": [
        {
          "output_type": "execute_result",
          "data": {
            "text/plain": [
              "(300,)"
            ]
          },
          "metadata": {},
          "execution_count": 48
        }
      ],
      "source": [
        "biases.shape"
      ]
    },
    {
      "cell_type": "markdown",
      "source": [
        "위에서 Creating한 모델을 가지고 Compile 진행"
      ],
      "metadata": {
        "id": "fqwp0AUu1hEH"
      }
    },
    {
      "cell_type": "code",
      "execution_count": 49,
      "metadata": {
        "id": "7AZthQBIM2IU"
      },
      "outputs": [],
      "source": [
        "model.compile(loss=\"sparse_categorical_crossentropy\",\n",
        "              optimizer=\"sgd\",\n",
        "              metrics=[\"accuracy\"]) "
      ]
    },
    {
      "cell_type": "markdown",
      "metadata": {
        "id": "ToNBuodjM2IU"
      },
      "source": [
        "위의 코드와 동일하게 아래처럼 작성이 가능"
      ]
    },
    {
      "cell_type": "markdown",
      "metadata": {
        "id": "FmfPyMPDM2IU"
      },
      "source": [
        "```python\n",
        "model.compile(loss=keras.losses.sparse_categorical_crossentropy,\n",
        "              optimizer=keras.optimizers.SGD(),\n",
        "              metrics=[keras.metrics.sparse_categorical_accuracy])\n",
        "```"
      ]
    },
    {
      "cell_type": "markdown",
      "source": [
        "반복 학습 횟수를 30으로 주고, 실제로 모델을 학습시키고 validation도 같이 진행하는 단계(해당 단계의 결과를 history에 저장해서 추후에 활용)"
      ],
      "metadata": {
        "id": "zGkXdjTd2f0i"
      }
    },
    {
      "cell_type": "code",
      "execution_count": 50,
      "metadata": {
        "id": "iiEBO_RHM2IV",
        "outputId": "fc5be800-ad75-4eb6-dc44-212ed4349eb3",
        "colab": {
          "base_uri": "https://localhost:8080/"
        }
      },
      "outputs": [
        {
          "output_type": "stream",
          "name": "stdout",
          "text": [
            "Epoch 1/30\n",
            "1719/1719 [==============================] - 7s 3ms/step - loss: 0.7071 - accuracy: 0.7692 - val_loss: 0.5143 - val_accuracy: 0.8244\n",
            "Epoch 2/30\n",
            "1719/1719 [==============================] - 6s 3ms/step - loss: 0.4862 - accuracy: 0.8288 - val_loss: 0.4341 - val_accuracy: 0.8524\n",
            "Epoch 3/30\n",
            "1719/1719 [==============================] - 6s 3ms/step - loss: 0.4414 - accuracy: 0.8441 - val_loss: 0.5142 - val_accuracy: 0.8070\n",
            "Epoch 4/30\n",
            "1719/1719 [==============================] - 6s 3ms/step - loss: 0.4146 - accuracy: 0.8548 - val_loss: 0.3956 - val_accuracy: 0.8634\n",
            "Epoch 5/30\n",
            "1719/1719 [==============================] - 6s 3ms/step - loss: 0.3957 - accuracy: 0.8616 - val_loss: 0.3796 - val_accuracy: 0.8684\n",
            "Epoch 6/30\n",
            "1719/1719 [==============================] - 6s 3ms/step - loss: 0.3770 - accuracy: 0.8677 - val_loss: 0.3720 - val_accuracy: 0.8718\n",
            "Epoch 7/30\n",
            "1719/1719 [==============================] - 6s 3ms/step - loss: 0.3648 - accuracy: 0.8720 - val_loss: 0.3718 - val_accuracy: 0.8728\n",
            "Epoch 8/30\n",
            "1719/1719 [==============================] - 6s 3ms/step - loss: 0.3531 - accuracy: 0.8761 - val_loss: 0.3941 - val_accuracy: 0.8604\n",
            "Epoch 9/30\n",
            "1719/1719 [==============================] - 6s 4ms/step - loss: 0.3428 - accuracy: 0.8789 - val_loss: 0.3565 - val_accuracy: 0.8698\n",
            "Epoch 10/30\n",
            "1719/1719 [==============================] - 6s 3ms/step - loss: 0.3335 - accuracy: 0.8817 - val_loss: 0.3525 - val_accuracy: 0.8738\n",
            "Epoch 11/30\n",
            "1719/1719 [==============================] - 6s 3ms/step - loss: 0.3251 - accuracy: 0.8842 - val_loss: 0.3486 - val_accuracy: 0.8788\n",
            "Epoch 12/30\n",
            "1719/1719 [==============================] - 6s 3ms/step - loss: 0.3164 - accuracy: 0.8873 - val_loss: 0.3370 - val_accuracy: 0.8816\n",
            "Epoch 13/30\n",
            "1719/1719 [==============================] - 6s 3ms/step - loss: 0.3095 - accuracy: 0.8897 - val_loss: 0.3385 - val_accuracy: 0.8838\n",
            "Epoch 14/30\n",
            "1719/1719 [==============================] - 6s 3ms/step - loss: 0.3037 - accuracy: 0.8911 - val_loss: 0.3480 - val_accuracy: 0.8748\n",
            "Epoch 15/30\n",
            "1719/1719 [==============================] - 6s 3ms/step - loss: 0.2958 - accuracy: 0.8939 - val_loss: 0.3297 - val_accuracy: 0.8814\n",
            "Epoch 16/30\n",
            "1719/1719 [==============================] - 6s 3ms/step - loss: 0.2911 - accuracy: 0.8962 - val_loss: 0.3137 - val_accuracy: 0.8884\n",
            "Epoch 17/30\n",
            "1719/1719 [==============================] - 6s 4ms/step - loss: 0.2851 - accuracy: 0.8973 - val_loss: 0.3596 - val_accuracy: 0.8724\n",
            "Epoch 18/30\n",
            "1719/1719 [==============================] - 6s 3ms/step - loss: 0.2793 - accuracy: 0.8990 - val_loss: 0.3162 - val_accuracy: 0.8908\n",
            "Epoch 19/30\n",
            "1719/1719 [==============================] - 6s 4ms/step - loss: 0.2745 - accuracy: 0.9018 - val_loss: 0.3173 - val_accuracy: 0.8904\n",
            "Epoch 20/30\n",
            "1719/1719 [==============================] - 6s 3ms/step - loss: 0.2691 - accuracy: 0.9032 - val_loss: 0.3346 - val_accuracy: 0.8800\n",
            "Epoch 21/30\n",
            "1719/1719 [==============================] - 7s 4ms/step - loss: 0.2641 - accuracy: 0.9058 - val_loss: 0.3059 - val_accuracy: 0.8916\n",
            "Epoch 22/30\n",
            "1719/1719 [==============================] - 6s 3ms/step - loss: 0.2591 - accuracy: 0.9069 - val_loss: 0.2982 - val_accuracy: 0.8920\n",
            "Epoch 23/30\n",
            "1719/1719 [==============================] - 6s 4ms/step - loss: 0.2549 - accuracy: 0.9076 - val_loss: 0.3046 - val_accuracy: 0.8914\n",
            "Epoch 24/30\n",
            "1719/1719 [==============================] - 6s 3ms/step - loss: 0.2501 - accuracy: 0.9099 - val_loss: 0.3059 - val_accuracy: 0.8892\n",
            "Epoch 25/30\n",
            "1719/1719 [==============================] - 6s 3ms/step - loss: 0.2462 - accuracy: 0.9117 - val_loss: 0.3011 - val_accuracy: 0.8942\n",
            "Epoch 26/30\n",
            "1719/1719 [==============================] - 6s 3ms/step - loss: 0.2415 - accuracy: 0.9145 - val_loss: 0.3136 - val_accuracy: 0.8866\n",
            "Epoch 27/30\n",
            "1719/1719 [==============================] - 6s 3ms/step - loss: 0.2382 - accuracy: 0.9140 - val_loss: 0.2992 - val_accuracy: 0.8948\n",
            "Epoch 28/30\n",
            "1719/1719 [==============================] - 6s 3ms/step - loss: 0.2347 - accuracy: 0.9153 - val_loss: 0.3070 - val_accuracy: 0.8880\n",
            "Epoch 29/30\n",
            "1719/1719 [==============================] - 6s 3ms/step - loss: 0.2304 - accuracy: 0.9182 - val_loss: 0.3188 - val_accuracy: 0.8840\n",
            "Epoch 30/30\n",
            "1719/1719 [==============================] - 6s 3ms/step - loss: 0.2269 - accuracy: 0.9190 - val_loss: 0.3092 - val_accuracy: 0.8916\n"
          ]
        }
      ],
      "source": [
        "history = model.fit(X_train, y_train, epochs=30,\n",
        "                    validation_data=(X_valid, y_valid))"
      ]
    },
    {
      "cell_type": "code",
      "execution_count": 52,
      "metadata": {
        "id": "v8XSoM_eM2IV",
        "outputId": "dddc9be7-41e7-4755-ed20-fa10bab8f67c",
        "colab": {
          "base_uri": "https://localhost:8080/"
        }
      },
      "outputs": [
        {
          "output_type": "execute_result",
          "data": {
            "text/plain": [
              "{'epochs': 30, 'steps': 1719, 'verbose': 1}"
            ]
          },
          "metadata": {},
          "execution_count": 52
        }
      ],
      "source": [
        "history.params # 위에서 저장한 학습 내용"
      ]
    },
    {
      "cell_type": "code",
      "execution_count": 53,
      "metadata": {
        "id": "5TXScOtVM2IV",
        "outputId": "6ce39d78-3b8f-4cea-8a57-9788dcd52ccd",
        "colab": {
          "base_uri": "https://localhost:8080/"
        }
      },
      "outputs": [
        {
          "output_type": "stream",
          "name": "stdout",
          "text": [
            "[0, 1, 2, 3, 4, 5, 6, 7, 8, 9, 10, 11, 12, 13, 14, 15, 16, 17, 18, 19, 20, 21, 22, 23, 24, 25, 26, 27, 28, 29]\n"
          ]
        }
      ],
      "source": [
        "print(history.epoch)"
      ]
    },
    {
      "cell_type": "code",
      "execution_count": 54,
      "metadata": {
        "id": "sWCrlTqOM2IW",
        "outputId": "15b2b944-ee1c-4bc4-9af6-9afcf61df463",
        "colab": {
          "base_uri": "https://localhost:8080/"
        }
      },
      "outputs": [
        {
          "output_type": "execute_result",
          "data": {
            "text/plain": [
              "dict_keys(['loss', 'accuracy', 'val_loss', 'val_accuracy'])"
            ]
          },
          "metadata": {},
          "execution_count": 54
        }
      ],
      "source": [
        "history.history.keys()"
      ]
    },
    {
      "cell_type": "markdown",
      "source": [
        "**중요!!**\n",
        "학습 결과 변수를 바탕으로 그래프를 그리는 부분"
      ],
      "metadata": {
        "id": "aqeTpGMi32nM"
      }
    },
    {
      "cell_type": "code",
      "execution_count": 56,
      "metadata": {
        "id": "nMgUWUhVM2IW",
        "outputId": "14d7e882-a1c5-4eac-a379-6717190107e6",
        "colab": {
          "base_uri": "https://localhost:8080/",
          "height": 388
        }
      },
      "outputs": [
        {
          "output_type": "stream",
          "name": "stdout",
          "text": [
            "Saving figure keras_learning_curves_plot\n"
          ]
        },
        {
          "output_type": "display_data",
          "data": {
            "text/plain": [
              "<Figure size 576x360 with 1 Axes>"
            ],
            "image/png": "[encoded data removed]"
          },
          "metadata": {
            "needs_background": "light"
          }
        }
      ],
      "source": [
        "# pandas는 데이터를 저장하고 가공하는 데에 도움을 주는 라이브러리\n",
        "import pandas as pd\n",
        "\n",
        "pd.DataFrame(history.history).plot(figsize=(8, 5)) # dataframe으로 데이터를 가공하고, plot()으로 해당 데이터를 활용해서 line 그래프 그리기\n",
        "plt.grid(True) # 그래프에 격자를 설정\n",
        "plt.gca().set_ylim(0, 1) # y축의 범위를 지정하는 부분\n",
        "save_fig(\"keras_learning_curves_plot\")\n",
        "plt.show()"
      ]
    },
    {
      "cell_type": "markdown",
      "source": [
        "Test 데이터를 활용해서 해당 모델을 **Evaluate(평가)** 하는 과정"
      ],
      "metadata": {
        "id": "-opeFzJi6Efj"
      }
    },
    {
      "cell_type": "code",
      "execution_count": 57,
      "metadata": {
        "id": "LpcVdNjVM2IW",
        "outputId": "3c298bdc-79a7-4d45-c1f9-b5c79733f908",
        "colab": {
          "base_uri": "https://localhost:8080/"
        }
      },
      "outputs": [
        {
          "output_type": "stream",
          "name": "stdout",
          "text": [
            "313/313 [==============================] - 1s 2ms/step - loss: 0.3372 - accuracy: 0.8819\n"
          ]
        },
        {
          "output_type": "execute_result",
          "data": {
            "text/plain": [
              "[0.33721309900283813, 0.8819000124931335]"
            ]
          },
          "metadata": {},
          "execution_count": 57
        }
      ],
      "source": [
        "model.evaluate(X_test, y_test)"
      ]
    },
    {
      "cell_type": "markdown",
      "source": [
        "학습된 모델을 바탕으로 **predict** 하기!!"
      ],
      "metadata": {
        "id": "If-E6YCF6TzE"
      }
    },
    {
      "cell_type": "code",
      "execution_count": 59,
      "metadata": {
        "id": "WhUfzp0dM2IW",
        "outputId": "a5b56003-347b-41e4-b9b0-a768e5f75ecd",
        "colab": {
          "base_uri": "https://localhost:8080/"
        }
      },
      "outputs": [
        {
          "output_type": "execute_result",
          "data": {
            "text/plain": [
              "array([[0.  , 0.  , 0.  , 0.  , 0.  , 0.02, 0.  , 0.02, 0.  , 0.96],\n",
              "       [0.  , 0.  , 0.99, 0.  , 0.01, 0.  , 0.  , 0.  , 0.  , 0.  ],\n",
              "       [0.  , 1.  , 0.  , 0.  , 0.  , 0.  , 0.  , 0.  , 0.  , 0.  ],\n",
              "       [0.  , 1.  , 0.  , 0.  , 0.  , 0.  , 0.  , 0.  , 0.  , 0.  ],\n",
              "       [0.16, 0.  , 0.02, 0.  , 0.  , 0.  , 0.82, 0.  , 0.  , 0.  ]],\n",
              "      dtype=float32)"
            ]
          },
          "metadata": {},
          "execution_count": 59
        }
      ],
      "source": [
        "# 마지막 계층에서 SoftMax를 사용해서 출력값을 확률로 표현!!\n",
        "X_new = X_test[:5]\n",
        "y_proba = model.predict(X_new)\n",
        "y_proba.round(2)"
      ]
    },
    {
      "cell_type": "markdown",
      "metadata": {
        "id": "fuIn2QacM2IX"
      },
      "source": [
        "**Warning**: `model.predict_classes(X_new)` is deprecated. It is replaced with `np.argmax(model.predict(X_new), axis=-1)`."
      ]
    },
    {
      "cell_type": "code",
      "execution_count": 60,
      "metadata": {
        "id": "FjlXJTUvM2IX",
        "outputId": "f01c5633-0a18-4824-bad2-046474b80bd7",
        "colab": {
          "base_uri": "https://localhost:8080/"
        }
      },
      "outputs": [
        {
          "output_type": "execute_result",
          "data": {
            "text/plain": [
              "array([9, 2, 1, 1, 6])"
            ]
          },
          "metadata": {},
          "execution_count": 60
        }
      ],
      "source": [
        "#y_pred = model.predict_classes(X_new) # deprecated\n",
        "# 물론 결과가 one-hot 벡터는 아니지만, 아래의 argmax를 활용해서 axis=-1 즉, 각 배열에서 y 값이 가장 큰 인덱스를 반환!!\n",
        "y_pred = np.argmax(model.predict(X_new), axis=-1)\n",
        "y_pred"
      ]
    },
    {
      "cell_type": "code",
      "execution_count": 62,
      "metadata": {
        "id": "Y3N4EDGlM2IX",
        "outputId": "022794bc-5009-44c8-87e3-2486f0b3cd7e",
        "colab": {
          "base_uri": "https://localhost:8080/"
        }
      },
      "outputs": [
        {
          "output_type": "execute_result",
          "data": {
            "text/plain": [
              "array(['Ankle boot', 'Pullover', 'Trouser', 'Trouser', 'Shirt'],\n",
              "      dtype='<U11')"
            ]
          },
          "metadata": {},
          "execution_count": 62
        }
      ],
      "source": [
        "np.array(class_names)[y_pred] # 위의 결과를 앞서 지정한 네임드로 맵핑!"
      ]
    },
    {
      "cell_type": "code",
      "execution_count": 63,
      "metadata": {
        "id": "nlVD4jWfM2IY",
        "outputId": "21603feb-5f67-4355-acad-6c8aadcbc2f3",
        "colab": {
          "base_uri": "https://localhost:8080/"
        }
      },
      "outputs": [
        {
          "output_type": "execute_result",
          "data": {
            "text/plain": [
              "array([9, 2, 1, 1, 6], dtype=uint8)"
            ]
          },
          "metadata": {},
          "execution_count": 63
        }
      ],
      "source": [
        "# 위의 예측 결과가 실제 결과 값과 잘 일치하는지를 확인하는 것\n",
        "y_new = y_test[:5]\n",
        "y_new"
      ]
    },
    {
      "cell_type": "code",
      "execution_count": 64,
      "metadata": {
        "id": "q5-L2GSvM2IZ",
        "outputId": "a223f585-3a4b-4a07-f9ae-40c901288c81",
        "colab": {
          "base_uri": "https://localhost:8080/",
          "height": 134
        }
      },
      "outputs": [
        {
          "output_type": "stream",
          "name": "stdout",
          "text": [
            "Saving figure fashion_mnist_images_plot\n"
          ]
        },
        {
          "output_type": "display_data",
          "data": {
            "text/plain": [
              "<Figure size 518.4x172.8 with 5 Axes>"
            ],
            "image/png": "[encoded data removed]"
          },
          "metadata": {
            "needs_background": "light"
          }
        }
      ],
      "source": [
        "plt.figure(figsize=(7.2, 2.4))\n",
        "for index, image in enumerate(X_new):\n",
        "    plt.subplot(1, 5, index + 1)\n",
        "    plt.imshow(image, cmap=\"binary\", interpolation=\"nearest\")\n",
        "    plt.axis('off')\n",
        "    plt.title(class_names[y_test[index]], fontsize=12)\n",
        "plt.subplots_adjust(wspace=0.2, hspace=0.5)\n",
        "save_fig('fashion_mnist_images_plot', tight_layout=False)\n",
        "plt.show()"
      ]
    }
  ],
  "metadata": {
    "kernelspec": {
      "display_name": "Python 3",
      "language": "python",
      "name": "python3"
    },
    "language_info": {
      "codemirror_mode": {
        "name": "ipython",
        "version": 3
      },
      "file_extension": ".py",
      "mimetype": "text/x-python",
      "name": "python",
      "nbconvert_exporter": "python",
      "pygments_lexer": "ipython3",
      "version": "3.7.10"
    },
    "nav_menu": {
      "height": "264px",
      "width": "369px"
    },
    "toc": {
      "navigate_menu": true,
      "number_sections": true,
      "sideBar": true,
      "threshold": 6,
      "toc_cell": false,
      "toc_section_display": "block",
      "toc_window_display": false
    },
    "colab": {
      "name": "Image_Classifier 코드 작성",
      "provenance": [],
      "collapsed_sections": [],
      "include_colab_link": true
    }
  },
  "nbformat": 4,
  "nbformat_minor": 0
}