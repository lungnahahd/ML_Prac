{
  "nbformat": 4,
  "nbformat_minor": 0,
  "metadata": {
    "colab": {
      "name": "5_degree_polynomial_regression.ipynb",
      "provenance": [],
      "authorship_tag": "ABX9TyNLJaJoEHilkHMqlNBWRrYC",
      "include_colab_link": true
    },
    "kernelspec": {
      "name": "python3",
      "display_name": "Python 3"
    },
    "language_info": {
      "name": "python"
    }
  },
  "cells": [
    {
      "cell_type": "markdown",
      "metadata": {
        "id": "view-in-github",
        "colab_type": "text"
      },
      "source": [
        "<a href=\"https://colab.research.google.com/github/lungnahahd/Tensorflow_Prac/blob/main/5_degree_polynomial_regression.ipynb\" target=\"_parent\"><img src=\"https://colab.research.google.com/assets/colab-badge.svg\" alt=\"Open In Colab\"/></a>"
      ]
    },
    {
      "cell_type": "code",
      "metadata": {
        "id": "K61Y53F_nl62"
      },
      "source": [
        "import numpy as np\n",
        "import matplotlib.pyplot as plt"
      ],
      "execution_count": 16,
      "outputs": []
    },
    {
      "cell_type": "code",
      "metadata": {
        "id": "Usi458LynvFm"
      },
      "source": [
        "num_data = 101\n",
        "x_train1 = np.linspace(-1, 1, 101)\n",
        "num_coeffs = 6\n",
        "y_train_coeffs = [1,2,3,4,5,6]\n",
        "y_train = 0"
      ],
      "execution_count": 17,
      "outputs": []
    },
    {
      "cell_type": "code",
      "metadata": {
        "id": "XLhJ9NoppEjp"
      },
      "source": [
        "learning_rate = 0.01\n",
        "training_epochs = 40"
      ],
      "execution_count": 18,
      "outputs": []
    },
    {
      "cell_type": "code",
      "metadata": {
        "id": "XDQ1AaWepWtX"
      },
      "source": [
        "for i in range(num_coeffs):\n",
        "  y_train += y_train_coeffs[i] * np.power(x_train,i)"
      ],
      "execution_count": 19,
      "outputs": []
    },
    {
      "cell_type": "code",
      "metadata": {
        "id": "t3SvQ4TMpjfE"
      },
      "source": [
        "y_train += np.random.randn(*x_train.shape) * 2"
      ],
      "execution_count": 20,
      "outputs": []
    },
    {
      "cell_type": "code",
      "metadata": {
        "id": "JYfEdsY2pt8L"
      },
      "source": [
        "Y = np.matrix(y_train).T\n",
        "X = np.matrix(np.column_stack((np.power(x_train,5), np.power(x_train,4))))\n",
        "X = np.matrix(np.column_stack((X,np.power(x_train,3))))\n",
        "X = np.matrix(np.column_stack((X,np.power(x_train,2))))\n",
        "X = np.matrix(np.column_stack((X,x_train)))\n",
        "X = np.matrix(np.column_stack((X, np.ones(num_data)))) # x_train을 행렬로 변환"
      ],
      "execution_count": 22,
      "outputs": []
    },
    {
      "cell_type": "code",
      "metadata": {
        "id": "DwiAuCcmrPIR"
      },
      "source": [
        "C = X.T * X\n",
        "C_inv = C.I"
      ],
      "execution_count": 23,
      "outputs": []
    },
    {
      "cell_type": "code",
      "metadata": {
        "colab": {
          "base_uri": "https://localhost:8080/"
        },
        "id": "kE5VhCKevxl3",
        "outputId": "4c47a5a4-dd40-4775-8b9c-a2cb56d56a9e"
      },
      "source": [
        "w = C_inv * X.T * Y\n",
        "print(w)"
      ],
      "execution_count": 24,
      "outputs": [
        {
          "output_type": "stream",
          "text": [
            "[[4.21102502]\n",
            " [3.99752045]\n",
            " [6.92038533]\n",
            " [4.16365893]\n",
            " [1.70848804]\n",
            " [1.11377222]]\n"
          ],
          "name": "stdout"
        }
      ]
    },
    {
      "cell_type": "code",
      "metadata": {
        "colab": {
          "base_uri": "https://localhost:8080/",
          "height": 265
        },
        "id": "AIbUNnLEv49V",
        "outputId": "0475f523-c628-439d-82e2-373ee2fc15d9"
      },
      "source": [
        "plt.scatter(x_train, y_train)\n",
        "y_learned = X * w\n",
        "plt.plot(x_train, y_learned , 'r')\n",
        "plt.show()"
      ],
      "execution_count": 25,
      "outputs": [
        {
          "output_type": "display_data",
          "data": {
            "image/png": "[encoded data removed]",
            "text/plain": [
              "<Figure size 432x288 with 1 Axes>"
            ]
          },
          "metadata": {
            "tags": [],
            "needs_background": "light"
          }
        }
      ]
    }
  ]
}