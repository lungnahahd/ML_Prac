{
  "nbformat": 4,
  "nbformat_minor": 0,
  "metadata": {
    "colab": {
      "name": "2_parameter_linear_regression.ipynb",
      "provenance": [],
      "authorship_tag": "ABX9TyPhDtX9sc0Ipx1HOBA1ajq2",
      "include_colab_link": true
    },
    "kernelspec": {
      "name": "python3",
      "display_name": "Python 3"
    },
    "language_info": {
      "name": "python"
    }
  },
  "cells": [
    {
      "cell_type": "markdown",
      "metadata": {
        "id": "view-in-github",
        "colab_type": "text"
      },
      "source": [
        "<a href=\"https://colab.research.google.com/github/lungnahahd/Tensorflow_Prac/blob/main/2_parameter_linear_regression.ipynb\" target=\"_parent\"><img src=\"https://colab.research.google.com/assets/colab-badge.svg\" alt=\"Open In Colab\"/></a>"
      ]
    },
    {
      "cell_type": "code",
      "metadata": {
        "id": "t-2d7U1fkVuK"
      },
      "source": [
        "import numpy as np\n",
        "import matplotlib.pyplot as plt"
      ],
      "execution_count": 3,
      "outputs": []
    },
    {
      "cell_type": "code",
      "metadata": {
        "id": "8Vrw4_dDknPQ"
      },
      "source": [
        "num_data = 101 # 101개 데이터 생성\n",
        "x_train = np.linspace(-1, 1, num_data) # -1부터 1까지 숫자 갯수만큼 배열 생성\n",
        "y_train = 2 * x_train + 1 + np.random.rand(*x_train.shape) * 0.5"
      ],
      "execution_count": 5,
      "outputs": []
    },
    {
      "cell_type": "code",
      "metadata": {
        "id": "ZngbwiIClZyK"
      },
      "source": [
        "X = np.matrix(np.column_stack((x_train, np.ones(num_data)))) # x_train을 행렬로 변환\n",
        "Y = np.matrix(y_train).T # y_train을 행렬로 변환"
      ],
      "execution_count": 7,
      "outputs": []
    },
    {
      "cell_type": "code",
      "metadata": {
        "id": "3IfZIx__l9u7"
      },
      "source": [
        " C = X.T * X\n",
        " C_inv = C.I"
      ],
      "execution_count": 8,
      "outputs": []
    },
    {
      "cell_type": "code",
      "metadata": {
        "colab": {
          "base_uri": "https://localhost:8080/"
        },
        "id": "_FuX37FHmeHk",
        "outputId": "64ae4387-7119-4280-e557-70def90c2c40"
      },
      "source": [
        "w = C_inv * X.T * Y\n",
        "print(w)"
      ],
      "execution_count": 10,
      "outputs": [
        {
          "output_type": "stream",
          "text": [
            "[[2.00812804]\n",
            " [1.24389217]]\n"
          ],
          "name": "stdout"
        }
      ]
    },
    {
      "cell_type": "code",
      "metadata": {
        "colab": {
          "base_uri": "https://localhost:8080/",
          "height": 265
        },
        "id": "Q6t7Dr6Xmud3",
        "outputId": "0416d5bd-92e9-4f3f-a2d4-c47c1f42bb5f"
      },
      "source": [
        "plt.scatter(x_train, y_train)\n",
        "y_learned = X * w\n",
        "plt.plot(x_train, y_learned, 'r')\n",
        "plt.show()"
      ],
      "execution_count": 11,
      "outputs": [
        {
          "output_type": "display_data",
          "data": {
            "image/png": "[encoded data removed]",
            "text/plain": [
              "<Figure size 432x288 with 1 Axes>"
            ]
          },
          "metadata": {
            "tags": [],
            "needs_background": "light"
          }
        }
      ]
    },
    {
      "cell_type": "code",
      "metadata": {
        "id": "mtYB8K96nGTA"
      },
      "source": [
        ""
      ],
      "execution_count": null,
      "outputs": []
    }
  ]
}