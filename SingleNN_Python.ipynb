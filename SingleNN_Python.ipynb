{
  "nbformat": 4,
  "nbformat_minor": 0,
  "metadata": {
    "kernelspec": {
      "display_name": "Python 3",
      "language": "python",
      "name": "python3"
    },
    "language_info": {
      "codemirror_mode": {
        "name": "ipython",
        "version": 3
      },
      "file_extension": ".py",
      "mimetype": "text/x-python",
      "name": "python",
      "nbconvert_exporter": "python",
      "pygments_lexer": "ipython3",
      "version": "3.8.5"
    },
    "colab": {
      "name": "SingleNN_Python.ipynb",
      "provenance": [],
      "include_colab_link": true
    }
  },
  "cells": [
    {
      "cell_type": "markdown",
      "metadata": {
        "id": "view-in-github",
        "colab_type": "text"
      },
      "source": [
        "<a href=\"https://colab.research.google.com/github/lungnahahd/Tensorflow_Prac/blob/main/SingleNN_Python.ipynb\" target=\"_parent\"><img src=\"https://colab.research.google.com/assets/colab-badge.svg\" alt=\"Open In Colab\"/></a>"
      ]
    },
    {
      "cell_type": "code",
      "metadata": {
        "id": "6kUxrG9w0q6h"
      },
      "source": [
        "#################################################################\n",
        "# Single-Layer NN (Numerical Differentiation)\n",
        "#################################################################\n",
        "import numpy as np\n",
        "import matplotlib.pyplot as plt\n",
        "\n",
        "\n",
        "def numerical_gradient(f, x):\n",
        "    h = 1e-4 # 0.0001\n",
        "    grad = np.zeros_like(x)\n",
        "    \n",
        "    it = np.nditer(x, flags=['multi_index'], op_flags=['readwrite'])\n",
        "    while not it.finished:\n",
        "        idx = it.multi_index\n",
        "        tmp_val = x[idx]\n",
        "        x[idx] = float(tmp_val) + h\n",
        "        fxh1 = f(x) # f(x+h)\n",
        "        \n",
        "        x[idx] = tmp_val - h \n",
        "        fxh2 = f(x) # f(x-h)\n",
        "        grad[idx] = (fxh1 - fxh2) / (2*h)\n",
        "        \n",
        "        x[idx] = tmp_val # 값 복원\n",
        "        it.iternext()   \n",
        "        \n",
        "    return grad\n",
        "\n",
        "def sigmoid(x):\n",
        "    return 1/(1+np.exp(-x))\n",
        "\n",
        "def sigmoid_grad(x):\n",
        "    return (1.0 - sigmoid(x)) * sigmoid(x)\n",
        "    \n",
        "def relu(x):\n",
        "   return np.maximum(0, x) \n",
        "\n",
        "def relu_grad(x):\n",
        "    grad = np.zeros(x)\n",
        "    grad[x>=0] = 1\n",
        "    return grad\n",
        "\n",
        "\n",
        "def softmax(x):\n",
        "    if x.ndim == 2:\n",
        "        x = x.T\n",
        "        x = x - np.max(x, axis=0)\n",
        "        y = np.exp(x) / np.sum(np.exp(x), axis=0)\n",
        "        return y.T \n",
        "\n",
        "    x = x - np.max(x) # 오버플로 대책\n",
        "    return np.exp(x) / np.sum(np.exp(x))\n",
        "\n",
        "def cross_entropy_error(y, t):\n",
        "    if y.ndim ==1:\n",
        "        t=t.reshape(1, t.size)\n",
        "        y=y.reshape(1, y.size)   \n",
        "    \n",
        "    batch_size = y.shape[0]\n",
        "    delta = 1e-7\n",
        "    return -np.sum(t*np.log(y+delta)) / batch_size\n",
        "\n",
        "#----------------------------#\n",
        "# Class 정의\n",
        "#----------------------------#\n",
        "class OneLayerNet:\n",
        "\n",
        "    def __init__(self, input_size, output_size, weight_init_std=0.01):\n",
        "        # 가중치 초기화\n",
        "        self.params = {}\n",
        "        self.params['W'] = weight_init_std * np.random.randn(input_size, output_size)\n",
        "        self.params['b'] = np.zeros(output_size)\n",
        "        \n",
        "\n",
        "    def predict(self, x):\n",
        "        W = self.params['W']\n",
        "        b = self.params['b']\n",
        "    \n",
        "        a = np.dot(x, W) + b\n",
        "        y = softmax(a)\n",
        "        \n",
        "        return y\n",
        "        \n",
        "    # x : 입력 데이터, t : 정답 레이블\n",
        "    def loss(self, x, t):\n",
        "        y = self.predict(x)\n",
        "        \n",
        "        return cross_entropy_error(y, t)\n",
        "    \n",
        "    def accuracy(self, x, t):\n",
        "        y = self.predict(x)\n",
        "        y = np.argmax(y, axis=1)\n",
        "        t = np.argmax(t, axis=1)\n",
        "        \n",
        "        accuracy = np.sum(y == t) / float(x.shape[0])\n",
        "        return accuracy\n",
        "        \n",
        "    # x : 입력 데이터, t : 정답 레이블\n",
        "    def numerical_gradient(self, x, t):\n",
        "        loss_W = lambda W: self.loss(x, t)\n",
        "        \n",
        "        grads = {}\n",
        "        grads['W'] = numerical_gradient(loss_W, self.params['W'])\n",
        "        grads['b'] = numerical_gradient(loss_W, self.params['b'])\n",
        "        \n",
        "        return grads\n",
        "        \n",
        "    def gradient(self, x, t):\n",
        "        W = self.params['W']\n",
        "        b = self.params['b']\n",
        "        grads = {}\n",
        "        \n",
        "        batch_num = x.shape[0]\n",
        "        \n",
        "        # forward\n",
        "        a = np.dot(x, W) + b\n",
        "        y = sigmoid(a)\n",
        "        \n",
        "        # backward\n",
        "        dy = (y - t) / batch_num\n",
        "        dz = sigmoid_grad(a) * dy\n",
        "        grads['W'] = np.dot(x.T, dz)\n",
        "        grads['b'] = np.sum(dz, axis=0)   \n",
        "\n",
        "        return grads\n",
        "#----------------------------#\n",
        "# Class 정의 끝\n",
        "#----------------------------#\n",
        "\n"
      ],
      "execution_count": null,
      "outputs": []
    },
    {
      "cell_type": "code",
      "metadata": {
        "id": "me96wM0Y0q6s",
        "outputId": "a7767c27-7352-4382-f0c6-30ebc0cbbb88"
      },
      "source": [
        "# 데이터 읽기\n",
        "from mnist import load_mnist \n",
        "\n",
        "(x_train, t_train), (x_test, t_test) = load_mnist(flatten=True, normalize=True, one_hot_label=True)\n",
        " \n",
        "\n",
        "print(x_train.shape)\n",
        "print(t_train.shape)\n",
        "print(x_test.shape)\n",
        "print(t_test.shape)\n",
        "\n"
      ],
      "execution_count": null,
      "outputs": [
        {
          "output_type": "stream",
          "text": [
            "(60000, 784)\n",
            "(60000, 10)\n",
            "(10000, 784)\n",
            "(10000, 10)\n"
          ],
          "name": "stdout"
        }
      ]
    },
    {
      "cell_type": "code",
      "metadata": {
        "id": "lp0EXLdv0q6u",
        "outputId": "f79ad884-a9b9-4b74-8a17-831b1bf77ac0"
      },
      "source": [
        "network = OneLayerNet(input_size=784, output_size=10)\n",
        "\n",
        "# 하이퍼파라미터\n",
        "iters_num = 10000  # 반복 횟수를 적절히 설정한다.\n",
        "train_size = x_train.shape[0]\n",
        "batch_size = 100   # 미니배치 크기\n",
        "learning_rate = 0.1\n",
        "\n",
        "train_loss_list = []\n",
        "train_acc_list = []\n",
        "test_acc_list = []\n",
        "\n",
        "# 1에폭당 반복 수\n",
        "iter_per_epoch = max(train_size / batch_size, 1)\n",
        "\n",
        "for i in range(iters_num):\n",
        "    # 미니배치 획득\n",
        "    batch_mask = np.random.choice(train_size, batch_size)\n",
        "    x_batch = x_train[batch_mask]\n",
        "    t_batch = t_train[batch_mask]\n",
        "    \n",
        "    noise = np.random.rand(100).astype(np.float32)\n",
        "    np.zeros_like(noise)\n",
        "    \n",
        "     \n",
        "    # 기울기 계산\n",
        "    #grad = network.numerical_gradient(x_batch, t_batch)\n",
        "    grad = network.gradient(x_batch, t_batch)\n",
        "    \n",
        "    # 매개변수 갱신\n",
        "    for key in ('W', 'b'):\n",
        "        network.params[key] -= learning_rate * grad[key]\n",
        "    \n",
        "    # 학습 경과 기록\n",
        "    loss = network.loss(x_batch, t_batch)\n",
        "    train_loss_list.append(loss)\n",
        "    \n",
        "    # 1에폭당 정확도 계산\n",
        "    if i % iter_per_epoch == 0:\n",
        "        train_acc = network.accuracy(x_train, t_train)\n",
        "        test_acc = network.accuracy(x_test, t_test)\n",
        "        train_acc_list.append(train_acc)\n",
        "        test_acc_list.append(test_acc)\n",
        "        print(\"i=\", i, \"train acc, test acc | \" + str(train_acc) + \", \" + str(test_acc))\n",
        "\n",
        "# 그래프 그리기\n",
        "markers = {'train': 'o', 'test': 's'}\n",
        "x = np.arange(len(train_acc_list))\n",
        "plt.plot(x, train_acc_list, label='train acc')\n",
        "plt.plot(x, test_acc_list, label='test acc', linestyle='--')\n",
        "plt.xlabel(\"epochs\")\n",
        "plt.ylabel(\"accuracy\")\n",
        "plt.ylim(0, 1.0)\n",
        "plt.legend(loc='lower right')\n",
        "plt.show()"
      ],
      "execution_count": null,
      "outputs": [
        {
          "output_type": "stream",
          "text": [
            "i= 0 train acc, test acc | 0.13571666666666668, 0.1338\n",
            "i= 600 train acc, test acc | 0.8532166666666666, 0.861\n",
            "i= 1200 train acc, test acc | 0.8696666666666667, 0.8783\n",
            "i= 1800 train acc, test acc | 0.8787333333333334, 0.8855\n",
            "i= 2400 train acc, test acc | 0.8825833333333334, 0.8919\n",
            "i= 3000 train acc, test acc | 0.88625, 0.8931\n",
            "i= 3600 train acc, test acc | 0.8895166666666666, 0.8964\n",
            "i= 4200 train acc, test acc | 0.8910833333333333, 0.8986\n",
            "i= 4800 train acc, test acc | 0.8931166666666667, 0.9017\n",
            "i= 5400 train acc, test acc | 0.8944833333333333, 0.9017\n",
            "i= 6000 train acc, test acc | 0.8954166666666666, 0.9029\n",
            "i= 6600 train acc, test acc | 0.8967333333333334, 0.9041\n",
            "i= 7200 train acc, test acc | 0.8977, 0.9053\n",
            "i= 7800 train acc, test acc | 0.8986166666666666, 0.907\n",
            "i= 8400 train acc, test acc | 0.8998166666666667, 0.9081\n",
            "i= 9000 train acc, test acc | 0.9003, 0.9082\n",
            "i= 9600 train acc, test acc | 0.9013, 0.9084\n"
          ],
          "name": "stdout"
        },
        {
          "output_type": "display_data",
          "data": {
            "image/png": "[encoded data removed]",
            "text/plain": [
              "<Figure size 432x288 with 1 Axes>"
            ]
          },
          "metadata": {
            "tags": [],
            "needs_background": "light"
          }
        }
      ]
    },
    {
      "cell_type": "code",
      "metadata": {
        "id": "K2KVrMoB0q6v",
        "outputId": "6d3dc494-e427-47e9-f576-538f0d478293"
      },
      "source": [
        "\n",
        "from PIL import Image\n",
        "\n",
        "def img_show(img):\n",
        "    pil_img = Image.fromarray(np.uint8(img))\n",
        "    pil_img.show()\n",
        "    \n",
        "img = x_train[1]\n",
        "label = t_train[1]\n",
        "\n",
        "print(img.shape)\n",
        "img = img.reshape(28, 28)\n",
        "print(label)\n",
        "print(img.shape)\n",
        "\n",
        "img_show(img)"
      ],
      "execution_count": null,
      "outputs": [
        {
          "output_type": "stream",
          "text": [
            "(784,)\n",
            "[1. 0. 0. 0. 0. 0. 0. 0. 0. 0.]\n",
            "(28, 28)\n"
          ],
          "name": "stdout"
        }
      ]
    },
    {
      "cell_type": "code",
      "metadata": {
        "id": "lEDNM1xr0q6w",
        "outputId": "229d2107-e50d-4db9-caf0-a254a5ebe601"
      },
      "source": [
        "#\n",
        "# Sample Test\n",
        "#\n",
        "id_test = 15\n",
        "\n",
        "img=x_test[id_test]\n",
        "label = t_test[id_test]\n",
        "print(label)\n",
        "out = network.predict(img)\n",
        "out"
      ],
      "execution_count": null,
      "outputs": [
        {
          "output_type": "stream",
          "text": [
            "[0. 0. 0. 0. 0. 1. 0. 0. 0. 0.]\n"
          ],
          "name": "stdout"
        },
        {
          "output_type": "execute_result",
          "data": {
            "text/plain": [
              "array([3.90084229e-03, 3.69723159e-04, 1.26685686e-03, 2.80835669e-02,\n",
              "       2.46291897e-03, 9.49765390e-01, 3.40712931e-04, 1.32817359e-03,\n",
              "       1.24723438e-02, 9.47136788e-06])"
            ]
          },
          "metadata": {
            "tags": []
          },
          "execution_count": 6
        }
      ]
    },
    {
      "cell_type": "code",
      "metadata": {
        "id": "XKWqyLOi0q6w"
      },
      "source": [
        ""
      ],
      "execution_count": null,
      "outputs": []
    }
  ]
}